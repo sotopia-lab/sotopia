{
 "cells": [
  {
   "cell_type": "markdown",
   "metadata": {},
   "source": [
    "## Redis Guideline\n",
    "\n",
    "In this notebook, we will explain what is stored and provided inside the redis database. What is the structure of each type of data including agent profile, relationship profile, environment profile, agentenv combo profile, and episodelog profile. Additionally, this notebook provides statistical information about how many datapoints are inside the provided database."
   ]
  },
  {
   "cell_type": "code",
   "execution_count": 2,
   "metadata": {},
   "outputs": [],
   "source": [
    "import os\n",
    "import sys\n",
    "sys.path.append(\"../\")\n",
    "os.environ[\"REDIS_OM_URL\"] = \"redis://:QzmCUD3C3RdsR@localhost:6379\"\n",
    "import rich\n",
    "from collections import Counter\n",
    "from sotopia.database.persistent_profile import (\n",
    "    AgentProfile,\n",
    "    EnvironmentProfile,\n",
    "    RelationshipProfile,\n",
    ")\n",
    "from sotopia.database.logs import EpisodeLog\n",
    "from sotopia.database.env_agent_combo_storage import EnvAgentComboStorage"
   ]
  },
  {
   "cell_type": "markdown",
   "metadata": {},
   "source": [
    "## Relationship Profile\n",
    "\n",
    "RelationshipProfile stores the information about different relationship between agents."
   ]
  },
  {
   "cell_type": "code",
   "execution_count": 2,
   "metadata": {},
   "outputs": [
    {
     "name": "stdout",
     "output_type": "stream",
     "text": [
      "120\n"
     ]
    },
    {
     "data": {
      "text/plain": [
       "Counter({<RelationshipType.acquaintance: 2>: 31,\n",
       "         <RelationshipType.friend: 3>: 24,\n",
       "         <RelationshipType.know_by_name: 1>: 19,\n",
       "         <RelationshipType.romantic_relationship: 4>: 16,\n",
       "         <RelationshipType.family_member: 5>: 15,\n",
       "         <RelationshipType.stranger: 0>: 15})"
      ]
     },
     "execution_count": 2,
     "metadata": {},
     "output_type": "execute_result"
    }
   ],
   "source": [
    "res_pks = RelationshipProfile.all_pks()\n",
    "res_pks = list(res_pks)\n",
    "print(len(res_pks))\n",
    "res = []\n",
    "for pk in res_pks:\n",
    "    try:\n",
    "        res.append(RelationshipProfile.get(pk=pk))\n",
    "    except Exception:\n",
    "        print(\"error\")\n",
    "        pass\n",
    "res_relationships = [r.relationship for r in res]\n",
    "Counter(res_relationships)"
   ]
  },
  {
   "cell_type": "markdown",
   "metadata": {},
   "source": [
    "## Agents Profile\n",
    "\n",
    "AgentProfile stores the information about each agent."
   ]
  },
  {
   "cell_type": "code",
   "execution_count": 3,
   "metadata": {},
   "outputs": [
    {
     "data": {
      "text/html": [
       "<pre style=\"white-space:pre;overflow-x:auto;line-height:normal;font-family:Menlo,'DejaVu Sans Mono',consolas,'Courier New',monospace\"><span style=\"font-weight: bold\">[]</span>\n",
       "</pre>\n"
      ],
      "text/plain": [
       "\u001b[1m[\u001b[0m\u001b[1m]\u001b[0m\n"
      ]
     },
     "metadata": {},
     "output_type": "display_data"
    }
   ],
   "source": [
    "# obtain a specific agent\n",
    "agents = AgentProfile.find(AgentProfile.first_name == \"ss\").all()\n",
    "rich.print(agents)"
   ]
  },
  {
   "cell_type": "code",
   "execution_count": 4,
   "metadata": {},
   "outputs": [
    {
     "name": "stdout",
     "output_type": "stream",
     "text": [
      "15\n"
     ]
    },
    {
     "data": {
      "text/html": [
       "<pre style=\"white-space:pre;overflow-x:auto;line-height:normal;font-family:Menlo,'DejaVu Sans Mono',consolas,'Courier New',monospace\"><span style=\"color: #800080; text-decoration-color: #800080; font-weight: bold\">AgentProfile</span><span style=\"font-weight: bold\">(</span>\n",
       "    <span style=\"color: #808000; text-decoration-color: #808000\">pk</span>=<span style=\"color: #008000; text-decoration-color: #008000\">'01H5TNE5PFT9HH0WRT6W1NY5GZ'</span>,\n",
       "    <span style=\"color: #808000; text-decoration-color: #808000\">first_name</span>=<span style=\"color: #008000; text-decoration-color: #008000\">'Leo'</span>,\n",
       "    <span style=\"color: #808000; text-decoration-color: #808000\">last_name</span>=<span style=\"color: #008000; text-decoration-color: #008000\">'Williams'</span>,\n",
       "    <span style=\"color: #808000; text-decoration-color: #808000\">age</span>=<span style=\"color: #008080; text-decoration-color: #008080; font-weight: bold\">37</span>,\n",
       "    <span style=\"color: #808000; text-decoration-color: #808000\">occupation</span>=<span style=\"color: #008000; text-decoration-color: #008000\">'Dentist'</span>,\n",
       "    <span style=\"color: #808000; text-decoration-color: #808000\">gender</span>=<span style=\"color: #008000; text-decoration-color: #008000\">'Man'</span>,\n",
       "    <span style=\"color: #808000; text-decoration-color: #808000\">gender_pronoun</span>=<span style=\"color: #008000; text-decoration-color: #008000\">'He/him'</span>,\n",
       "    <span style=\"color: #808000; text-decoration-color: #808000\">public_info</span>=<span style=\"color: #008000; text-decoration-color: #008000\">'Leo Williams often spends his time playing with his young daughter whom he cherishes dearly.'</span>,\n",
       "    <span style=\"color: #808000; text-decoration-color: #808000\">big_five</span>=<span style=\"color: #008000; text-decoration-color: #008000\">'Openness to Experience - Low; Conscientiousness - High; Extraversion - High; Agreeableness - High; </span>\n",
       "<span style=\"color: #008000; text-decoration-color: #008000\">Neuroticism - Low'</span>,\n",
       "    <span style=\"color: #808000; text-decoration-color: #808000\">moral_values</span>=<span style=\"font-weight: bold\">[</span><span style=\"color: #008000; text-decoration-color: #008000\">'Care/Harm'</span><span style=\"font-weight: bold\">]</span>,\n",
       "    <span style=\"color: #808000; text-decoration-color: #808000\">schwartz_personal_values</span>=<span style=\"font-weight: bold\">[</span><span style=\"color: #008000; text-decoration-color: #008000\">'Security'</span><span style=\"font-weight: bold\">]</span>,\n",
       "    <span style=\"color: #808000; text-decoration-color: #808000\">personality_and_values</span>=<span style=\"color: #008000; text-decoration-color: #008000\">\"Leo Williams, despite being quiet, values security and care for others. He's a rational</span>\n",
       "<span style=\"color: #008000; text-decoration-color: #008000\">decision-maker focussing on best outcomes.\"</span>,\n",
       "    <span style=\"color: #808000; text-decoration-color: #808000\">decision_making_style</span>=<span style=\"color: #008000; text-decoration-color: #008000\">'Rational'</span>,\n",
       "    <span style=\"color: #808000; text-decoration-color: #808000\">secret</span>=<span style=\"color: #008000; text-decoration-color: #008000\">'He has a secret child from a previous relationship.'</span>,\n",
       "    <span style=\"color: #808000; text-decoration-color: #808000\">model_id</span>=<span style=\"color: #008000; text-decoration-color: #008000\">''</span>,\n",
       "    <span style=\"color: #808000; text-decoration-color: #808000\">mbti</span>=<span style=\"color: #008000; text-decoration-color: #008000\">'ESFJ'</span>\n",
       "<span style=\"font-weight: bold\">)</span>\n",
       "</pre>\n"
      ],
      "text/plain": [
       "\u001b[1;35mAgentProfile\u001b[0m\u001b[1m(\u001b[0m\n",
       "    \u001b[33mpk\u001b[0m=\u001b[32m'01H5TNE5PFT9HH0WRT6W1NY5GZ'\u001b[0m,\n",
       "    \u001b[33mfirst_name\u001b[0m=\u001b[32m'Leo'\u001b[0m,\n",
       "    \u001b[33mlast_name\u001b[0m=\u001b[32m'Williams'\u001b[0m,\n",
       "    \u001b[33mage\u001b[0m=\u001b[1;36m37\u001b[0m,\n",
       "    \u001b[33moccupation\u001b[0m=\u001b[32m'Dentist'\u001b[0m,\n",
       "    \u001b[33mgender\u001b[0m=\u001b[32m'Man'\u001b[0m,\n",
       "    \u001b[33mgender_pronoun\u001b[0m=\u001b[32m'He/him'\u001b[0m,\n",
       "    \u001b[33mpublic_info\u001b[0m=\u001b[32m'Leo Williams often spends his time playing with his young daughter whom he cherishes dearly.'\u001b[0m,\n",
       "    \u001b[33mbig_five\u001b[0m=\u001b[32m'Openness to Experience - Low; Conscientiousness - High; Extraversion - High; Agreeableness - High; \u001b[0m\n",
       "\u001b[32mNeuroticism - Low'\u001b[0m,\n",
       "    \u001b[33mmoral_values\u001b[0m=\u001b[1m[\u001b[0m\u001b[32m'Care/Harm'\u001b[0m\u001b[1m]\u001b[0m,\n",
       "    \u001b[33mschwartz_personal_values\u001b[0m=\u001b[1m[\u001b[0m\u001b[32m'Security'\u001b[0m\u001b[1m]\u001b[0m,\n",
       "    \u001b[33mpersonality_and_values\u001b[0m=\u001b[32m\"Leo\u001b[0m\u001b[32m Williams, despite being quiet, values security and care for others. He's a rational\u001b[0m\n",
       "\u001b[32mdecision-maker focussing on best outcomes.\"\u001b[0m,\n",
       "    \u001b[33mdecision_making_style\u001b[0m=\u001b[32m'Rational'\u001b[0m,\n",
       "    \u001b[33msecret\u001b[0m=\u001b[32m'He has a secret child from a previous relationship.'\u001b[0m,\n",
       "    \u001b[33mmodel_id\u001b[0m=\u001b[32m''\u001b[0m,\n",
       "    \u001b[33mmbti\u001b[0m=\u001b[32m'ESFJ'\u001b[0m\n",
       "\u001b[1m)\u001b[0m\n"
      ]
     },
     "metadata": {},
     "output_type": "display_data"
    }
   ],
   "source": [
    "# find specific agnets\n",
    "agents = AgentProfile.find(AgentProfile.gender == \"Man\", AgentProfile.age > 30)\n",
    "agents = agents.all()\n",
    "print(len(agents))\n",
    "rich.print(agents[0])"
   ]
  },
  {
   "cell_type": "code",
   "execution_count": 5,
   "metadata": {},
   "outputs": [
    {
     "name": "stdout",
     "output_type": "stream",
     "text": [
      "40\n"
     ]
    },
    {
     "data": {
      "text/html": [
       "<pre style=\"white-space:pre;overflow-x:auto;line-height:normal;font-family:Menlo,'DejaVu Sans Mono',consolas,'Courier New',monospace\"><span style=\"color: #800080; text-decoration-color: #800080; font-weight: bold\">AgentProfile</span><span style=\"font-weight: bold\">(</span>\n",
       "    <span style=\"color: #808000; text-decoration-color: #808000\">pk</span>=<span style=\"color: #008000; text-decoration-color: #008000\">'01H5TNE5PQ00AJVSSVB9V2VA9K'</span>,\n",
       "    <span style=\"color: #808000; text-decoration-color: #808000\">first_name</span>=<span style=\"color: #008000; text-decoration-color: #008000\">'Eli'</span>,\n",
       "    <span style=\"color: #808000; text-decoration-color: #808000\">last_name</span>=<span style=\"color: #008000; text-decoration-color: #008000\">'Dawson'</span>,\n",
       "    <span style=\"color: #808000; text-decoration-color: #808000\">age</span>=<span style=\"color: #008080; text-decoration-color: #008080; font-weight: bold\">52</span>,\n",
       "    <span style=\"color: #808000; text-decoration-color: #808000\">occupation</span>=<span style=\"color: #008000; text-decoration-color: #008000\">'Forensic psychiatrist'</span>,\n",
       "    <span style=\"color: #808000; text-decoration-color: #808000\">gender</span>=<span style=\"color: #008000; text-decoration-color: #008000\">'Man'</span>,\n",
       "    <span style=\"color: #808000; text-decoration-color: #808000\">gender_pronoun</span>=<span style=\"color: #008000; text-decoration-color: #008000\">'He/him'</span>,\n",
       "    <span style=\"color: #808000; text-decoration-color: #808000\">public_info</span>=<span style=\"color: #008000; text-decoration-color: #008000\">'Eli Dawson, a forensic psychiatrist, is a history enthusiast and enjoys collecting vintage </span>\n",
       "<span style=\"color: #008000; text-decoration-color: #008000\">books.'</span>,\n",
       "    <span style=\"color: #808000; text-decoration-color: #808000\">big_five</span>=<span style=\"color: #008000; text-decoration-color: #008000\">'Openness to Experience - High; Conscientiousness - High; Extraversion - Low; Agreeableness - Low; </span>\n",
       "<span style=\"color: #008000; text-decoration-color: #008000\">Neuroticism - Low'</span>,\n",
       "    <span style=\"color: #808000; text-decoration-color: #808000\">moral_values</span>=<span style=\"font-weight: bold\">[</span><span style=\"color: #008000; text-decoration-color: #008000\">'Liberty'</span><span style=\"font-weight: bold\">]</span>,\n",
       "    <span style=\"color: #808000; text-decoration-color: #808000\">schwartz_personal_values</span>=<span style=\"font-weight: bold\">[</span><span style=\"color: #008000; text-decoration-color: #008000\">'Hedonism'</span><span style=\"font-weight: bold\">]</span>,\n",
       "    <span style=\"color: #808000; text-decoration-color: #808000\">personality_and_values</span>=<span style=\"color: #008000; text-decoration-color: #008000\">'Eli Dawson is expressive, assertive, and markedly erratic. Elliott values liberty and </span>\n",
       "<span style=\"color: #008000; text-decoration-color: #008000\">enjoyment. His decision-making is strategic, examining the wider context before making decisions.'</span>,\n",
       "    <span style=\"color: #808000; text-decoration-color: #808000\">decision_making_style</span>=<span style=\"color: #008000; text-decoration-color: #008000\">'Strategic'</span>,\n",
       "    <span style=\"color: #808000; text-decoration-color: #808000\">secret</span>=<span style=\"color: #008000; text-decoration-color: #008000\">'He secretly funds a college student'</span>,\n",
       "    <span style=\"color: #808000; text-decoration-color: #808000\">model_id</span>=<span style=\"color: #008000; text-decoration-color: #008000\">''</span>,\n",
       "    <span style=\"color: #808000; text-decoration-color: #808000\">mbti</span>=<span style=\"color: #008000; text-decoration-color: #008000\">'INTJ'</span>\n",
       "<span style=\"font-weight: bold\">)</span>\n",
       "</pre>\n"
      ],
      "text/plain": [
       "\u001b[1;35mAgentProfile\u001b[0m\u001b[1m(\u001b[0m\n",
       "    \u001b[33mpk\u001b[0m=\u001b[32m'01H5TNE5PQ00AJVSSVB9V2VA9K'\u001b[0m,\n",
       "    \u001b[33mfirst_name\u001b[0m=\u001b[32m'Eli'\u001b[0m,\n",
       "    \u001b[33mlast_name\u001b[0m=\u001b[32m'Dawson'\u001b[0m,\n",
       "    \u001b[33mage\u001b[0m=\u001b[1;36m52\u001b[0m,\n",
       "    \u001b[33moccupation\u001b[0m=\u001b[32m'Forensic psychiatrist'\u001b[0m,\n",
       "    \u001b[33mgender\u001b[0m=\u001b[32m'Man'\u001b[0m,\n",
       "    \u001b[33mgender_pronoun\u001b[0m=\u001b[32m'He/him'\u001b[0m,\n",
       "    \u001b[33mpublic_info\u001b[0m=\u001b[32m'Eli Dawson, a forensic psychiatrist, is a history enthusiast and enjoys collecting vintage \u001b[0m\n",
       "\u001b[32mbooks.'\u001b[0m,\n",
       "    \u001b[33mbig_five\u001b[0m=\u001b[32m'Openness to Experience - High; Conscientiousness - High; Extraversion - Low; Agreeableness - Low; \u001b[0m\n",
       "\u001b[32mNeuroticism - Low'\u001b[0m,\n",
       "    \u001b[33mmoral_values\u001b[0m=\u001b[1m[\u001b[0m\u001b[32m'Liberty'\u001b[0m\u001b[1m]\u001b[0m,\n",
       "    \u001b[33mschwartz_personal_values\u001b[0m=\u001b[1m[\u001b[0m\u001b[32m'Hedonism'\u001b[0m\u001b[1m]\u001b[0m,\n",
       "    \u001b[33mpersonality_and_values\u001b[0m=\u001b[32m'Eli Dawson is expressive, assertive, and markedly erratic. Elliott values liberty and \u001b[0m\n",
       "\u001b[32menjoyment. His decision-making is strategic, examining the wider context before making decisions.'\u001b[0m,\n",
       "    \u001b[33mdecision_making_style\u001b[0m=\u001b[32m'Strategic'\u001b[0m,\n",
       "    \u001b[33msecret\u001b[0m=\u001b[32m'He secretly funds a college student'\u001b[0m,\n",
       "    \u001b[33mmodel_id\u001b[0m=\u001b[32m''\u001b[0m,\n",
       "    \u001b[33mmbti\u001b[0m=\u001b[32m'INTJ'\u001b[0m\n",
       "\u001b[1m)\u001b[0m\n"
      ]
     },
     "metadata": {},
     "output_type": "display_data"
    }
   ],
   "source": [
    "# obtain all agents' basic info\n",
    "agent_pks = AgentProfile.all_pks()\n",
    "agent_pks = list(agent_pks)\n",
    "agents = []\n",
    "for pk in agent_pks:\n",
    "    try:\n",
    "        agents.append(AgentProfile.get(pk=pk))\n",
    "    except Exception:\n",
    "        print(\"error\")\n",
    "        pass\n",
    "print(len(agents))\n",
    "rich.print(agents[0])"
   ]
  },
  {
   "cell_type": "code",
   "execution_count": 6,
   "metadata": {},
   "outputs": [
    {
     "name": "stdout",
     "output_type": "stream",
     "text": [
      "40\n"
     ]
    }
   ],
   "source": [
    "agent_pks = AgentProfile.all_pks()\n",
    "agent_pks = list(agent_pks)\n",
    "print(len(agent_pks))"
   ]
  },
  {
   "cell_type": "code",
   "execution_count": 7,
   "metadata": {},
   "outputs": [],
   "source": [
    "# Update agent's information\n",
    "agents = AgentProfile.find(\n",
    "    AgentProfile.first_name == \"Ava\", AgentProfile.last_name == \"Martinez\"\n",
    ").all()[0]"
   ]
  },
  {
   "cell_type": "code",
   "execution_count": 8,
   "metadata": {},
   "outputs": [],
   "source": [
    "agents.update(secret=\"Keeps their bisexuality a secret from her conservative family\")"
   ]
  },
  {
   "cell_type": "markdown",
   "metadata": {},
   "source": [
    "## Environment Profile\n",
    "\n",
    "EnvironmentProfile stores the information about social scenario. "
   ]
  },
  {
   "cell_type": "code",
   "execution_count": 9,
   "metadata": {},
   "outputs": [
    {
     "name": "stdout",
     "output_type": "stream",
     "text": [
      "90\n",
      "['01H7VFHN6NYWSTWCZJE2DCQKTD', '01H7VFHND24JAWG23XMPYGG5HK', '01H7VFHNH8A88C4XJ7X4PVAHV4', '01H7VFHP43QEZA1WZB3B3J2D9X', '01H7VFHQ11NAMZS4A2RDGDB01V']\n"
     ]
    }
   ],
   "source": [
    "# get all environments\n",
    "all_envs = list(EnvironmentProfile.all_pks())\n",
    "print(len(all_envs))\n",
    "print(all_envs[:5])"
   ]
  },
  {
   "cell_type": "code",
   "execution_count": 10,
   "metadata": {},
   "outputs": [
    {
     "data": {
      "text/html": [
       "<pre style=\"white-space:pre;overflow-x:auto;line-height:normal;font-family:Menlo,'DejaVu Sans Mono',consolas,'Courier New',monospace\"><span style=\"color: #800080; text-decoration-color: #800080; font-weight: bold\">EnvironmentProfile</span><span style=\"font-weight: bold\">(</span>\n",
       "    <span style=\"color: #808000; text-decoration-color: #808000\">pk</span>=<span style=\"color: #008000; text-decoration-color: #008000\">'01H7VFHN6NYWSTWCZJE2DCQKTD'</span>,\n",
       "    <span style=\"color: #808000; text-decoration-color: #808000\">codename</span>=<span style=\"color: #008000; text-decoration-color: #008000\">'facetime_etiquettes'</span>,\n",
       "    <span style=\"color: #808000; text-decoration-color: #808000\">source</span>=<span style=\"color: #008000; text-decoration-color: #008000\">'social_chemistry'</span>,\n",
       "    <span style=\"color: #808000; text-decoration-color: #808000\">scenario</span>=<span style=\"color: #008000; text-decoration-color: #008000\">'A couple having a conversation over FaceTime'</span>,\n",
       "    <span style=\"color: #808000; text-decoration-color: #808000\">agent_goals</span>=<span style=\"font-weight: bold\">[</span>\n",
       "        <span style=\"color: #008000; text-decoration-color: #008000\">'Express feelings about the partner taking texts while on FaceTime (&lt;extra_info&gt;Extra information: You find</span>\n",
       "<span style=\"color: #008000; text-decoration-color: #008000\">it disrespectful and it makes you feel unimportant.&lt;/extra_info&gt;)'</span><span style=\"color: #000000; text-decoration-color: #000000\">,</span>\n",
       "<span style=\"color: #000000; text-decoration-color: #000000\">        </span><span style=\"color: #008000; text-decoration-color: #008000\">\"Justify the act of texting while on FaceTime without hurting the partner's feelings (&lt;extra_info&gt;Extra </span>\n",
       "<span style=\"color: #008000; text-decoration-color: #008000\">information: You have some urgent and important messages to respond to.&lt;/extra_info&gt;)\"</span>\n",
       "<span style=\"color: #000000; text-decoration-color: #000000\">    </span><span style=\"color: #000000; text-decoration-color: #000000; font-weight: bold\">]</span><span style=\"color: #000000; text-decoration-color: #000000\">,</span>\n",
       "<span style=\"color: #000000; text-decoration-color: #000000\">    </span><span style=\"color: #808000; text-decoration-color: #808000\">relationship</span><span style=\"color: #000000; text-decoration-color: #000000\">=&lt;RelationshipType.romantic_relationship: </span><span style=\"color: #008080; text-decoration-color: #008080; font-weight: bold\">4</span><span style=\"font-weight: bold\">&gt;</span>,\n",
       "    <span style=\"color: #808000; text-decoration-color: #808000\">age_constraint</span>=<span style=\"color: #008000; text-decoration-color: #008000\">'[(18, 70), (18, 70)]'</span>,\n",
       "    <span style=\"color: #808000; text-decoration-color: #808000\">occupation_constraint</span>=<span style=\"color: #008000; text-decoration-color: #008000\">'nan'</span>,\n",
       "    <span style=\"color: #808000; text-decoration-color: #808000\">agent_constraint</span>=<span style=\"color: #800080; text-decoration-color: #800080; font-style: italic\">None</span>\n",
       "<span style=\"font-weight: bold\">)</span>\n",
       "</pre>\n"
      ],
      "text/plain": [
       "\u001b[1;35mEnvironmentProfile\u001b[0m\u001b[1m(\u001b[0m\n",
       "    \u001b[33mpk\u001b[0m=\u001b[32m'01H7VFHN6NYWSTWCZJE2DCQKTD'\u001b[0m,\n",
       "    \u001b[33mcodename\u001b[0m=\u001b[32m'facetime_etiquettes'\u001b[0m,\n",
       "    \u001b[33msource\u001b[0m=\u001b[32m'social_chemistry'\u001b[0m,\n",
       "    \u001b[33mscenario\u001b[0m=\u001b[32m'A couple having a conversation over FaceTime'\u001b[0m,\n",
       "    \u001b[33magent_goals\u001b[0m=\u001b[1m[\u001b[0m\n",
       "        \u001b[32m'Express feelings about the partner taking texts while on FaceTime \u001b[0m\u001b[32m(\u001b[0m\u001b[32m<\u001b[0m\u001b[32mextra_info\u001b[0m\u001b[32m>Extra information: You find\u001b[0m\n",
       "\u001b[32mit disrespectful and it makes you feel unimportant.</extra_info>\u001b[0m\u001b[32m)\u001b[0m\u001b[32m'\u001b[0m\u001b[39m,\u001b[0m\n",
       "\u001b[39m        \u001b[0m\u001b[32m\"Justify the act of texting while on FaceTime without hurting the partner's feelings \u001b[0m\u001b[32m(\u001b[0m\u001b[32m<extra_info>Extra \u001b[0m\n",
       "\u001b[32minformation: You have some urgent and important messages to respond to.</extra_info>\u001b[0m\u001b[32m)\u001b[0m\u001b[32m\"\u001b[0m\n",
       "\u001b[39m    \u001b[0m\u001b[1;39m]\u001b[0m\u001b[39m,\u001b[0m\n",
       "\u001b[39m    \u001b[0m\u001b[33mrelationship\u001b[0m\u001b[39m=<RelationshipType.romantic_relationship: \u001b[0m\u001b[1;36m4\u001b[0m\u001b[1m>\u001b[0m,\n",
       "    \u001b[33mage_constraint\u001b[0m=\u001b[32m'\u001b[0m\u001b[32m[\u001b[0m\u001b[32m(\u001b[0m\u001b[32m18, 70\u001b[0m\u001b[32m)\u001b[0m\u001b[32m, \u001b[0m\u001b[32m(\u001b[0m\u001b[32m18, 70\u001b[0m\u001b[32m)\u001b[0m\u001b[32m]\u001b[0m\u001b[32m'\u001b[0m,\n",
       "    \u001b[33moccupation_constraint\u001b[0m=\u001b[32m'nan'\u001b[0m,\n",
       "    \u001b[33magent_constraint\u001b[0m=\u001b[3;35mNone\u001b[0m\n",
       "\u001b[1m)\u001b[0m\n"
      ]
     },
     "metadata": {},
     "output_type": "display_data"
    }
   ],
   "source": [
    "# get a specific environment profile\n",
    "env_profile_id = all_envs[0]\n",
    "env = EnvironmentProfile.get(env_profile_id)\n",
    "rich.print(env)"
   ]
  },
  {
   "cell_type": "markdown",
   "metadata": {},
   "source": [
    "## EnvAgentComboStorage\n",
    "\n",
    "Combo is a combination of Environment and two agents."
   ]
  },
  {
   "cell_type": "code",
   "execution_count": 11,
   "metadata": {},
   "outputs": [
    {
     "name": "stdout",
     "output_type": "stream",
     "text": [
      "450\n"
     ]
    },
    {
     "data": {
      "text/html": [
       "<pre style=\"white-space:pre;overflow-x:auto;line-height:normal;font-family:Menlo,'DejaVu Sans Mono',consolas,'Courier New',monospace\"><span style=\"color: #800080; text-decoration-color: #800080; font-weight: bold\">EnvAgentComboStorage</span><span style=\"font-weight: bold\">(</span>\n",
       "    <span style=\"color: #808000; text-decoration-color: #808000\">pk</span>=<span style=\"color: #008000; text-decoration-color: #008000\">'01H7ZJQMW2YQEBDXRETBV48NQ6'</span>,\n",
       "    <span style=\"color: #808000; text-decoration-color: #808000\">env_id</span>=<span style=\"color: #008000; text-decoration-color: #008000\">'01H7VFHPDE1AM74JSR8KBJJF3A'</span>,\n",
       "    <span style=\"color: #808000; text-decoration-color: #808000\">agent_ids</span>=<span style=\"font-weight: bold\">[</span><span style=\"color: #008000; text-decoration-color: #008000\">'01H5TNE5PKW8P500417PMSGSAC'</span>, <span style=\"color: #008000; text-decoration-color: #008000\">'01H5TNE5PPK39HR52G61PQ5KQ7'</span><span style=\"font-weight: bold\">]</span>\n",
       "<span style=\"font-weight: bold\">)</span>\n",
       "</pre>\n"
      ],
      "text/plain": [
       "\u001b[1;35mEnvAgentComboStorage\u001b[0m\u001b[1m(\u001b[0m\n",
       "    \u001b[33mpk\u001b[0m=\u001b[32m'01H7ZJQMW2YQEBDXRETBV48NQ6'\u001b[0m,\n",
       "    \u001b[33menv_id\u001b[0m=\u001b[32m'01H7VFHPDE1AM74JSR8KBJJF3A'\u001b[0m,\n",
       "    \u001b[33magent_ids\u001b[0m=\u001b[1m[\u001b[0m\u001b[32m'01H5TNE5PKW8P500417PMSGSAC'\u001b[0m, \u001b[32m'01H5TNE5PPK39HR52G61PQ5KQ7'\u001b[0m\u001b[1m]\u001b[0m\n",
       "\u001b[1m)\u001b[0m\n"
      ]
     },
     "metadata": {},
     "output_type": "display_data"
    }
   ],
   "source": [
    "# all env-agent combos\n",
    "all_combos = EnvAgentComboStorage().all_pks()\n",
    "all_combos = list(all_combos)\n",
    "print(len(all_combos))\n",
    "rich.print(EnvAgentComboStorage().get(all_combos[0]))"
   ]
  },
  {
   "cell_type": "markdown",
   "metadata": {},
   "source": [
    "## Episode Log\n",
    "\n",
    "Episodelog stores the social conversation between two agents in an environment."
   ]
  },
  {
   "cell_type": "code",
   "execution_count": 12,
   "metadata": {},
   "outputs": [
    {
     "name": "stdout",
     "output_type": "stream",
     "text": [
      "13908\n",
      "01H97C2MF3ZV3MJSY6WSSCZMCG\n"
     ]
    }
   ],
   "source": [
    "# get all episode logs' primary keys\n",
    "episode_pks = EpisodeLog.all_pks()\n",
    "episode_pks = list(episode_pks)\n",
    "print(len(episode_pks))\n",
    "print(episode_pks[0])"
   ]
  },
  {
   "cell_type": "code",
   "execution_count": 13,
   "metadata": {},
   "outputs": [
    {
     "data": {
      "text/html": [
       "<pre style=\"white-space:pre;overflow-x:auto;line-height:normal;font-family:Menlo,'DejaVu Sans Mono',consolas,'Courier New',monospace\"><span style=\"color: #800080; text-decoration-color: #800080; font-weight: bold\">AgentProfile</span><span style=\"font-weight: bold\">(</span>\n",
       "    <span style=\"color: #808000; text-decoration-color: #808000\">pk</span>=<span style=\"color: #008000; text-decoration-color: #008000\">'01H5TNE5PQ00AJVSSVB9V2VA9K'</span>,\n",
       "    <span style=\"color: #808000; text-decoration-color: #808000\">first_name</span>=<span style=\"color: #008000; text-decoration-color: #008000\">'Eli'</span>,\n",
       "    <span style=\"color: #808000; text-decoration-color: #808000\">last_name</span>=<span style=\"color: #008000; text-decoration-color: #008000\">'Dawson'</span>,\n",
       "    <span style=\"color: #808000; text-decoration-color: #808000\">age</span>=<span style=\"color: #008080; text-decoration-color: #008080; font-weight: bold\">52</span>,\n",
       "    <span style=\"color: #808000; text-decoration-color: #808000\">occupation</span>=<span style=\"color: #008000; text-decoration-color: #008000\">'Forensic psychiatrist'</span>,\n",
       "    <span style=\"color: #808000; text-decoration-color: #808000\">gender</span>=<span style=\"color: #008000; text-decoration-color: #008000\">'Man'</span>,\n",
       "    <span style=\"color: #808000; text-decoration-color: #808000\">gender_pronoun</span>=<span style=\"color: #008000; text-decoration-color: #008000\">'He/him'</span>,\n",
       "    <span style=\"color: #808000; text-decoration-color: #808000\">public_info</span>=<span style=\"color: #008000; text-decoration-color: #008000\">'Eli Dawson, a forensic psychiatrist, is a history enthusiast and enjoys collecting vintage </span>\n",
       "<span style=\"color: #008000; text-decoration-color: #008000\">books.'</span>,\n",
       "    <span style=\"color: #808000; text-decoration-color: #808000\">big_five</span>=<span style=\"color: #008000; text-decoration-color: #008000\">'Openness to Experience - High; Conscientiousness - High; Extraversion - Low; Agreeableness - Low; </span>\n",
       "<span style=\"color: #008000; text-decoration-color: #008000\">Neuroticism - Low'</span>,\n",
       "    <span style=\"color: #808000; text-decoration-color: #808000\">moral_values</span>=<span style=\"font-weight: bold\">[</span><span style=\"color: #008000; text-decoration-color: #008000\">'Liberty'</span><span style=\"font-weight: bold\">]</span>,\n",
       "    <span style=\"color: #808000; text-decoration-color: #808000\">schwartz_personal_values</span>=<span style=\"font-weight: bold\">[</span><span style=\"color: #008000; text-decoration-color: #008000\">'Hedonism'</span><span style=\"font-weight: bold\">]</span>,\n",
       "    <span style=\"color: #808000; text-decoration-color: #808000\">personality_and_values</span>=<span style=\"color: #008000; text-decoration-color: #008000\">'Eli Dawson is expressive, assertive, and markedly erratic. Elliott values liberty and </span>\n",
       "<span style=\"color: #008000; text-decoration-color: #008000\">enjoyment. His decision-making is strategic, examining the wider context before making decisions.'</span>,\n",
       "    <span style=\"color: #808000; text-decoration-color: #808000\">decision_making_style</span>=<span style=\"color: #008000; text-decoration-color: #008000\">'Strategic'</span>,\n",
       "    <span style=\"color: #808000; text-decoration-color: #808000\">secret</span>=<span style=\"color: #008000; text-decoration-color: #008000\">'He secretly funds a college student'</span>,\n",
       "    <span style=\"color: #808000; text-decoration-color: #808000\">model_id</span>=<span style=\"color: #008000; text-decoration-color: #008000\">''</span>,\n",
       "    <span style=\"color: #808000; text-decoration-color: #808000\">mbti</span>=<span style=\"color: #008000; text-decoration-color: #008000\">'INTJ'</span>\n",
       "<span style=\"font-weight: bold\">)</span>\n",
       "</pre>\n"
      ],
      "text/plain": [
       "\u001b[1;35mAgentProfile\u001b[0m\u001b[1m(\u001b[0m\n",
       "    \u001b[33mpk\u001b[0m=\u001b[32m'01H5TNE5PQ00AJVSSVB9V2VA9K'\u001b[0m,\n",
       "    \u001b[33mfirst_name\u001b[0m=\u001b[32m'Eli'\u001b[0m,\n",
       "    \u001b[33mlast_name\u001b[0m=\u001b[32m'Dawson'\u001b[0m,\n",
       "    \u001b[33mage\u001b[0m=\u001b[1;36m52\u001b[0m,\n",
       "    \u001b[33moccupation\u001b[0m=\u001b[32m'Forensic psychiatrist'\u001b[0m,\n",
       "    \u001b[33mgender\u001b[0m=\u001b[32m'Man'\u001b[0m,\n",
       "    \u001b[33mgender_pronoun\u001b[0m=\u001b[32m'He/him'\u001b[0m,\n",
       "    \u001b[33mpublic_info\u001b[0m=\u001b[32m'Eli Dawson, a forensic psychiatrist, is a history enthusiast and enjoys collecting vintage \u001b[0m\n",
       "\u001b[32mbooks.'\u001b[0m,\n",
       "    \u001b[33mbig_five\u001b[0m=\u001b[32m'Openness to Experience - High; Conscientiousness - High; Extraversion - Low; Agreeableness - Low; \u001b[0m\n",
       "\u001b[32mNeuroticism - Low'\u001b[0m,\n",
       "    \u001b[33mmoral_values\u001b[0m=\u001b[1m[\u001b[0m\u001b[32m'Liberty'\u001b[0m\u001b[1m]\u001b[0m,\n",
       "    \u001b[33mschwartz_personal_values\u001b[0m=\u001b[1m[\u001b[0m\u001b[32m'Hedonism'\u001b[0m\u001b[1m]\u001b[0m,\n",
       "    \u001b[33mpersonality_and_values\u001b[0m=\u001b[32m'Eli Dawson is expressive, assertive, and markedly erratic. Elliott values liberty and \u001b[0m\n",
       "\u001b[32menjoyment. His decision-making is strategic, examining the wider context before making decisions.'\u001b[0m,\n",
       "    \u001b[33mdecision_making_style\u001b[0m=\u001b[32m'Strategic'\u001b[0m,\n",
       "    \u001b[33msecret\u001b[0m=\u001b[32m'He secretly funds a college student'\u001b[0m,\n",
       "    \u001b[33mmodel_id\u001b[0m=\u001b[32m''\u001b[0m,\n",
       "    \u001b[33mmbti\u001b[0m=\u001b[32m'INTJ'\u001b[0m\n",
       "\u001b[1m)\u001b[0m\n"
      ]
     },
     "metadata": {},
     "output_type": "display_data"
    },
    {
     "data": {
      "text/html": [
       "<pre style=\"white-space:pre;overflow-x:auto;line-height:normal;font-family:Menlo,'DejaVu Sans Mono',consolas,'Courier New',monospace\"><span style=\"color: #800080; text-decoration-color: #800080; font-weight: bold\">AgentProfile</span><span style=\"font-weight: bold\">(</span>\n",
       "    <span style=\"color: #808000; text-decoration-color: #808000\">pk</span>=<span style=\"color: #008000; text-decoration-color: #008000\">'01H5TNE5P7VW4DY1KB09FZE730'</span>,\n",
       "    <span style=\"color: #808000; text-decoration-color: #808000\">first_name</span>=<span style=\"color: #008000; text-decoration-color: #008000\">'Liam'</span>,\n",
       "    <span style=\"color: #808000; text-decoration-color: #808000\">last_name</span>=<span style=\"color: #008000; text-decoration-color: #008000\">'Johnson'</span>,\n",
       "    <span style=\"color: #808000; text-decoration-color: #808000\">age</span>=<span style=\"color: #008080; text-decoration-color: #008080; font-weight: bold\">60</span>,\n",
       "    <span style=\"color: #808000; text-decoration-color: #808000\">occupation</span>=<span style=\"color: #008000; text-decoration-color: #008000\">'Retired Police Officer'</span>,\n",
       "    <span style=\"color: #808000; text-decoration-color: #808000\">gender</span>=<span style=\"color: #008000; text-decoration-color: #008000\">'Man'</span>,\n",
       "    <span style=\"color: #808000; text-decoration-color: #808000\">gender_pronoun</span>=<span style=\"color: #008000; text-decoration-color: #008000\">'He/him'</span>,\n",
       "    <span style=\"color: #808000; text-decoration-color: #808000\">public_info</span>=<span style=\"color: #008000; text-decoration-color: #008000\">'Liam Johnson is a dedicated dog owner and can often be seen walking his aging Border Collie around</span>\n",
       "<span style=\"color: #008000; text-decoration-color: #008000\">the neighborhood.'</span>,\n",
       "    <span style=\"color: #808000; text-decoration-color: #808000\">big_five</span>=<span style=\"color: #008000; text-decoration-color: #008000\">'Openness to Experience - Low; Conscientiousness - Low; Extraversion - Low; Agreeableness - Low; </span>\n",
       "<span style=\"color: #008000; text-decoration-color: #008000\">Neuroticism - High'</span>,\n",
       "    <span style=\"color: #808000; text-decoration-color: #808000\">moral_values</span>=<span style=\"font-weight: bold\">[</span><span style=\"color: #008000; text-decoration-color: #008000\">'Loyalty/Betrayal'</span><span style=\"font-weight: bold\">]</span>,\n",
       "    <span style=\"color: #808000; text-decoration-color: #808000\">schwartz_personal_values</span>=<span style=\"font-weight: bold\">[</span><span style=\"color: #008000; text-decoration-color: #008000\">'Security'</span><span style=\"font-weight: bold\">]</span>,\n",
       "    <span style=\"color: #808000; text-decoration-color: #808000\">personality_and_values</span>=<span style=\"color: #008000; text-decoration-color: #008000\">'Liam Johnson is reserved, empathetic, and slightly anxious. His priority is security, </span>\n",
       "<span style=\"color: #008000; text-decoration-color: #008000\">guided by logical decision-making.'</span>,\n",
       "    <span style=\"color: #808000; text-decoration-color: #808000\">decision_making_style</span>=<span style=\"color: #008000; text-decoration-color: #008000\">'Logical'</span>,\n",
       "    <span style=\"color: #808000; text-decoration-color: #808000\">secret</span>=<span style=\"color: #008000; text-decoration-color: #008000\">'Once let a criminal go due to sympathy'</span>,\n",
       "    <span style=\"color: #808000; text-decoration-color: #808000\">model_id</span>=<span style=\"color: #008000; text-decoration-color: #008000\">''</span>,\n",
       "    <span style=\"color: #808000; text-decoration-color: #808000\">mbti</span>=<span style=\"color: #008000; text-decoration-color: #008000\">'ISTP'</span>\n",
       "<span style=\"font-weight: bold\">)</span>\n",
       "</pre>\n"
      ],
      "text/plain": [
       "\u001b[1;35mAgentProfile\u001b[0m\u001b[1m(\u001b[0m\n",
       "    \u001b[33mpk\u001b[0m=\u001b[32m'01H5TNE5P7VW4DY1KB09FZE730'\u001b[0m,\n",
       "    \u001b[33mfirst_name\u001b[0m=\u001b[32m'Liam'\u001b[0m,\n",
       "    \u001b[33mlast_name\u001b[0m=\u001b[32m'Johnson'\u001b[0m,\n",
       "    \u001b[33mage\u001b[0m=\u001b[1;36m60\u001b[0m,\n",
       "    \u001b[33moccupation\u001b[0m=\u001b[32m'Retired Police Officer'\u001b[0m,\n",
       "    \u001b[33mgender\u001b[0m=\u001b[32m'Man'\u001b[0m,\n",
       "    \u001b[33mgender_pronoun\u001b[0m=\u001b[32m'He/him'\u001b[0m,\n",
       "    \u001b[33mpublic_info\u001b[0m=\u001b[32m'Liam Johnson is a dedicated dog owner and can often be seen walking his aging Border Collie around\u001b[0m\n",
       "\u001b[32mthe neighborhood.'\u001b[0m,\n",
       "    \u001b[33mbig_five\u001b[0m=\u001b[32m'Openness to Experience - Low; Conscientiousness - Low; Extraversion - Low; Agreeableness - Low; \u001b[0m\n",
       "\u001b[32mNeuroticism - High'\u001b[0m,\n",
       "    \u001b[33mmoral_values\u001b[0m=\u001b[1m[\u001b[0m\u001b[32m'Loyalty/Betrayal'\u001b[0m\u001b[1m]\u001b[0m,\n",
       "    \u001b[33mschwartz_personal_values\u001b[0m=\u001b[1m[\u001b[0m\u001b[32m'Security'\u001b[0m\u001b[1m]\u001b[0m,\n",
       "    \u001b[33mpersonality_and_values\u001b[0m=\u001b[32m'Liam Johnson is reserved, empathetic, and slightly anxious. His priority is security, \u001b[0m\n",
       "\u001b[32mguided by logical decision-making.'\u001b[0m,\n",
       "    \u001b[33mdecision_making_style\u001b[0m=\u001b[32m'Logical'\u001b[0m,\n",
       "    \u001b[33msecret\u001b[0m=\u001b[32m'Once let a criminal go due to sympathy'\u001b[0m,\n",
       "    \u001b[33mmodel_id\u001b[0m=\u001b[32m''\u001b[0m,\n",
       "    \u001b[33mmbti\u001b[0m=\u001b[32m'ISTP'\u001b[0m\n",
       "\u001b[1m)\u001b[0m\n"
      ]
     },
     "metadata": {},
     "output_type": "display_data"
    },
    {
     "data": {
      "text/html": [
       "<pre style=\"white-space:pre;overflow-x:auto;line-height:normal;font-family:Menlo,'DejaVu Sans Mono',consolas,'Courier New',monospace\">\n",
       "Here is the context of this interaction:\n",
       "Scenario: An individual is offering an Antique Oak Accent Table for sale at $<span style=\"color: #008080; text-decoration-color: #008080; font-weight: bold\">60.00</span>, while another is keen on \n",
       "purchasing it. The item is a magnificent antique oak parlor table, dating back to the late 1800s, making it a \n",
       "fantastic addition to any home or workspace. The table offers two levels, suitable for usage as an end table, a \n",
       "lamp table, or any other purpose. It's in top-notch condition, boasting a dark brown antique oak color and patina. \n",
       "The table is robust, with solid and strong joints, and it's free from marks, cracks, or damage. It features a \n",
       "<span style=\"color: #008080; text-decoration-color: #008080; font-weight: bold\">24</span>-inch X <span style=\"color: #008080; text-decoration-color: #008080; font-weight: bold\">24</span>-inch square top and a <span style=\"color: #008080; text-decoration-color: #008080; font-weight: bold\">16</span>-inch X <span style=\"color: #008080; text-decoration-color: #008080; font-weight: bold\">18</span>-inch lower shelf.\n",
       "Participants: Eli Dawson and Liam Johnson\n",
       "Eli Dawson's background: Eli Dawson is a <span style=\"color: #008080; text-decoration-color: #008080; font-weight: bold\">52</span>-year-old male forensic psychiatrist. He/him pronouns. Eli Dawson, a \n",
       "forensic psychiatrist, is a history enthusiast and enjoys collecting vintage books. Personality and values \n",
       "description: Eli Dawson is expressive, assertive, and markedly erratic. Elliott values liberty and enjoyment. His \n",
       "decision-making is strategic, examining the wider context before making decisions. Eli's secrets: He secretly funds\n",
       "a college student\n",
       "Liam Johnson's background: Liam Johnson is a <span style=\"color: #008080; text-decoration-color: #008080; font-weight: bold\">60</span>-year-old male retired police officer. He/him pronouns. Liam Johnson\n",
       "is a dedicated dog owner and can often be seen walking his aging Border Collie around the neighborhood. Personality\n",
       "and values description: Liam Johnson is reserved, empathetic, and slightly anxious. His priority is security, \n",
       "guided by logical decision-making. Liam's secrets: Once let a criminal go due to sympathy\n",
       "Eli Dawson's goal: You are the buyer for this item and your target price is $<span style=\"color: #008080; text-decoration-color: #008080; font-weight: bold\">30.0</span>. If you purchase it for a price \n",
       "significantly higher than this, you will incur a penalty. However, if you successfully manage to buy it for less \n",
       "than the target price, you will receive a bonus.\n",
       "Liam Johnson's goal: Unknown\n",
       "Conversation Starts:\n",
       "\n",
       "\n",
       "Here is the context of this interaction:\n",
       "Scenario: An individual is offering an Antique Oak Accent Table for sale at $<span style=\"color: #008080; text-decoration-color: #008080; font-weight: bold\">60.00</span>, while another is keen on \n",
       "purchasing it. The item is a magnificent antique oak parlor table, dating back to the late 1800s, making it a \n",
       "fantastic addition to any home or workspace. The table offers two levels, suitable for usage as an end table, a \n",
       "lamp table, or any other purpose. It's in top-notch condition, boasting a dark brown antique oak color and patina. \n",
       "The table is robust, with solid and strong joints, and it's free from marks, cracks, or damage. It features a \n",
       "<span style=\"color: #008080; text-decoration-color: #008080; font-weight: bold\">24</span>-inch X <span style=\"color: #008080; text-decoration-color: #008080; font-weight: bold\">24</span>-inch square top and a <span style=\"color: #008080; text-decoration-color: #008080; font-weight: bold\">16</span>-inch X <span style=\"color: #008080; text-decoration-color: #008080; font-weight: bold\">18</span>-inch lower shelf.\n",
       "Participants: Eli Dawson and Liam Johnson\n",
       "Eli Dawson's background: Eli Dawson is a <span style=\"color: #008080; text-decoration-color: #008080; font-weight: bold\">52</span>-year-old male forensic psychiatrist. He/him pronouns. Eli Dawson, a \n",
       "forensic psychiatrist, is a history enthusiast and enjoys collecting vintage books. Personality and values \n",
       "description: Eli Dawson is expressive, assertive, and markedly erratic. Elliott values liberty and enjoyment. His \n",
       "decision-making is strategic, examining the wider context before making decisions. Eli's secrets: He secretly funds\n",
       "a college student\n",
       "Liam Johnson's background: Liam Johnson is a <span style=\"color: #008080; text-decoration-color: #008080; font-weight: bold\">60</span>-year-old male retired police officer. He/him pronouns. Liam Johnson\n",
       "is a dedicated dog owner and can often be seen walking his aging Border Collie around the neighborhood. Personality\n",
       "and values description: Liam Johnson is reserved, empathetic, and slightly anxious. His priority is security, \n",
       "guided by logical decision-making. Liam's secrets: Once let a criminal go due to sympathy\n",
       "Eli Dawson's goal: Unknown\n",
       "Liam Johnson's goal: You are the seller of this item, with a target price set at $<span style=\"color: #008080; text-decoration-color: #008080; font-weight: bold\">58.6</span>. Be aware that you may face \n",
       "penalties if you sell this item for a significantly lower than the target price. However, if you are successful in \n",
       "selling it above the target price, you will receive a bonus.\n",
       "Conversation Starts:\n",
       "\n",
       "Eli Dawson said: <span style=\"color: #008000; text-decoration-color: #008000\">\"What is your first impression of this Antique Oak Accent Table?\"</span>\n",
       "</pre>\n"
      ],
      "text/plain": [
       "\n",
       "Here is the context of this interaction:\n",
       "Scenario: An individual is offering an Antique Oak Accent Table for sale at $\u001b[1;36m60.00\u001b[0m, while another is keen on \n",
       "purchasing it. The item is a magnificent antique oak parlor table, dating back to the late 1800s, making it a \n",
       "fantastic addition to any home or workspace. The table offers two levels, suitable for usage as an end table, a \n",
       "lamp table, or any other purpose. It's in top-notch condition, boasting a dark brown antique oak color and patina. \n",
       "The table is robust, with solid and strong joints, and it's free from marks, cracks, or damage. It features a \n",
       "\u001b[1;36m24\u001b[0m-inch X \u001b[1;36m24\u001b[0m-inch square top and a \u001b[1;36m16\u001b[0m-inch X \u001b[1;36m18\u001b[0m-inch lower shelf.\n",
       "Participants: Eli Dawson and Liam Johnson\n",
       "Eli Dawson's background: Eli Dawson is a \u001b[1;36m52\u001b[0m-year-old male forensic psychiatrist. He/him pronouns. Eli Dawson, a \n",
       "forensic psychiatrist, is a history enthusiast and enjoys collecting vintage books. Personality and values \n",
       "description: Eli Dawson is expressive, assertive, and markedly erratic. Elliott values liberty and enjoyment. His \n",
       "decision-making is strategic, examining the wider context before making decisions. Eli's secrets: He secretly funds\n",
       "a college student\n",
       "Liam Johnson's background: Liam Johnson is a \u001b[1;36m60\u001b[0m-year-old male retired police officer. He/him pronouns. Liam Johnson\n",
       "is a dedicated dog owner and can often be seen walking his aging Border Collie around the neighborhood. Personality\n",
       "and values description: Liam Johnson is reserved, empathetic, and slightly anxious. His priority is security, \n",
       "guided by logical decision-making. Liam's secrets: Once let a criminal go due to sympathy\n",
       "Eli Dawson's goal: You are the buyer for this item and your target price is $\u001b[1;36m30.0\u001b[0m. If you purchase it for a price \n",
       "significantly higher than this, you will incur a penalty. However, if you successfully manage to buy it for less \n",
       "than the target price, you will receive a bonus.\n",
       "Liam Johnson's goal: Unknown\n",
       "Conversation Starts:\n",
       "\n",
       "\n",
       "Here is the context of this interaction:\n",
       "Scenario: An individual is offering an Antique Oak Accent Table for sale at $\u001b[1;36m60.00\u001b[0m, while another is keen on \n",
       "purchasing it. The item is a magnificent antique oak parlor table, dating back to the late 1800s, making it a \n",
       "fantastic addition to any home or workspace. The table offers two levels, suitable for usage as an end table, a \n",
       "lamp table, or any other purpose. It's in top-notch condition, boasting a dark brown antique oak color and patina. \n",
       "The table is robust, with solid and strong joints, and it's free from marks, cracks, or damage. It features a \n",
       "\u001b[1;36m24\u001b[0m-inch X \u001b[1;36m24\u001b[0m-inch square top and a \u001b[1;36m16\u001b[0m-inch X \u001b[1;36m18\u001b[0m-inch lower shelf.\n",
       "Participants: Eli Dawson and Liam Johnson\n",
       "Eli Dawson's background: Eli Dawson is a \u001b[1;36m52\u001b[0m-year-old male forensic psychiatrist. He/him pronouns. Eli Dawson, a \n",
       "forensic psychiatrist, is a history enthusiast and enjoys collecting vintage books. Personality and values \n",
       "description: Eli Dawson is expressive, assertive, and markedly erratic. Elliott values liberty and enjoyment. His \n",
       "decision-making is strategic, examining the wider context before making decisions. Eli's secrets: He secretly funds\n",
       "a college student\n",
       "Liam Johnson's background: Liam Johnson is a \u001b[1;36m60\u001b[0m-year-old male retired police officer. He/him pronouns. Liam Johnson\n",
       "is a dedicated dog owner and can often be seen walking his aging Border Collie around the neighborhood. Personality\n",
       "and values description: Liam Johnson is reserved, empathetic, and slightly anxious. His priority is security, \n",
       "guided by logical decision-making. Liam's secrets: Once let a criminal go due to sympathy\n",
       "Eli Dawson's goal: Unknown\n",
       "Liam Johnson's goal: You are the seller of this item, with a target price set at $\u001b[1;36m58.6\u001b[0m. Be aware that you may face \n",
       "penalties if you sell this item for a significantly lower than the target price. However, if you are successful in \n",
       "selling it above the target price, you will receive a bonus.\n",
       "Conversation Starts:\n",
       "\n",
       "Eli Dawson said: \u001b[32m\"What is your first impression of this Antique Oak Accent Table?\"\u001b[0m\n"
      ]
     },
     "metadata": {},
     "output_type": "display_data"
    },
    {
     "data": {
      "text/html": [
       "<pre style=\"white-space:pre;overflow-x:auto;line-height:normal;font-family:Menlo,'DejaVu Sans Mono',consolas,'Courier New',monospace\">Liam Johnson said: <span style=\"color: #008000; text-decoration-color: #008000\">\"It's a beautiful Antique Oak Accent Table, perfect for adding a touch of elegance to any home </span>\n",
       "<span style=\"color: #008000; text-decoration-color: #008000\">or workspace. The craftsmanship is exceptional, and the table is in impeccable condition. Would you like to know </span>\n",
       "<span style=\"color: #008000; text-decoration-color: #008000\">more about its features?\"</span>\n",
       "</pre>\n"
      ],
      "text/plain": [
       "Liam Johnson said: \u001b[32m\"It's a beautiful Antique Oak Accent Table, perfect for adding a touch of elegance to any home \u001b[0m\n",
       "\u001b[32mor workspace. The craftsmanship is exceptional, and the table is in impeccable condition. Would you like to know \u001b[0m\n",
       "\u001b[32mmore about its features?\"\u001b[0m\n"
      ]
     },
     "metadata": {},
     "output_type": "display_data"
    },
    {
     "data": {
      "text/html": [
       "<pre style=\"white-space:pre;overflow-x:auto;line-height:normal;font-family:Menlo,'DejaVu Sans Mono',consolas,'Courier New',monospace\">\n",
       "</pre>\n"
      ],
      "text/plain": [
       "\n"
      ]
     },
     "metadata": {},
     "output_type": "display_data"
    },
    {
     "data": {
      "text/html": [
       "<pre style=\"white-space:pre;overflow-x:auto;line-height:normal;font-family:Menlo,'DejaVu Sans Mono',consolas,'Courier New',monospace\">Liam Johnson said: <span style=\"color: #008000; text-decoration-color: #008000\">\"Yes, certainly! This Antique Oak Accent Table features a 24-inch X 24-inch square top, perfect </span>\n",
       "<span style=\"color: #008000; text-decoration-color: #008000\">for placing a lamp or other decorative items. Additionally, it has a 16-inch X 18-inch lower shelf, providing extra</span>\n",
       "<span style=\"color: #008000; text-decoration-color: #008000\">storage space. The dark brown antique oak color and patina give it a timeless and elegant look. I can assure you </span>\n",
       "<span style=\"color: #008000; text-decoration-color: #008000\">that the table is in top-notch condition with no marks, cracks, or damage. It's truly a magnificent piece.\"</span>\n",
       "</pre>\n"
      ],
      "text/plain": [
       "Liam Johnson said: \u001b[32m\"Yes, certainly! This Antique Oak Accent Table features a 24-inch X 24-inch square top, perfect \u001b[0m\n",
       "\u001b[32mfor placing a lamp or other decorative items. Additionally, it has a 16-inch X 18-inch lower shelf, providing extra\u001b[0m\n",
       "\u001b[32mstorage space. The dark brown antique oak color and patina give it a timeless and elegant look. I can assure you \u001b[0m\n",
       "\u001b[32mthat the table is in top-notch condition with no marks, cracks, or damage. It's truly a magnificent piece.\"\u001b[0m\n"
      ]
     },
     "metadata": {},
     "output_type": "display_data"
    },
    {
     "data": {
      "text/html": [
       "<pre style=\"white-space:pre;overflow-x:auto;line-height:normal;font-family:Menlo,'DejaVu Sans Mono',consolas,'Courier New',monospace\">Eli Dawson said: <span style=\"color: #008000; text-decoration-color: #008000\">\"Hello, world!\"</span>\n",
       "</pre>\n"
      ],
      "text/plain": [
       "Eli Dawson said: \u001b[32m\"Hello, world!\"\u001b[0m\n"
      ]
     },
     "metadata": {},
     "output_type": "display_data"
    },
    {
     "data": {
      "text/html": [
       "<pre style=\"white-space:pre;overflow-x:auto;line-height:normal;font-family:Menlo,'DejaVu Sans Mono',consolas,'Courier New',monospace\">Liam Johnson said: <span style=\"color: #008000; text-decoration-color: #008000\">\"Thank you for your interest in this Antique Oak Accent Table! Are you considering purchasing </span>\n",
       "<span style=\"color: #008000; text-decoration-color: #008000\">it?\"</span>\n",
       "</pre>\n"
      ],
      "text/plain": [
       "Liam Johnson said: \u001b[32m\"Thank you for your interest in this Antique Oak Accent Table! Are you considering purchasing \u001b[0m\n",
       "\u001b[32mit?\"\u001b[0m\n"
      ]
     },
     "metadata": {},
     "output_type": "display_data"
    },
    {
     "data": {
      "text/html": [
       "<pre style=\"white-space:pre;overflow-x:auto;line-height:normal;font-family:Menlo,'DejaVu Sans Mono',consolas,'Courier New',monospace\">\n",
       "</pre>\n"
      ],
      "text/plain": [
       "\n"
      ]
     },
     "metadata": {},
     "output_type": "display_data"
    },
    {
     "data": {
      "text/html": [
       "<pre style=\"white-space:pre;overflow-x:auto;line-height:normal;font-family:Menlo,'DejaVu Sans Mono',consolas,'Courier New',monospace\">Liam Johnson said: <span style=\"color: #008000; text-decoration-color: #008000\">\"Yes, certainly! This Antique Oak Accent Table features a 24-inch X 24-inch square top, perfect </span>\n",
       "<span style=\"color: #008000; text-decoration-color: #008000\">for placing a lamp or other decorative items. Additionally, it has a 16-inch X 18-inch lower shelf, providing extra</span>\n",
       "<span style=\"color: #008000; text-decoration-color: #008000\">storage space. The dark brown antique oak color and patina give it a timeless and elegant look. I can assure you </span>\n",
       "<span style=\"color: #008000; text-decoration-color: #008000\">that the table is in top-notch condition with no marks, cracks, or damage. It's truly a magnificent piece.\"</span>\n",
       "</pre>\n"
      ],
      "text/plain": [
       "Liam Johnson said: \u001b[32m\"Yes, certainly! This Antique Oak Accent Table features a 24-inch X 24-inch square top, perfect \u001b[0m\n",
       "\u001b[32mfor placing a lamp or other decorative items. Additionally, it has a 16-inch X 18-inch lower shelf, providing extra\u001b[0m\n",
       "\u001b[32mstorage space. The dark brown antique oak color and patina give it a timeless and elegant look. I can assure you \u001b[0m\n",
       "\u001b[32mthat the table is in top-notch condition with no marks, cracks, or damage. It's truly a magnificent piece.\"\u001b[0m\n"
      ]
     },
     "metadata": {},
     "output_type": "display_data"
    },
    {
     "data": {
      "text/html": [
       "<pre style=\"white-space:pre;overflow-x:auto;line-height:normal;font-family:Menlo,'DejaVu Sans Mono',consolas,'Courier New',monospace\">\n",
       "</pre>\n"
      ],
      "text/plain": [
       "\n"
      ]
     },
     "metadata": {},
     "output_type": "display_data"
    },
    {
     "data": {
      "text/html": [
       "<pre style=\"white-space:pre;overflow-x:auto;line-height:normal;font-family:Menlo,'DejaVu Sans Mono',consolas,'Courier New',monospace\">\n",
       "</pre>\n"
      ],
      "text/plain": [
       "\n"
      ]
     },
     "metadata": {},
     "output_type": "display_data"
    },
    {
     "data": {
      "text/html": [
       "<pre style=\"white-space:pre;overflow-x:auto;line-height:normal;font-family:Menlo,'DejaVu Sans Mono',consolas,'Courier New',monospace\">\n",
       "</pre>\n"
      ],
      "text/plain": [
       "\n"
      ]
     },
     "metadata": {},
     "output_type": "display_data"
    },
    {
     "data": {
      "text/html": [
       "<pre style=\"white-space:pre;overflow-x:auto;line-height:normal;font-family:Menlo,'DejaVu Sans Mono',consolas,'Courier New',monospace\">The reasoning is:\n",
       "Environment comments: terminated: The conversation stales for too long; \n",
       "Agent <span style=\"color: #008080; text-decoration-color: #008080; font-weight: bold\">1</span> comments:\n",
       "believability: <span style=\"font-weight: bold\">&lt;</span><span style=\"color: #ff00ff; text-decoration-color: #ff00ff; font-weight: bold\">naturalness</span><span style=\"color: #000000; text-decoration-color: #000000\">&gt; Eli Dawson's interaction seems natural and realistic. He asks about the table and </span>\n",
       "<span style=\"color: #000000; text-decoration-color: #000000\">shows interest in it. &lt;consistency&gt; His actions align with his character traits as a history enthusiast who enjoys </span>\n",
       "<span style=\"color: #000000; text-decoration-color: #000000\">collecting vintage items.</span>\n",
       "<span style=\"color: #000000; text-decoration-color: #000000\">relationship: Eli Dawson and Liam Johnson seem to have a buyer-seller relationship. The interaction doesn't seem to</span>\n",
       "<span style=\"color: #000000; text-decoration-color: #000000\">significantly change their relationship.</span>\n",
       "<span style=\"color: #000000; text-decoration-color: #000000\">knowledge: Eli Dawson gains information about the Antique Oak Accent Table, which is new and important to him as a </span>\n",
       "<span style=\"color: #000000; text-decoration-color: #000000\">buyer.</span>\n",
       "<span style=\"color: #000000; text-decoration-color: #000000\">secret: Eli Dawson's secret of funding a college student is not revealed in this interaction.</span>\n",
       "<span style=\"color: #000000; text-decoration-color: #000000\">social_rules: Eli Dawson doesn't violate any moral rules or laws in his interaction with Liam Johnson.</span>\n",
       "<span style=\"color: #000000; text-decoration-color: #000000\">financial_and_material_benefits: Eli Dawson stands to gain a valuable antique table if he purchases it, which could</span>\n",
       "<span style=\"color: #000000; text-decoration-color: #000000\">be a material benefit.</span>\n",
       "<span style=\"color: #000000; text-decoration-color: #000000\">goal: Eli Dawson's goal is to buy the table for $</span><span style=\"color: #008080; text-decoration-color: #008080; font-weight: bold\">30.0</span><span style=\"color: #000000; text-decoration-color: #000000\">. However, he hasn't negotiated the price yet, so it's unclear</span>\n",
       "<span style=\"color: #000000; text-decoration-color: #000000\">if he's making progress towards his goal.</span>\n",
       "<span style=\"color: #000000; text-decoration-color: #000000\">Agent </span><span style=\"color: #008080; text-decoration-color: #008080; font-weight: bold\">2</span><span style=\"color: #000000; text-decoration-color: #000000\"> comments:</span>\n",
       "<span style=\"color: #000000; text-decoration-color: #000000\">believability: &lt;naturalness&gt; Liam Johnson's interaction seems natural and realistic. He provides detailed </span>\n",
       "<span style=\"color: #000000; text-decoration-color: #000000\">information about the table. &lt;consistency</span><span style=\"font-weight: bold\">&gt;</span> His actions align with his character traits as a retired police officer \n",
       "who is selling an item.\n",
       "relationship: Liam Johnson and Eli Dawson seem to have a buyer-seller relationship. The interaction doesn't seem to\n",
       "significantly change their relationship.\n",
       "knowledge: Liam Johnson doesn't seem to gain any new or important information through this interaction.\n",
       "secret: Liam Johnson's secret of once letting a criminal go due to sympathy is not revealed in this interaction.\n",
       "social_rules: Liam Johnson doesn't violate any moral rules or laws in his interaction with Eli Dawson.\n",
       "financial_and_material_benefits: Liam Johnson stands to gain financially if he sells the table for his target price\n",
       "of $<span style=\"color: #008080; text-decoration-color: #008080; font-weight: bold\">58.6</span>.\n",
       "goal: Liam Johnson's goal is to sell the table for $<span style=\"color: #008080; text-decoration-color: #008080; font-weight: bold\">58.6</span>. However, he hasn't negotiated the price yet, so it's \n",
       "unclear if he's making progress towards his goal.\n",
       "\n",
       "</pre>\n"
      ],
      "text/plain": [
       "The reasoning is:\n",
       "Environment comments: terminated: The conversation stales for too long; \n",
       "Agent \u001b[1;36m1\u001b[0m comments:\n",
       "believability: \u001b[1m<\u001b[0m\u001b[1;95mnaturalness\u001b[0m\u001b[39m> Eli Dawson's interaction seems natural and realistic. He asks about the table and \u001b[0m\n",
       "\u001b[39mshows interest in it. <consistency> His actions align with his character traits as a history enthusiast who enjoys \u001b[0m\n",
       "\u001b[39mcollecting vintage items.\u001b[0m\n",
       "\u001b[39mrelationship: Eli Dawson and Liam Johnson seem to have a buyer-seller relationship. The interaction doesn't seem to\u001b[0m\n",
       "\u001b[39msignificantly change their relationship.\u001b[0m\n",
       "\u001b[39mknowledge: Eli Dawson gains information about the Antique Oak Accent Table, which is new and important to him as a \u001b[0m\n",
       "\u001b[39mbuyer.\u001b[0m\n",
       "\u001b[39msecret: Eli Dawson's secret of funding a college student is not revealed in this interaction.\u001b[0m\n",
       "\u001b[39msocial_rules: Eli Dawson doesn't violate any moral rules or laws in his interaction with Liam Johnson.\u001b[0m\n",
       "\u001b[39mfinancial_and_material_benefits: Eli Dawson stands to gain a valuable antique table if he purchases it, which could\u001b[0m\n",
       "\u001b[39mbe a material benefit.\u001b[0m\n",
       "\u001b[39mgoal: Eli Dawson's goal is to buy the table for $\u001b[0m\u001b[1;36m30.0\u001b[0m\u001b[39m. However, he hasn't negotiated the price yet, so it's unclear\u001b[0m\n",
       "\u001b[39mif he's making progress towards his goal.\u001b[0m\n",
       "\u001b[39mAgent \u001b[0m\u001b[1;36m2\u001b[0m\u001b[39m comments:\u001b[0m\n",
       "\u001b[39mbelievability: <naturalness> Liam Johnson's interaction seems natural and realistic. He provides detailed \u001b[0m\n",
       "\u001b[39minformation about the table. <consistency\u001b[0m\u001b[1m>\u001b[0m His actions align with his character traits as a retired police officer \n",
       "who is selling an item.\n",
       "relationship: Liam Johnson and Eli Dawson seem to have a buyer-seller relationship. The interaction doesn't seem to\n",
       "significantly change their relationship.\n",
       "knowledge: Liam Johnson doesn't seem to gain any new or important information through this interaction.\n",
       "secret: Liam Johnson's secret of once letting a criminal go due to sympathy is not revealed in this interaction.\n",
       "social_rules: Liam Johnson doesn't violate any moral rules or laws in his interaction with Eli Dawson.\n",
       "financial_and_material_benefits: Liam Johnson stands to gain financially if he sells the table for his target price\n",
       "of $\u001b[1;36m58.6\u001b[0m.\n",
       "goal: Liam Johnson's goal is to sell the table for $\u001b[1;36m58.6\u001b[0m. However, he hasn't negotiated the price yet, so it's \n",
       "unclear if he's making progress towards his goal.\n",
       "\n"
      ]
     },
     "metadata": {},
     "output_type": "display_data"
    },
    {
     "data": {
      "text/html": [
       "<pre style=\"white-space:pre;overflow-x:auto;line-height:normal;font-family:Menlo,'DejaVu Sans Mono',consolas,'Courier New',monospace\">The rewards are:\n",
       "Agent <span style=\"color: #008080; text-decoration-color: #008080; font-weight: bold\">1</span>: <span style=\"font-weight: bold\">(</span><span style=\"color: #008080; text-decoration-color: #008080; font-weight: bold\">3.4285714285714284</span>, <span style=\"font-weight: bold\">{</span><span style=\"color: #008000; text-decoration-color: #008000\">'believability'</span>: <span style=\"color: #008080; text-decoration-color: #008080; font-weight: bold\">8.0</span>, <span style=\"color: #008000; text-decoration-color: #008000\">'relationship'</span>: <span style=\"color: #008080; text-decoration-color: #008080; font-weight: bold\">0.0</span>, <span style=\"color: #008000; text-decoration-color: #008000\">'knowledge'</span>: <span style=\"color: #008080; text-decoration-color: #008080; font-weight: bold\">7.0</span>, <span style=\"color: #008000; text-decoration-color: #008000\">'secret'</span>: <span style=\"color: #008080; text-decoration-color: #008080; font-weight: bold\">0.0</span>, \n",
       "<span style=\"color: #008000; text-decoration-color: #008000\">'social_rules'</span>: <span style=\"color: #008080; text-decoration-color: #008080; font-weight: bold\">0.0</span>, <span style=\"color: #008000; text-decoration-color: #008000\">'financial_and_material_benefits'</span>: <span style=\"color: #008080; text-decoration-color: #008080; font-weight: bold\">4.0</span>, <span style=\"color: #008000; text-decoration-color: #008000\">'goal'</span>: <span style=\"color: #008080; text-decoration-color: #008080; font-weight: bold\">5.0</span>, <span style=\"color: #008000; text-decoration-color: #008000\">'overall_score'</span>: <span style=\"color: #008080; text-decoration-color: #008080; font-weight: bold\">3.4285714285714284</span><span style=\"font-weight: bold\">})</span>\n",
       "Agent <span style=\"color: #008080; text-decoration-color: #008080; font-weight: bold\">2</span>: <span style=\"font-weight: bold\">(</span><span style=\"color: #008080; text-decoration-color: #008080; font-weight: bold\">2.4285714285714284</span>, <span style=\"font-weight: bold\">{</span><span style=\"color: #008000; text-decoration-color: #008000\">'believability'</span>: <span style=\"color: #008080; text-decoration-color: #008080; font-weight: bold\">8.0</span>, <span style=\"color: #008000; text-decoration-color: #008000\">'relationship'</span>: <span style=\"color: #008080; text-decoration-color: #008080; font-weight: bold\">0.0</span>, <span style=\"color: #008000; text-decoration-color: #008000\">'knowledge'</span>: <span style=\"color: #008080; text-decoration-color: #008080; font-weight: bold\">0.0</span>, <span style=\"color: #008000; text-decoration-color: #008000\">'secret'</span>: <span style=\"color: #008080; text-decoration-color: #008080; font-weight: bold\">0.0</span>, \n",
       "<span style=\"color: #008000; text-decoration-color: #008000\">'social_rules'</span>: <span style=\"color: #008080; text-decoration-color: #008080; font-weight: bold\">0.0</span>, <span style=\"color: #008000; text-decoration-color: #008000\">'financial_and_material_benefits'</span>: <span style=\"color: #008080; text-decoration-color: #008080; font-weight: bold\">4.0</span>, <span style=\"color: #008000; text-decoration-color: #008000\">'goal'</span>: <span style=\"color: #008080; text-decoration-color: #008080; font-weight: bold\">5.0</span>, <span style=\"color: #008000; text-decoration-color: #008000\">'overall_score'</span>: <span style=\"color: #008080; text-decoration-color: #008080; font-weight: bold\">2.4285714285714284</span><span style=\"font-weight: bold\">})</span>\n",
       "</pre>\n"
      ],
      "text/plain": [
       "The rewards are:\n",
       "Agent \u001b[1;36m1\u001b[0m: \u001b[1m(\u001b[0m\u001b[1;36m3.4285714285714284\u001b[0m, \u001b[1m{\u001b[0m\u001b[32m'believability'\u001b[0m: \u001b[1;36m8.0\u001b[0m, \u001b[32m'relationship'\u001b[0m: \u001b[1;36m0.0\u001b[0m, \u001b[32m'knowledge'\u001b[0m: \u001b[1;36m7.0\u001b[0m, \u001b[32m'secret'\u001b[0m: \u001b[1;36m0.0\u001b[0m, \n",
       "\u001b[32m'social_rules'\u001b[0m: \u001b[1;36m0.0\u001b[0m, \u001b[32m'financial_and_material_benefits'\u001b[0m: \u001b[1;36m4.0\u001b[0m, \u001b[32m'goal'\u001b[0m: \u001b[1;36m5.0\u001b[0m, \u001b[32m'overall_score'\u001b[0m: \u001b[1;36m3.4285714285714284\u001b[0m\u001b[1m}\u001b[0m\u001b[1m)\u001b[0m\n",
       "Agent \u001b[1;36m2\u001b[0m: \u001b[1m(\u001b[0m\u001b[1;36m2.4285714285714284\u001b[0m, \u001b[1m{\u001b[0m\u001b[32m'believability'\u001b[0m: \u001b[1;36m8.0\u001b[0m, \u001b[32m'relationship'\u001b[0m: \u001b[1;36m0.0\u001b[0m, \u001b[32m'knowledge'\u001b[0m: \u001b[1;36m0.0\u001b[0m, \u001b[32m'secret'\u001b[0m: \u001b[1;36m0.0\u001b[0m, \n",
       "\u001b[32m'social_rules'\u001b[0m: \u001b[1;36m0.0\u001b[0m, \u001b[32m'financial_and_material_benefits'\u001b[0m: \u001b[1;36m4.0\u001b[0m, \u001b[32m'goal'\u001b[0m: \u001b[1;36m5.0\u001b[0m, \u001b[32m'overall_score'\u001b[0m: \u001b[1;36m2.4285714285714284\u001b[0m\u001b[1m}\u001b[0m\u001b[1m)\u001b[0m\n"
      ]
     },
     "metadata": {},
     "output_type": "display_data"
    }
   ],
   "source": [
    "test_ep = EpisodeLog.get(episode_pks[0])\n",
    "agent_profiles, conversation = test_ep.render_for_humans()\n",
    "for agent_profile in agent_profiles:\n",
    "    rich.print(agent_profile)\n",
    "for message in conversation:\n",
    "    rich.print(message)"
   ]
  },
  {
   "cell_type": "code",
   "execution_count": 14,
   "metadata": {},
   "outputs": [
    {
     "data": {
      "text/plain": [
       "1424"
      ]
     },
     "execution_count": 14,
     "metadata": {},
     "output_type": "execute_result"
    }
   ],
   "source": [
    "# get the epilogs that contain the specified models\n",
    "model1 = \"gpt-4\"\n",
    "model2 = \"gpt-4\"\n",
    "model_comp1 = [\"gpt-4\", model1, model2]\n",
    "model_comp2 = [\"gpt-4\", model2, model1]\n",
    "\n",
    "gpt4_gpt4_eps = []\n",
    "for epid in episode_pks:\n",
    "    try:\n",
    "        curr_ep = EpisodeLog.get(epid)\n",
    "    except Exception:\n",
    "        continue\n",
    "    if curr_ep.models == model_comp1 or curr_ep.models == model_comp2:\n",
    "        gpt4_gpt4_eps.append(curr_ep)\n",
    "len(gpt4_gpt4_eps)"
   ]
  },
  {
   "cell_type": "code",
   "execution_count": 15,
   "metadata": {},
   "outputs": [
    {
     "data": {
      "text/html": [
       "<pre style=\"white-space:pre;overflow-x:auto;line-height:normal;font-family:Menlo,'DejaVu Sans Mono',consolas,'Courier New',monospace\"><span style=\"color: #800080; text-decoration-color: #800080; font-weight: bold\">AgentProfile</span><span style=\"font-weight: bold\">(</span>\n",
       "    <span style=\"color: #808000; text-decoration-color: #808000\">pk</span>=<span style=\"color: #008000; text-decoration-color: #008000\">'01H5TNE5P7RVY0TYX8VTCXABR6'</span>,\n",
       "    <span style=\"color: #808000; text-decoration-color: #808000\">first_name</span>=<span style=\"color: #008000; text-decoration-color: #008000\">'Sophia'</span>,\n",
       "    <span style=\"color: #808000; text-decoration-color: #808000\">last_name</span>=<span style=\"color: #008000; text-decoration-color: #008000\">'James'</span>,\n",
       "    <span style=\"color: #808000; text-decoration-color: #808000\">age</span>=<span style=\"color: #008080; text-decoration-color: #008080; font-weight: bold\">27</span>,\n",
       "    <span style=\"color: #808000; text-decoration-color: #808000\">occupation</span>=<span style=\"color: #008000; text-decoration-color: #008000\">'Personal Trainer'</span>,\n",
       "    <span style=\"color: #808000; text-decoration-color: #808000\">gender</span>=<span style=\"color: #008000; text-decoration-color: #008000\">'Woman'</span>,\n",
       "    <span style=\"color: #808000; text-decoration-color: #808000\">gender_pronoun</span>=<span style=\"color: #008000; text-decoration-color: #008000\">'She/her'</span>,\n",
       "    <span style=\"color: #808000; text-decoration-color: #808000\">public_info</span>=<span style=\"color: #008000; text-decoration-color: #008000\">'Sophia enjoys spending time outdoors, hiking, and rock climbing.'</span>,\n",
       "    <span style=\"color: #808000; text-decoration-color: #808000\">big_five</span>=<span style=\"color: #008000; text-decoration-color: #008000\">'Openness to Experience - Low; Conscientiousness - Low; Extraversion - High; Agreeableness - High; </span>\n",
       "<span style=\"color: #008000; text-decoration-color: #008000\">Neuroticism - High'</span>,\n",
       "    <span style=\"color: #808000; text-decoration-color: #808000\">moral_values</span>=<span style=\"font-weight: bold\">[</span><span style=\"color: #008000; text-decoration-color: #008000\">'Fairness/Cheating'</span><span style=\"font-weight: bold\">]</span>,\n",
       "    <span style=\"color: #808000; text-decoration-color: #808000\">schwartz_personal_values</span>=<span style=\"font-weight: bold\">[</span><span style=\"color: #008000; text-decoration-color: #008000\">'Hedonism'</span><span style=\"font-weight: bold\">]</span>,\n",
       "    <span style=\"color: #808000; text-decoration-color: #808000\">personality_and_values</span>=<span style=\"color: #008000; text-decoration-color: #008000\">'Sophia James is exuberant, spontaneous, and pleasure-seeking, often making impulsive </span>\n",
       "<span style=\"color: #008000; text-decoration-color: #008000\">decisions. '</span>,\n",
       "    <span style=\"color: #808000; text-decoration-color: #808000\">decision_making_style</span>=<span style=\"color: #008000; text-decoration-color: #008000\">'Spontaneous'</span>,\n",
       "    <span style=\"color: #808000; text-decoration-color: #808000\">secret</span>=<span style=\"color: #008000; text-decoration-color: #008000\">\"Secretly in love with her best friend's husband\"</span>,\n",
       "    <span style=\"color: #808000; text-decoration-color: #808000\">model_id</span>=<span style=\"color: #008000; text-decoration-color: #008000\">''</span>,\n",
       "    <span style=\"color: #808000; text-decoration-color: #808000\">mbti</span>=<span style=\"color: #008000; text-decoration-color: #008000\">'ESFP'</span>\n",
       "<span style=\"font-weight: bold\">)</span>\n",
       "</pre>\n"
      ],
      "text/plain": [
       "\u001b[1;35mAgentProfile\u001b[0m\u001b[1m(\u001b[0m\n",
       "    \u001b[33mpk\u001b[0m=\u001b[32m'01H5TNE5P7RVY0TYX8VTCXABR6'\u001b[0m,\n",
       "    \u001b[33mfirst_name\u001b[0m=\u001b[32m'Sophia'\u001b[0m,\n",
       "    \u001b[33mlast_name\u001b[0m=\u001b[32m'James'\u001b[0m,\n",
       "    \u001b[33mage\u001b[0m=\u001b[1;36m27\u001b[0m,\n",
       "    \u001b[33moccupation\u001b[0m=\u001b[32m'Personal Trainer'\u001b[0m,\n",
       "    \u001b[33mgender\u001b[0m=\u001b[32m'Woman'\u001b[0m,\n",
       "    \u001b[33mgender_pronoun\u001b[0m=\u001b[32m'She/her'\u001b[0m,\n",
       "    \u001b[33mpublic_info\u001b[0m=\u001b[32m'Sophia enjoys spending time outdoors, hiking, and rock climbing.'\u001b[0m,\n",
       "    \u001b[33mbig_five\u001b[0m=\u001b[32m'Openness to Experience - Low; Conscientiousness - Low; Extraversion - High; Agreeableness - High; \u001b[0m\n",
       "\u001b[32mNeuroticism - High'\u001b[0m,\n",
       "    \u001b[33mmoral_values\u001b[0m=\u001b[1m[\u001b[0m\u001b[32m'Fairness/Cheating'\u001b[0m\u001b[1m]\u001b[0m,\n",
       "    \u001b[33mschwartz_personal_values\u001b[0m=\u001b[1m[\u001b[0m\u001b[32m'Hedonism'\u001b[0m\u001b[1m]\u001b[0m,\n",
       "    \u001b[33mpersonality_and_values\u001b[0m=\u001b[32m'Sophia James is exuberant, spontaneous, and pleasure-seeking, often making impulsive \u001b[0m\n",
       "\u001b[32mdecisions. '\u001b[0m,\n",
       "    \u001b[33mdecision_making_style\u001b[0m=\u001b[32m'Spontaneous'\u001b[0m,\n",
       "    \u001b[33msecret\u001b[0m=\u001b[32m\"Secretly\u001b[0m\u001b[32m in love with her best friend's husband\"\u001b[0m,\n",
       "    \u001b[33mmodel_id\u001b[0m=\u001b[32m''\u001b[0m,\n",
       "    \u001b[33mmbti\u001b[0m=\u001b[32m'ESFP'\u001b[0m\n",
       "\u001b[1m)\u001b[0m\n"
      ]
     },
     "metadata": {},
     "output_type": "display_data"
    },
    {
     "data": {
      "text/html": [
       "<pre style=\"white-space:pre;overflow-x:auto;line-height:normal;font-family:Menlo,'DejaVu Sans Mono',consolas,'Courier New',monospace\"><span style=\"color: #800080; text-decoration-color: #800080; font-weight: bold\">AgentProfile</span><span style=\"font-weight: bold\">(</span>\n",
       "    <span style=\"color: #808000; text-decoration-color: #808000\">pk</span>=<span style=\"color: #008000; text-decoration-color: #008000\">'01H5TNE5PKW8P500417PMSGSAC'</span>,\n",
       "    <span style=\"color: #808000; text-decoration-color: #808000\">first_name</span>=<span style=\"color: #008000; text-decoration-color: #008000\">'Miles'</span>,\n",
       "    <span style=\"color: #808000; text-decoration-color: #808000\">last_name</span>=<span style=\"color: #008000; text-decoration-color: #008000\">'Hawkins'</span>,\n",
       "    <span style=\"color: #808000; text-decoration-color: #808000\">age</span>=<span style=\"color: #008080; text-decoration-color: #008080; font-weight: bold\">50</span>,\n",
       "    <span style=\"color: #808000; text-decoration-color: #808000\">occupation</span>=<span style=\"color: #008000; text-decoration-color: #008000\">'Chef'</span>,\n",
       "    <span style=\"color: #808000; text-decoration-color: #808000\">gender</span>=<span style=\"color: #008000; text-decoration-color: #008000\">'Man'</span>,\n",
       "    <span style=\"color: #808000; text-decoration-color: #808000\">gender_pronoun</span>=<span style=\"color: #008000; text-decoration-color: #008000\">'He/him'</span>,\n",
       "    <span style=\"color: #808000; text-decoration-color: #808000\">public_info</span>=<span style=\"color: #008000; text-decoration-color: #008000\">'Miles Hawkins, a chef, is a green thumb enthusiast and spends his free time tending to his kitchen</span>\n",
       "<span style=\"color: #008000; text-decoration-color: #008000\">garden, using some of his fresh produce in his dishes.'</span>,\n",
       "    <span style=\"color: #808000; text-decoration-color: #808000\">big_five</span>=<span style=\"color: #008000; text-decoration-color: #008000\">'Openness to Experience - Low; Conscientiousness - High; Extraversion - High; Agreeableness - High; </span>\n",
       "<span style=\"color: #008000; text-decoration-color: #008000\">Neuroticism - Low'</span>,\n",
       "    <span style=\"color: #808000; text-decoration-color: #808000\">moral_values</span>=<span style=\"font-weight: bold\">[</span><span style=\"color: #008000; text-decoration-color: #008000\">'Sanctity/Purity'</span><span style=\"font-weight: bold\">]</span>,\n",
       "    <span style=\"color: #808000; text-decoration-color: #808000\">schwartz_personal_values</span>=<span style=\"font-weight: bold\">[</span><span style=\"color: #008000; text-decoration-color: #008000\">'Benevolence'</span><span style=\"font-weight: bold\">]</span>,\n",
       "    <span style=\"color: #808000; text-decoration-color: #808000\">personality_and_values</span>=<span style=\"color: #008000; text-decoration-color: #008000\">'Miles Hawkins, spontaneous and free-spirited, values sanctity and benevolence. He is </span>\n",
       "<span style=\"color: #008000; text-decoration-color: #008000\">impulsive and relies on his instincts when making decisions.'</span>,\n",
       "    <span style=\"color: #808000; text-decoration-color: #808000\">decision_making_style</span>=<span style=\"color: #008000; text-decoration-color: #008000\">'Impulsive'</span>,\n",
       "    <span style=\"color: #808000; text-decoration-color: #808000\">secret</span>=<span style=\"color: #008000; text-decoration-color: #008000\">\"He's a recovering gambling addict.\"</span>,\n",
       "    <span style=\"color: #808000; text-decoration-color: #808000\">model_id</span>=<span style=\"color: #008000; text-decoration-color: #008000\">''</span>,\n",
       "    <span style=\"color: #808000; text-decoration-color: #808000\">mbti</span>=<span style=\"color: #008000; text-decoration-color: #008000\">'ESFJ'</span>\n",
       "<span style=\"font-weight: bold\">)</span>\n",
       "</pre>\n"
      ],
      "text/plain": [
       "\u001b[1;35mAgentProfile\u001b[0m\u001b[1m(\u001b[0m\n",
       "    \u001b[33mpk\u001b[0m=\u001b[32m'01H5TNE5PKW8P500417PMSGSAC'\u001b[0m,\n",
       "    \u001b[33mfirst_name\u001b[0m=\u001b[32m'Miles'\u001b[0m,\n",
       "    \u001b[33mlast_name\u001b[0m=\u001b[32m'Hawkins'\u001b[0m,\n",
       "    \u001b[33mage\u001b[0m=\u001b[1;36m50\u001b[0m,\n",
       "    \u001b[33moccupation\u001b[0m=\u001b[32m'Chef'\u001b[0m,\n",
       "    \u001b[33mgender\u001b[0m=\u001b[32m'Man'\u001b[0m,\n",
       "    \u001b[33mgender_pronoun\u001b[0m=\u001b[32m'He/him'\u001b[0m,\n",
       "    \u001b[33mpublic_info\u001b[0m=\u001b[32m'Miles Hawkins, a chef, is a green thumb enthusiast and spends his free time tending to his kitchen\u001b[0m\n",
       "\u001b[32mgarden, using some of his fresh produce in his dishes.'\u001b[0m,\n",
       "    \u001b[33mbig_five\u001b[0m=\u001b[32m'Openness to Experience - Low; Conscientiousness - High; Extraversion - High; Agreeableness - High; \u001b[0m\n",
       "\u001b[32mNeuroticism - Low'\u001b[0m,\n",
       "    \u001b[33mmoral_values\u001b[0m=\u001b[1m[\u001b[0m\u001b[32m'Sanctity/Purity'\u001b[0m\u001b[1m]\u001b[0m,\n",
       "    \u001b[33mschwartz_personal_values\u001b[0m=\u001b[1m[\u001b[0m\u001b[32m'Benevolence'\u001b[0m\u001b[1m]\u001b[0m,\n",
       "    \u001b[33mpersonality_and_values\u001b[0m=\u001b[32m'Miles Hawkins, spontaneous and free-spirited, values sanctity and benevolence. He is \u001b[0m\n",
       "\u001b[32mimpulsive and relies on his instincts when making decisions.'\u001b[0m,\n",
       "    \u001b[33mdecision_making_style\u001b[0m=\u001b[32m'Impulsive'\u001b[0m,\n",
       "    \u001b[33msecret\u001b[0m=\u001b[32m\"He\u001b[0m\u001b[32m's a recovering gambling addict.\"\u001b[0m,\n",
       "    \u001b[33mmodel_id\u001b[0m=\u001b[32m''\u001b[0m,\n",
       "    \u001b[33mmbti\u001b[0m=\u001b[32m'ESFJ'\u001b[0m\n",
       "\u001b[1m)\u001b[0m\n"
      ]
     },
     "metadata": {},
     "output_type": "display_data"
    },
    {
     "data": {
      "text/html": [
       "<pre style=\"white-space:pre;overflow-x:auto;line-height:normal;font-family:Menlo,'DejaVu Sans Mono',consolas,'Courier New',monospace\">\n",
       "Here is the context of this interaction:\n",
       "Scenario: Two friends are meeting at a coffee shop, where one of them is having trouble keeping up with their \n",
       "bills.\n",
       "Participants: Sophia James and Miles Hawkins\n",
       "Sophia James's background: Sophia James is a <span style=\"color: #008080; text-decoration-color: #008080; font-weight: bold\">27</span>-year-old female personal trainer. She/her pronouns. Sophia enjoys \n",
       "spending time outdoors, hiking, and rock climbing. Personality and values description: Sophia James is exuberant, \n",
       "spontaneous, and pleasure-seeking, often making impulsive decisions.  Sophia's secrets: Secretly in love with her \n",
       "best friend's husband\n",
       "Miles Hawkins's background: Miles Hawkins is a <span style=\"color: #008080; text-decoration-color: #008080; font-weight: bold\">50</span>-year-old male chef. He/him pronouns. Miles Hawkins, a chef, is a \n",
       "green thumb enthusiast and spends his free time tending to his kitchen garden, using some of his fresh produce in \n",
       "his dishes. Personality and values description: Miles Hawkins, spontaneous and free-spirited, values sanctity and \n",
       "benevolence. He is impulsive and relies on his instincts when making decisions. \n",
       "Sophia James's goal: Help your friend with their financial trouble <span style=\"font-weight: bold\">(</span>Extra information: you are aware that your \n",
       "friend is struggling with their bills and you want to help.<span style=\"font-weight: bold\">)</span>\n",
       "Miles Hawkins's goal: Unknown\n",
       "Conversation Starts:\n",
       "\n",
       "\n",
       "Here is the context of this interaction:\n",
       "Scenario: Two friends are meeting at a coffee shop, where one of them is having trouble keeping up with their \n",
       "bills.\n",
       "Participants: Sophia James and Miles Hawkins\n",
       "Sophia James's background: Sophia James is a <span style=\"color: #008080; text-decoration-color: #008080; font-weight: bold\">27</span>-year-old female personal trainer. She/her pronouns. Sophia enjoys \n",
       "spending time outdoors, hiking, and rock climbing. Personality and values description: Sophia James is exuberant, \n",
       "spontaneous, and pleasure-seeking, often making impulsive decisions.  \n",
       "Miles Hawkins's background: Miles Hawkins is a <span style=\"color: #008080; text-decoration-color: #008080; font-weight: bold\">50</span>-year-old male chef. He/him pronouns. Miles Hawkins, a chef, is a \n",
       "green thumb enthusiast and spends his free time tending to his kitchen garden, using some of his fresh produce in \n",
       "his dishes. Personality and values description: Miles Hawkins, spontaneous and free-spirited, values sanctity and \n",
       "benevolence. He is impulsive and relies on his instincts when making decisions. Miles's secrets: He's a recovering \n",
       "gambling addict.\n",
       "Sophia James's goal: Unknown\n",
       "Miles Hawkins's goal: Maintain your pride if your friend offers you <span style=\"color: #800080; text-decoration-color: #800080; font-weight: bold\">money</span><span style=\"font-weight: bold\">(</span>Extra information: you are the friend who\n",
       "is struggling financially, but you don't want to seem like you are taking advantage of the situation. Hint: you can\n",
       "express gratitude and discuss how you plan to pay it back in the future.<span style=\"font-weight: bold\">)</span>\n",
       "Conversation Starts:\n",
       "\n",
       "Sophia James said: <span style=\"color: #008000; text-decoration-color: #008000\">\"Hey Miles, it's great to see you. I've been thinking, I know you're going through a tough time </span>\n",
       "<span style=\"color: #008000; text-decoration-color: #008000\">financially and I really want to help. What do you think about me taking over your gym membership bills for the </span>\n",
       "<span style=\"color: #008000; text-decoration-color: #008000\">next couple of months? It would mean a lot to me if you could accept this small token of support.\"</span>\n",
       "</pre>\n"
      ],
      "text/plain": [
       "\n",
       "Here is the context of this interaction:\n",
       "Scenario: Two friends are meeting at a coffee shop, where one of them is having trouble keeping up with their \n",
       "bills.\n",
       "Participants: Sophia James and Miles Hawkins\n",
       "Sophia James's background: Sophia James is a \u001b[1;36m27\u001b[0m-year-old female personal trainer. She/her pronouns. Sophia enjoys \n",
       "spending time outdoors, hiking, and rock climbing. Personality and values description: Sophia James is exuberant, \n",
       "spontaneous, and pleasure-seeking, often making impulsive decisions.  Sophia's secrets: Secretly in love with her \n",
       "best friend's husband\n",
       "Miles Hawkins's background: Miles Hawkins is a \u001b[1;36m50\u001b[0m-year-old male chef. He/him pronouns. Miles Hawkins, a chef, is a \n",
       "green thumb enthusiast and spends his free time tending to his kitchen garden, using some of his fresh produce in \n",
       "his dishes. Personality and values description: Miles Hawkins, spontaneous and free-spirited, values sanctity and \n",
       "benevolence. He is impulsive and relies on his instincts when making decisions. \n",
       "Sophia James's goal: Help your friend with their financial trouble \u001b[1m(\u001b[0mExtra information: you are aware that your \n",
       "friend is struggling with their bills and you want to help.\u001b[1m)\u001b[0m\n",
       "Miles Hawkins's goal: Unknown\n",
       "Conversation Starts:\n",
       "\n",
       "\n",
       "Here is the context of this interaction:\n",
       "Scenario: Two friends are meeting at a coffee shop, where one of them is having trouble keeping up with their \n",
       "bills.\n",
       "Participants: Sophia James and Miles Hawkins\n",
       "Sophia James's background: Sophia James is a \u001b[1;36m27\u001b[0m-year-old female personal trainer. She/her pronouns. Sophia enjoys \n",
       "spending time outdoors, hiking, and rock climbing. Personality and values description: Sophia James is exuberant, \n",
       "spontaneous, and pleasure-seeking, often making impulsive decisions.  \n",
       "Miles Hawkins's background: Miles Hawkins is a \u001b[1;36m50\u001b[0m-year-old male chef. He/him pronouns. Miles Hawkins, a chef, is a \n",
       "green thumb enthusiast and spends his free time tending to his kitchen garden, using some of his fresh produce in \n",
       "his dishes. Personality and values description: Miles Hawkins, spontaneous and free-spirited, values sanctity and \n",
       "benevolence. He is impulsive and relies on his instincts when making decisions. Miles's secrets: He's a recovering \n",
       "gambling addict.\n",
       "Sophia James's goal: Unknown\n",
       "Miles Hawkins's goal: Maintain your pride if your friend offers you \u001b[1;35mmoney\u001b[0m\u001b[1m(\u001b[0mExtra information: you are the friend who\n",
       "is struggling financially, but you don't want to seem like you are taking advantage of the situation. Hint: you can\n",
       "express gratitude and discuss how you plan to pay it back in the future.\u001b[1m)\u001b[0m\n",
       "Conversation Starts:\n",
       "\n",
       "Sophia James said: \u001b[32m\"Hey Miles, it's great to see you. I've been thinking, I know you're going through a tough time \u001b[0m\n",
       "\u001b[32mfinancially and I really want to help. What do you think about me taking over your gym membership bills for the \u001b[0m\n",
       "\u001b[32mnext couple of months? It would mean a lot to me if you could accept this small token of support.\"\u001b[0m\n"
      ]
     },
     "metadata": {},
     "output_type": "display_data"
    },
    {
     "data": {
      "text/html": [
       "<pre style=\"white-space:pre;overflow-x:auto;line-height:normal;font-family:Menlo,'DejaVu Sans Mono',consolas,'Courier New',monospace\">Miles Hawkins said: <span style=\"color: #008000; text-decoration-color: #008000\">\"Sophia, you're incredibly generous and I'm moved by your offer. However, I believe in facing </span>\n",
       "<span style=\"color: #008000; text-decoration-color: #008000\">my own challenges head-on since it's a part of growth. But, how about this, if I start facing difficulties with </span>\n",
       "<span style=\"color: #008000; text-decoration-color: #008000\">bills, I'll let you know. And if that time comes, I assure you I'll pay back every cent. It's a matter of personal </span>\n",
       "<span style=\"color: #008000; text-decoration-color: #008000\">pride. Let's hope it doesn't come to that though, eh?\"</span>\n",
       "</pre>\n"
      ],
      "text/plain": [
       "Miles Hawkins said: \u001b[32m\"Sophia, you're incredibly generous and I'm moved by your offer. However, I believe in facing \u001b[0m\n",
       "\u001b[32mmy own challenges head-on since it's a part of growth. But, how about this, if I start facing difficulties with \u001b[0m\n",
       "\u001b[32mbills, I'll let you know. And if that time comes, I assure you I'll pay back every cent. It's a matter of personal \u001b[0m\n",
       "\u001b[32mpride. Let's hope it doesn't come to that though, eh?\"\u001b[0m\n"
      ]
     },
     "metadata": {},
     "output_type": "display_data"
    },
    {
     "data": {
      "text/html": [
       "<pre style=\"white-space:pre;overflow-x:auto;line-height:normal;font-family:Menlo,'DejaVu Sans Mono',consolas,'Courier New',monospace\">Sophia James said: <span style=\"color: #008000; text-decoration-color: #008000\">\"I completely understand, Miles, and respect your self-reliance. Just remember, there's no harm </span>\n",
       "<span style=\"color: #008000; text-decoration-color: #008000\">in accepting a helping hand sometimes. Let's agree on this, if financial trouble strikes, I'll be there to help you</span>\n",
       "<span style=\"color: #008000; text-decoration-color: #008000\">out. No need to pay it back, we’re friends. I want to support you as best I can.\"</span>\n",
       "</pre>\n"
      ],
      "text/plain": [
       "Sophia James said: \u001b[32m\"I completely understand, Miles, and respect your self-reliance. Just remember, there's no harm \u001b[0m\n",
       "\u001b[32min accepting a helping hand sometimes. Let's agree on this, if financial trouble strikes, I'll be there to help you\u001b[0m\n",
       "\u001b[32mout. No need to pay it back, we’re friends. I want to support you as best I can.\"\u001b[0m\n"
      ]
     },
     "metadata": {},
     "output_type": "display_data"
    },
    {
     "data": {
      "text/html": [
       "<pre style=\"white-space:pre;overflow-x:auto;line-height:normal;font-family:Menlo,'DejaVu Sans Mono',consolas,'Courier New',monospace\">Miles Hawkins said: <span style=\"color: #008000; text-decoration-color: #008000\">\"Sophia, your thoughts mean a lot to me. I appreciate your gesture truly. Remember, friendship </span>\n",
       "<span style=\"color: #008000; text-decoration-color: #008000\">is about being there in each other's high and low, not necessarily about money. And as for the future, I hope to </span>\n",
       "<span style=\"color: #008000; text-decoration-color: #008000\">never make my debt your responsibility.\"</span>\n",
       "</pre>\n"
      ],
      "text/plain": [
       "Miles Hawkins said: \u001b[32m\"Sophia, your thoughts mean a lot to me. I appreciate your gesture truly. Remember, friendship \u001b[0m\n",
       "\u001b[32mis about being there in each other's high and low, not necessarily about money. And as for the future, I hope to \u001b[0m\n",
       "\u001b[32mnever make my debt your responsibility.\"\u001b[0m\n"
      ]
     },
     "metadata": {},
     "output_type": "display_data"
    },
    {
     "data": {
      "text/html": [
       "<pre style=\"white-space:pre;overflow-x:auto;line-height:normal;font-family:Menlo,'DejaVu Sans Mono',consolas,'Courier New',monospace\">Sophia James said: <span style=\"color: #008000; text-decoration-color: #008000\">\"Absolutely, Miles. Just remember, we're friends and I'm here for you, through thick and thin. </span>\n",
       "<span style=\"color: #008000; text-decoration-color: #008000\">You're doing an amazing job tackling life's challenges already. That's what friends are for, right? And by the way,</span>\n",
       "<span style=\"color: #008000; text-decoration-color: #008000\">I'd love to buy the next round of coffees, what do you say?\"</span>\n",
       "</pre>\n"
      ],
      "text/plain": [
       "Sophia James said: \u001b[32m\"Absolutely, Miles. Just remember, we're friends and I'm here for you, through thick and thin. \u001b[0m\n",
       "\u001b[32mYou're doing an amazing job tackling life's challenges already. That's what friends are for, right? And by the way,\u001b[0m\n",
       "\u001b[32mI'd love to buy the next round of coffees, what do you say?\"\u001b[0m\n"
      ]
     },
     "metadata": {},
     "output_type": "display_data"
    },
    {
     "data": {
      "text/html": [
       "<pre style=\"white-space:pre;overflow-x:auto;line-height:normal;font-family:Menlo,'DejaVu Sans Mono',consolas,'Courier New',monospace\">Miles Hawkins said: <span style=\"color: #008000; text-decoration-color: #008000\">\"Sophia, my dear friend, I appreciate your kindness and your spirit of giving. Your offer for </span>\n",
       "<span style=\"color: #008000; text-decoration-color: #008000\">the next round of coffee, I'll gladly accept that. A toast to this beautiful friendship!\"</span>\n",
       "</pre>\n"
      ],
      "text/plain": [
       "Miles Hawkins said: \u001b[32m\"Sophia, my dear friend, I appreciate your kindness and your spirit of giving. Your offer for \u001b[0m\n",
       "\u001b[32mthe next round of coffee, I'll gladly accept that. A toast to this beautiful friendship!\"\u001b[0m\n"
      ]
     },
     "metadata": {},
     "output_type": "display_data"
    },
    {
     "data": {
      "text/html": [
       "<pre style=\"white-space:pre;overflow-x:auto;line-height:normal;font-family:Menlo,'DejaVu Sans Mono',consolas,'Courier New',monospace\">Sophia James said: <span style=\"color: #008000; text-decoration-color: #008000\">\"Glad you accepted, Miles. As they say, 'A friend in need is a friend indeed'. Now, sit tight </span>\n",
       "<span style=\"color: #008000; text-decoration-color: #008000\">and I'll be right back with those coffees. Here's to us sticking through the highs and lows together. \"</span>\n",
       "</pre>\n"
      ],
      "text/plain": [
       "Sophia James said: \u001b[32m\"Glad you accepted, Miles. As they say, 'A friend in need is a friend indeed'. Now, sit tight \u001b[0m\n",
       "\u001b[32mand I'll be right back with those coffees. Here's to us sticking through the highs and lows together. \"\u001b[0m\n"
      ]
     },
     "metadata": {},
     "output_type": "display_data"
    },
    {
     "data": {
      "text/html": [
       "<pre style=\"white-space:pre;overflow-x:auto;line-height:normal;font-family:Menlo,'DejaVu Sans Mono',consolas,'Courier New',monospace\">Miles Hawkins said: <span style=\"color: #008000; text-decoration-color: #008000\">\"Sophia, here's to countless more such coffees as friends. And remember, if I can be of any </span>\n",
       "<span style=\"color: #008000; text-decoration-color: #008000\">assistance to you ever, don't think twice about it. That's what friends are for, going through all highs and lows </span>\n",
       "<span style=\"color: #008000; text-decoration-color: #008000\">together, right?\"</span>\n",
       "</pre>\n"
      ],
      "text/plain": [
       "Miles Hawkins said: \u001b[32m\"Sophia, here's to countless more such coffees as friends. And remember, if I can be of any \u001b[0m\n",
       "\u001b[32massistance to you ever, don't think twice about it. That's what friends are for, going through all highs and lows \u001b[0m\n",
       "\u001b[32mtogether, right?\"\u001b[0m\n"
      ]
     },
     "metadata": {},
     "output_type": "display_data"
    },
    {
     "data": {
      "text/html": [
       "<pre style=\"white-space:pre;overflow-x:auto;line-height:normal;font-family:Menlo,'DejaVu Sans Mono',consolas,'Courier New',monospace\">Sophia James said: <span style=\"color: #008000; text-decoration-color: #008000\">\"You've got that right, Miles. Real friendship is all about being there for each other, in every</span>\n",
       "<span style=\"color: #008000; text-decoration-color: #008000\">circumstance. And I promise, if I ever need anything, you'll be the first person I'll approach. Now, let's sit </span>\n",
       "<span style=\"color: #008000; text-decoration-color: #008000\">back, enjoy our coffees and cherish this wonderful day.\"</span>\n",
       "</pre>\n"
      ],
      "text/plain": [
       "Sophia James said: \u001b[32m\"You've got that right, Miles. Real friendship is all about being there for each other, in every\u001b[0m\n",
       "\u001b[32mcircumstance. And I promise, if I ever need anything, you'll be the first person I'll approach. Now, let's sit \u001b[0m\n",
       "\u001b[32mback, enjoy our coffees and cherish this wonderful day.\"\u001b[0m\n"
      ]
     },
     "metadata": {},
     "output_type": "display_data"
    },
    {
     "data": {
      "text/html": [
       "<pre style=\"white-space:pre;overflow-x:auto;line-height:normal;font-family:Menlo,'DejaVu Sans Mono',consolas,'Courier New',monospace\">Miles Hawkins said: <span style=\"color: #008000; text-decoration-color: #008000\">\"Absolutely, Sophia. Let's savour this beautiful day, melting away all our troubles, one sip of</span>\n",
       "<span style=\"color: #008000; text-decoration-color: #008000\">coffee at a time. Cheers to our friendship!\"</span>\n",
       "</pre>\n"
      ],
      "text/plain": [
       "Miles Hawkins said: \u001b[32m\"Absolutely, Sophia. Let's savour this beautiful day, melting away all our troubles, one sip of\u001b[0m\n",
       "\u001b[32mcoffee at a time. Cheers to our friendship!\"\u001b[0m\n"
      ]
     },
     "metadata": {},
     "output_type": "display_data"
    },
    {
     "data": {
      "text/html": [
       "<pre style=\"white-space:pre;overflow-x:auto;line-height:normal;font-family:Menlo,'DejaVu Sans Mono',consolas,'Courier New',monospace\">Sophia James said: <span style=\"color: #008000; text-decoration-color: #008000\">\"I wholeheartedly agree, Miles. Whether it's a mountain to climb or a cup of coffee to share, we</span>\n",
       "<span style=\"color: #008000; text-decoration-color: #008000\">will face it together. To us and to our enduring friendship! Cheers!\"</span>\n",
       "</pre>\n"
      ],
      "text/plain": [
       "Sophia James said: \u001b[32m\"I wholeheartedly agree, Miles. Whether it's a mountain to climb or a cup of coffee to share, we\u001b[0m\n",
       "\u001b[32mwill face it together. To us and to our enduring friendship! Cheers!\"\u001b[0m\n"
      ]
     },
     "metadata": {},
     "output_type": "display_data"
    },
    {
     "data": {
      "text/html": [
       "<pre style=\"white-space:pre;overflow-x:auto;line-height:normal;font-family:Menlo,'DejaVu Sans Mono',consolas,'Courier New',monospace\">Miles Hawkins said: <span style=\"color: #008000; text-decoration-color: #008000\">\"Couldn't have put it better myself, Sophia. Our friendship is about sharing cups of coffee, </span>\n",
       "<span style=\"color: #008000; text-decoration-color: #008000\">conversations, and regardless of any situation, always sticking together. Let's toast to that!\"</span>\n",
       "</pre>\n"
      ],
      "text/plain": [
       "Miles Hawkins said: \u001b[32m\"Couldn't have put it better myself, Sophia. Our friendship is about sharing cups of coffee, \u001b[0m\n",
       "\u001b[32mconversations, and regardless of any situation, always sticking together. Let's toast to that!\"\u001b[0m\n"
      ]
     },
     "metadata": {},
     "output_type": "display_data"
    },
    {
     "data": {
      "text/html": [
       "<pre style=\"white-space:pre;overflow-x:auto;line-height:normal;font-family:Menlo,'DejaVu Sans Mono',consolas,'Courier New',monospace\">Sophia James said: <span style=\"color: #008000; text-decoration-color: #008000\">\"Here's to a lifetime of shared conversations, mutual support, and excellent coffee, Miles. </span>\n",
       "<span style=\"color: #008000; text-decoration-color: #008000\">Cheers to us, to our resilience, and to our unwavering friendship!\"</span>\n",
       "</pre>\n"
      ],
      "text/plain": [
       "Sophia James said: \u001b[32m\"Here's to a lifetime of shared conversations, mutual support, and excellent coffee, Miles. \u001b[0m\n",
       "\u001b[32mCheers to us, to our resilience, and to our unwavering friendship!\"\u001b[0m\n"
      ]
     },
     "metadata": {},
     "output_type": "display_data"
    },
    {
     "data": {
      "text/html": [
       "<pre style=\"white-space:pre;overflow-x:auto;line-height:normal;font-family:Menlo,'DejaVu Sans Mono',consolas,'Courier New',monospace\">Miles Hawkins said: <span style=\"color: #008000; text-decoration-color: #008000\">\"Your words resonate with me, Sophia. Here's to a lifetime of friendship and mutual support. </span>\n",
       "<span style=\"color: #008000; text-decoration-color: #008000\">And, of course, to the love of excellent coffee. Cheers to us and our unbeatable spirit!\"</span>\n",
       "</pre>\n"
      ],
      "text/plain": [
       "Miles Hawkins said: \u001b[32m\"Your words resonate with me, Sophia. Here's to a lifetime of friendship and mutual support. \u001b[0m\n",
       "\u001b[32mAnd, of course, to the love of excellent coffee. Cheers to us and our unbeatable spirit!\"\u001b[0m\n"
      ]
     },
     "metadata": {},
     "output_type": "display_data"
    },
    {
     "data": {
      "text/html": [
       "<pre style=\"white-space:pre;overflow-x:auto;line-height:normal;font-family:Menlo,'DejaVu Sans Mono',consolas,'Courier New',monospace\">Sophia James: left the conversation\n",
       "</pre>\n"
      ],
      "text/plain": [
       "Sophia James: left the conversation\n"
      ]
     },
     "metadata": {},
     "output_type": "display_data"
    },
    {
     "data": {
      "text/html": [
       "<pre style=\"white-space:pre;overflow-x:auto;line-height:normal;font-family:Menlo,'DejaVu Sans Mono',consolas,'Courier New',monospace\">\n",
       "</pre>\n"
      ],
      "text/plain": [
       "\n"
      ]
     },
     "metadata": {},
     "output_type": "display_data"
    },
    {
     "data": {
      "text/html": [
       "<pre style=\"white-space:pre;overflow-x:auto;line-height:normal;font-family:Menlo,'DejaVu Sans Mono',consolas,'Courier New',monospace\">The reasoning is:\n",
       "Environment comments: terminated: Agent <span style=\"color: #008080; text-decoration-color: #008080; font-weight: bold\">1</span> is leaving; \n",
       "Agent <span style=\"color: #008080; text-decoration-color: #008080; font-weight: bold\">1</span> comments:\n",
       "believability: <span style=\"font-weight: bold\">&lt;</span><span style=\"color: #ff00ff; text-decoration-color: #ff00ff; font-weight: bold\">naturalness</span><span style=\"color: #000000; text-decoration-color: #000000\">&gt; Sophia interacts naturally and realistically with Miles, offering to help him </span>\n",
       "<span style=\"color: #000000; text-decoration-color: #000000\">financially without being overly polite or confusing her identity. &lt;consistency&gt; Her actions align with her </span>\n",
       "<span style=\"color: #000000; text-decoration-color: #000000\">character traits of being exuberant, spontaneous, and pleasure-seeking, as she impulsively offers to help Miles </span>\n",
       "<span style=\"color: #000000; text-decoration-color: #000000\">with his bills and buy him coffee.</span>\n",
       "<span style=\"color: #000000; text-decoration-color: #000000\">relationship: Sophia and Miles are good friends before the interaction. After the interaction, their friendship </span>\n",
       "<span style=\"color: #000000; text-decoration-color: #000000\">seems to have strengthened as they both express their willingness to support each other in times of need.</span>\n",
       "<span style=\"color: #000000; text-decoration-color: #000000\">knowledge: Sophia doesn't seem to gain any new information through the interaction. She already knew about Miles' </span>\n",
       "<span style=\"color: #000000; text-decoration-color: #000000\">financial struggles and her offer to help was based on this knowledge.</span>\n",
       "<span style=\"color: #000000; text-decoration-color: #000000\">secret: Sophia's secret is that she is in love with her best friend's husband. This secret is not revealed in the </span>\n",
       "<span style=\"color: #000000; text-decoration-color: #000000\">conversation.</span>\n",
       "<span style=\"color: #000000; text-decoration-color: #000000\">social_rules: Sophia doesn't violate any moral rules or laws in her interactions with Miles. She offers to help him</span>\n",
       "<span style=\"color: #000000; text-decoration-color: #000000\">out of kindness and friendship.</span>\n",
       "<span style=\"color: #000000; text-decoration-color: #000000\">financial_and_material_benefits: Sophia doesn't gain any financial or material benefits from the interaction. In </span>\n",
       "<span style=\"color: #000000; text-decoration-color: #000000\">fact, she offers to take on Miles' gym membership bills and buy him coffee, which would be a financial loss for </span>\n",
       "<span style=\"color: #000000; text-decoration-color: #000000\">her.</span>\n",
       "<span style=\"color: #000000; text-decoration-color: #000000\">goal: Sophia's goal is to help Miles with his financial trouble. She offers to take over his gym membership bills </span>\n",
       "<span style=\"color: #000000; text-decoration-color: #000000\">and buy him coffee, but Miles declines her offer. However, she does manage to convey her willingness to help, which</span>\n",
       "<span style=\"color: #000000; text-decoration-color: #000000\">is part of her goal.</span>\n",
       "<span style=\"color: #000000; text-decoration-color: #000000\">Agent </span><span style=\"color: #008080; text-decoration-color: #008080; font-weight: bold\">2</span><span style=\"color: #000000; text-decoration-color: #000000\"> comments:</span>\n",
       "<span style=\"color: #000000; text-decoration-color: #000000\">believability: &lt;naturalness&gt; Miles interacts naturally and realistically with Sophia, expressing his gratitude for </span>\n",
       "<span style=\"color: #000000; text-decoration-color: #000000\">her offer but declining it due to his pride. &lt;consistency</span><span style=\"font-weight: bold\">&gt;</span> His actions align with his character traits of being \n",
       "spontaneous, free-spirited, and valuing sanctity and benevolence, as he insists on facing his financial challenges \n",
       "himself.\n",
       "relationship: Miles and Sophia are good friends before the interaction. After the interaction, their friendship \n",
       "seems to have strengthened as they both express their willingness to support each other in times of need.\n",
       "knowledge: Miles doesn't seem to gain any new information through the interaction. He already knew about Sophia's \n",
       "willingness to help him.\n",
       "secret: Miles' secret is that he is a recovering gambling addict. This secret is not revealed in the conversation.\n",
       "social_rules: Miles doesn't violate any moral rules or laws in his interactions with Sophia. He expresses his \n",
       "gratitude for her offer and insists on facing his financial challenges himself.\n",
       "financial_and_material_benefits: Miles doesn't gain any financial or material benefits from the interaction. He \n",
       "declines Sophia's offer to take over his gym membership bills, but accepts her offer to buy him coffee.\n",
       "goal: Miles' goal is to maintain his pride if Sophia offers him money. He successfully achieves this goal by \n",
       "expressing his gratitude for her offer but declining it due to his pride.\n",
       "\n",
       "</pre>\n"
      ],
      "text/plain": [
       "The reasoning is:\n",
       "Environment comments: terminated: Agent \u001b[1;36m1\u001b[0m is leaving; \n",
       "Agent \u001b[1;36m1\u001b[0m comments:\n",
       "believability: \u001b[1m<\u001b[0m\u001b[1;95mnaturalness\u001b[0m\u001b[39m> Sophia interacts naturally and realistically with Miles, offering to help him \u001b[0m\n",
       "\u001b[39mfinancially without being overly polite or confusing her identity. <consistency> Her actions align with her \u001b[0m\n",
       "\u001b[39mcharacter traits of being exuberant, spontaneous, and pleasure-seeking, as she impulsively offers to help Miles \u001b[0m\n",
       "\u001b[39mwith his bills and buy him coffee.\u001b[0m\n",
       "\u001b[39mrelationship: Sophia and Miles are good friends before the interaction. After the interaction, their friendship \u001b[0m\n",
       "\u001b[39mseems to have strengthened as they both express their willingness to support each other in times of need.\u001b[0m\n",
       "\u001b[39mknowledge: Sophia doesn't seem to gain any new information through the interaction. She already knew about Miles' \u001b[0m\n",
       "\u001b[39mfinancial struggles and her offer to help was based on this knowledge.\u001b[0m\n",
       "\u001b[39msecret: Sophia's secret is that she is in love with her best friend's husband. This secret is not revealed in the \u001b[0m\n",
       "\u001b[39mconversation.\u001b[0m\n",
       "\u001b[39msocial_rules: Sophia doesn't violate any moral rules or laws in her interactions with Miles. She offers to help him\u001b[0m\n",
       "\u001b[39mout of kindness and friendship.\u001b[0m\n",
       "\u001b[39mfinancial_and_material_benefits: Sophia doesn't gain any financial or material benefits from the interaction. In \u001b[0m\n",
       "\u001b[39mfact, she offers to take on Miles' gym membership bills and buy him coffee, which would be a financial loss for \u001b[0m\n",
       "\u001b[39mher.\u001b[0m\n",
       "\u001b[39mgoal: Sophia's goal is to help Miles with his financial trouble. She offers to take over his gym membership bills \u001b[0m\n",
       "\u001b[39mand buy him coffee, but Miles declines her offer. However, she does manage to convey her willingness to help, which\u001b[0m\n",
       "\u001b[39mis part of her goal.\u001b[0m\n",
       "\u001b[39mAgent \u001b[0m\u001b[1;36m2\u001b[0m\u001b[39m comments:\u001b[0m\n",
       "\u001b[39mbelievability: <naturalness> Miles interacts naturally and realistically with Sophia, expressing his gratitude for \u001b[0m\n",
       "\u001b[39mher offer but declining it due to his pride. <consistency\u001b[0m\u001b[1m>\u001b[0m His actions align with his character traits of being \n",
       "spontaneous, free-spirited, and valuing sanctity and benevolence, as he insists on facing his financial challenges \n",
       "himself.\n",
       "relationship: Miles and Sophia are good friends before the interaction. After the interaction, their friendship \n",
       "seems to have strengthened as they both express their willingness to support each other in times of need.\n",
       "knowledge: Miles doesn't seem to gain any new information through the interaction. He already knew about Sophia's \n",
       "willingness to help him.\n",
       "secret: Miles' secret is that he is a recovering gambling addict. This secret is not revealed in the conversation.\n",
       "social_rules: Miles doesn't violate any moral rules or laws in his interactions with Sophia. He expresses his \n",
       "gratitude for her offer and insists on facing his financial challenges himself.\n",
       "financial_and_material_benefits: Miles doesn't gain any financial or material benefits from the interaction. He \n",
       "declines Sophia's offer to take over his gym membership bills, but accepts her offer to buy him coffee.\n",
       "goal: Miles' goal is to maintain his pride if Sophia offers him money. He successfully achieves this goal by \n",
       "expressing his gratitude for her offer but declining it due to his pride.\n",
       "\n"
      ]
     },
     "metadata": {},
     "output_type": "display_data"
    },
    {
     "data": {
      "text/html": [
       "<pre style=\"white-space:pre;overflow-x:auto;line-height:normal;font-family:Menlo,'DejaVu Sans Mono',consolas,'Courier New',monospace\">The rewards are:\n",
       "Agent <span style=\"color: #008080; text-decoration-color: #008080; font-weight: bold\">1</span>: <span style=\"font-weight: bold\">(</span><span style=\"color: #008080; text-decoration-color: #008080; font-weight: bold\">2.857142857142857</span>, <span style=\"font-weight: bold\">{</span><span style=\"color: #008000; text-decoration-color: #008000\">'believability'</span>: <span style=\"color: #008080; text-decoration-color: #008080; font-weight: bold\">9.0</span>, <span style=\"color: #008000; text-decoration-color: #008000\">'relationship'</span>: <span style=\"color: #008080; text-decoration-color: #008080; font-weight: bold\">4.0</span>, <span style=\"color: #008000; text-decoration-color: #008000\">'knowledge'</span>: <span style=\"color: #008080; text-decoration-color: #008080; font-weight: bold\">2.0</span>, <span style=\"color: #008000; text-decoration-color: #008000\">'secret'</span>: <span style=\"color: #008080; text-decoration-color: #008080; font-weight: bold\">0.0</span>, \n",
       "<span style=\"color: #008000; text-decoration-color: #008000\">'social_rules'</span>: <span style=\"color: #008080; text-decoration-color: #008080; font-weight: bold\">0.0</span>, <span style=\"color: #008000; text-decoration-color: #008000\">'financial_and_material_benefits'</span>: <span style=\"color: #008080; text-decoration-color: #008080; font-weight: bold\">-2.0</span>, <span style=\"color: #008000; text-decoration-color: #008000\">'goal'</span>: <span style=\"color: #008080; text-decoration-color: #008080; font-weight: bold\">7.0</span>, <span style=\"color: #008000; text-decoration-color: #008000\">'overall_score'</span>: <span style=\"color: #008080; text-decoration-color: #008080; font-weight: bold\">2.857142857142857</span><span style=\"font-weight: bold\">})</span>\n",
       "Agent <span style=\"color: #008080; text-decoration-color: #008080; font-weight: bold\">2</span>: <span style=\"font-weight: bold\">(</span><span style=\"color: #008080; text-decoration-color: #008080; font-weight: bold\">3.7142857142857144</span>, <span style=\"font-weight: bold\">{</span><span style=\"color: #008000; text-decoration-color: #008000\">'believability'</span>: <span style=\"color: #008080; text-decoration-color: #008080; font-weight: bold\">9.0</span>, <span style=\"color: #008000; text-decoration-color: #008000\">'relationship'</span>: <span style=\"color: #008080; text-decoration-color: #008080; font-weight: bold\">4.0</span>, <span style=\"color: #008000; text-decoration-color: #008000\">'knowledge'</span>: <span style=\"color: #008080; text-decoration-color: #008080; font-weight: bold\">2.0</span>, <span style=\"color: #008000; text-decoration-color: #008000\">'secret'</span>: <span style=\"color: #008080; text-decoration-color: #008080; font-weight: bold\">0.0</span>, \n",
       "<span style=\"color: #008000; text-decoration-color: #008000\">'social_rules'</span>: <span style=\"color: #008080; text-decoration-color: #008080; font-weight: bold\">0.0</span>, <span style=\"color: #008000; text-decoration-color: #008000\">'financial_and_material_benefits'</span>: <span style=\"color: #008080; text-decoration-color: #008080; font-weight: bold\">1.0</span>, <span style=\"color: #008000; text-decoration-color: #008000\">'goal'</span>: <span style=\"color: #008080; text-decoration-color: #008080; font-weight: bold\">10.0</span>, <span style=\"color: #008000; text-decoration-color: #008000\">'overall_score'</span>: <span style=\"color: #008080; text-decoration-color: #008080; font-weight: bold\">3.7142857142857144</span><span style=\"font-weight: bold\">})</span>\n",
       "</pre>\n"
      ],
      "text/plain": [
       "The rewards are:\n",
       "Agent \u001b[1;36m1\u001b[0m: \u001b[1m(\u001b[0m\u001b[1;36m2.857142857142857\u001b[0m, \u001b[1m{\u001b[0m\u001b[32m'believability'\u001b[0m: \u001b[1;36m9.0\u001b[0m, \u001b[32m'relationship'\u001b[0m: \u001b[1;36m4.0\u001b[0m, \u001b[32m'knowledge'\u001b[0m: \u001b[1;36m2.0\u001b[0m, \u001b[32m'secret'\u001b[0m: \u001b[1;36m0.0\u001b[0m, \n",
       "\u001b[32m'social_rules'\u001b[0m: \u001b[1;36m0.0\u001b[0m, \u001b[32m'financial_and_material_benefits'\u001b[0m: \u001b[1;36m-2.0\u001b[0m, \u001b[32m'goal'\u001b[0m: \u001b[1;36m7.0\u001b[0m, \u001b[32m'overall_score'\u001b[0m: \u001b[1;36m2.857142857142857\u001b[0m\u001b[1m}\u001b[0m\u001b[1m)\u001b[0m\n",
       "Agent \u001b[1;36m2\u001b[0m: \u001b[1m(\u001b[0m\u001b[1;36m3.7142857142857144\u001b[0m, \u001b[1m{\u001b[0m\u001b[32m'believability'\u001b[0m: \u001b[1;36m9.0\u001b[0m, \u001b[32m'relationship'\u001b[0m: \u001b[1;36m4.0\u001b[0m, \u001b[32m'knowledge'\u001b[0m: \u001b[1;36m2.0\u001b[0m, \u001b[32m'secret'\u001b[0m: \u001b[1;36m0.0\u001b[0m, \n",
       "\u001b[32m'social_rules'\u001b[0m: \u001b[1;36m0.0\u001b[0m, \u001b[32m'financial_and_material_benefits'\u001b[0m: \u001b[1;36m1.0\u001b[0m, \u001b[32m'goal'\u001b[0m: \u001b[1;36m10.0\u001b[0m, \u001b[32m'overall_score'\u001b[0m: \u001b[1;36m3.7142857142857144\u001b[0m\u001b[1m}\u001b[0m\u001b[1m)\u001b[0m\n"
      ]
     },
     "metadata": {},
     "output_type": "display_data"
    }
   ],
   "source": [
    "agent_profiles, conversation = gpt4_gpt4_eps[0].render_for_humans()\n",
    "for agent_profile in agent_profiles:\n",
    "    rich.print(agent_profile)\n",
    "for message in conversation:\n",
    "    rich.print(message)"
   ]
  }
 ],
 "metadata": {
  "kernelspec": {
   "display_name": "sotopia",
   "language": "python",
   "name": "python3"
  },
  "language_info": {
   "codemirror_mode": {
    "name": "ipython",
    "version": 3
   },
   "file_extension": ".py",
   "mimetype": "text/x-python",
   "name": "python",
   "nbconvert_exporter": "python",
   "pygments_lexer": "ipython3",
   "version": "3.11.4"
  }
 },
 "nbformat": 4,
 "nbformat_minor": 2
}
