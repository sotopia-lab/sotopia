{
 "cells": [
  {
   "cell_type": "code",
   "execution_count": null,
   "metadata": {},
   "outputs": [],
   "source": [
    "import os\n",
    "import json\n",
    "from typing import get_args\n",
    "from tqdm.notebook import tqdm\n",
    "import rich\n",
    "import logging\n",
    "from collections import Counter\n",
    "from sotopia.database.persistent_profile import (\n",
    "    AgentProfile,\n",
    "    EnvironmentProfile,\n",
    "    RelationshipProfile,\n",
    ")\n",
    "from sotopia.database.logs import EpisodeLog\n",
    "from sotopia.database.env_agent_combo_storage import EnvAgentComboStorage"
   ]
  },
  {
   "cell_type": "markdown",
   "metadata": {},
   "source": [
    "### Episodes to CSV/JSON"
   ]
  },
  {
   "cell_type": "code",
   "execution_count": null,
   "metadata": {},
   "outputs": [],
   "source": [
    "from typing import Literal\n",
    "\n",
    "from pydantic import ValidationError\n",
    "\n",
    "\n",
    "LLM_Name = Literal[\n",
    "    \"togethercomputer/llama-2-7b-chat\",\n",
    "    \"togethercomputer/llama-2-70b-chat\",\n",
    "    \"togethercomputer/mpt-30b-chat\",\n",
    "    \"gpt-3.5-turbo\",\n",
    "    \"text-davinci-003\",\n",
    "    \"gpt-4\",\n",
    "    \"gpt-4-turbo\",\n",
    "    \"human\",\n",
    "    \"redis\",\n",
    "]\n",
    "\n",
    "\n",
    "def _is_valid_episode_log_pk(pk: str) -> bool:\n",
    "    try:\n",
    "        episode = EpisodeLog.get(pk=pk)\n",
    "    except ValidationError:\n",
    "        return False\n",
    "    try:\n",
    "        tag = episode.tag\n",
    "        model_1, model_2, version = tag.split(\"_\", maxsplit=2)\n",
    "        if (\n",
    "            model_1 in get_args(LLM_Name)\n",
    "            and model_2 in get_args(LLM_Name)\n",
    "            and version == \"v0.0.1_clean\"\n",
    "        ):\n",
    "            return True\n",
    "        else:\n",
    "            return False\n",
    "    except (ValueError, AttributeError):\n",
    "        # ValueError: tag has less than 3 parts\n",
    "        # AttributeError: tag is None\n",
    "        return False\n",
    "\n",
    "\n",
    "episodes: list[EpisodeLog] = [\n",
    "    EpisodeLog.get(pk=pk)\n",
    "    for pk in filter(_is_valid_episode_log_pk, EpisodeLog.all_pks())\n",
    "]"
   ]
  },
  {
   "cell_type": "code",
   "execution_count": null,
   "metadata": {},
   "outputs": [],
   "source": [
    "from sotopia.database.serialization import episodes_to_csv\n",
    "\n",
    "\n",
    "episodes_to_csv(episodes, \"../data/sotopia_episodes_v1.csv\")"
   ]
  },
  {
   "cell_type": "code",
   "execution_count": null,
   "metadata": {},
   "outputs": [],
   "source": [
    "from sotopia.database.serialization import episodes_to_json\n",
    "\n",
    "\n",
    "episodes_to_json(episodes, \"../data/sotopia_episodes_v1.json\")"
   ]
  },
  {
   "cell_type": "markdown",
   "metadata": {},
   "source": [
    "## Relationship Profile"
   ]
  },
  {
   "cell_type": "code",
   "execution_count": null,
   "metadata": {},
   "outputs": [],
   "source": [
    "res_pks = RelationshipProfile.all_pks()\n",
    "res_pks = list(res_pks)\n",
    "print(len(res_pks))\n",
    "res = []\n",
    "for pk in res_pks:\n",
    "    print(pk)\n",
    "    try:\n",
    "        res.append(RelationshipProfile.get(pk=pk))\n",
    "    except Exception:\n",
    "        print(\"error\")\n",
    "        pass\n",
    "res_relationships = [r.relationship for r in res]\n",
    "Counter(res_relationships)"
   ]
  },
  {
   "cell_type": "markdown",
   "metadata": {},
   "source": [
    "## Agents Profile"
   ]
  },
  {
   "cell_type": "code",
   "execution_count": null,
   "metadata": {},
   "outputs": [],
   "source": [
    "# obtain a specific agent\n",
    "agents = AgentProfile.find(AgentProfile.first_name == \"ss\").all()\n",
    "rich.print(agents)"
   ]
  },
  {
   "cell_type": "code",
   "execution_count": null,
   "metadata": {},
   "outputs": [],
   "source": [
    "# find specific agnets\n",
    "agents = AgentProfile.find(AgentProfile.gender == \"Man\", AgentProfile.age > 30)\n",
    "for agent in agents:\n",
    "    rich.print(agent)"
   ]
  },
  {
   "cell_type": "code",
   "execution_count": null,
   "metadata": {},
   "outputs": [],
   "source": [
    "# obtain all agents' basic info\n",
    "agent_pks = AgentProfile.all_pks()\n",
    "agent_pks = list(agent_pks)\n",
    "print(len(agent_pks))\n",
    "agents = []\n",
    "for pk in agent_pks:\n",
    "    try:\n",
    "        agents.append(AgentProfile.get(pk=pk))\n",
    "    except Exception:\n",
    "        print(\"error\")\n",
    "        pass\n",
    "# output agents's basic info\n",
    "for agent in agents:\n",
    "    rich.print(agent)"
   ]
  },
  {
   "cell_type": "code",
   "execution_count": null,
   "metadata": {},
   "outputs": [],
   "source": [
    "agent_pks = AgentProfile.all_pks()\n",
    "agent_pks = list(agent_pks)\n",
    "print(len(agent_pks))"
   ]
  },
  {
   "cell_type": "code",
   "execution_count": null,
   "metadata": {},
   "outputs": [],
   "source": [
    "# Update agent's information\n",
    "agents = AgentProfile.find(\n",
    "    AgentProfile.first_name == \"Ava\", AgentProfile.last_name == \"Martinez\"\n",
    ").all()[0]"
   ]
  },
  {
   "cell_type": "code",
   "execution_count": null,
   "metadata": {},
   "outputs": [],
   "source": [
    "agents"
   ]
  },
  {
   "cell_type": "code",
   "execution_count": null,
   "metadata": {},
   "outputs": [],
   "source": [
    "agents.update(secret=\"Keeps their bisexuality a secret from her conservative family\")"
   ]
  },
  {
   "cell_type": "markdown",
   "metadata": {},
   "source": [
    "## Environment Profile"
   ]
  },
  {
   "cell_type": "code",
   "execution_count": null,
   "metadata": {},
   "outputs": [],
   "source": [
    "# get all environments\n",
    "all_envs = list(EnvironmentProfile.all_pks())\n",
    "print(len(all_envs))\n",
    "print(all_envs[:5])"
   ]
  },
  {
   "cell_type": "code",
   "execution_count": null,
   "metadata": {},
   "outputs": [],
   "source": [
    "# get a specific environment profile\n",
    "env_profile_id = \"01H7VFHPJKR16MD1KC71V4ZRCF\"\n",
    "env = EnvironmentProfile.get(env_profile_id)\n",
    "rich.print(env)"
   ]
  },
  {
   "cell_type": "markdown",
   "metadata": {},
   "source": [
    "## EnvAgentComboStorage"
   ]
  },
  {
   "cell_type": "code",
   "execution_count": null,
   "metadata": {},
   "outputs": [],
   "source": [
    "# all env-agent combos\n",
    "all_combos = EnvAgentComboStorage().all_pks()\n",
    "all_combos = list(all_combos)\n",
    "print(len(all_combos))\n",
    "rich.print(EnvAgentComboStorage().get(all_combos[0]))"
   ]
  },
  {
   "cell_type": "code",
   "execution_count": null,
   "metadata": {},
   "outputs": [],
   "source": [
    "# check for duplicates in EnvAgentComboStorage\n",
    "cache = set()\n",
    "for combo_pk in all_combos:\n",
    "    combo = EnvAgentComboStorage.get(combo_pk)\n",
    "    curr_tuple = (combo.env_id, combo.agent_ids[0], combo.agent_ids[1])\n",
    "    if curr_tuple in cache:\n",
    "        print(\"duplicate\")\n",
    "    else:\n",
    "        cache.add(curr_tuple)"
   ]
  },
  {
   "cell_type": "markdown",
   "metadata": {},
   "source": [
    "## Episode Log"
   ]
  },
  {
   "cell_type": "code",
   "execution_count": null,
   "metadata": {},
   "outputs": [],
   "source": [
    "# find episode log by tag\n",
    "Episodes = EpisodeLog.find(EpisodeLog.tag == \"aug20_gpt4_llama-2-70b-chat_zqi2\").all()\n",
    "len(Episodes)"
   ]
  },
  {
   "cell_type": "code",
   "execution_count": null,
   "metadata": {},
   "outputs": [],
   "source": [
    "# get all episode logs' primary keys\n",
    "episode_pks = EpisodeLog.all_pks()\n",
    "episode_pks = list(episode_pks)\n",
    "print(len(episode_pks))\n",
    "print(episode_pks[0])"
   ]
  },
  {
   "cell_type": "code",
   "execution_count": null,
   "metadata": {},
   "outputs": [],
   "source": [
    "# some eps have validation error while loading\n",
    "# find all buggy eps and good eps\n",
    "good_eps = []\n",
    "buggy_eps = []\n",
    "for pk in episode_pks:\n",
    "    try:\n",
    "        curr_ep = EpisodeLog.get(pk)\n",
    "    except Exception as e:\n",
    "        print(pk)\n",
    "        print(e)\n",
    "        buggy_eps.append(curr_ep)\n",
    "        continue\n",
    "    good_eps.append(curr_ep)\n",
    "len(buggy_eps)"
   ]
  },
  {
   "cell_type": "code",
   "execution_count": null,
   "metadata": {},
   "outputs": [],
   "source": [
    "print(len(buggy_eps))"
   ]
  },
  {
   "cell_type": "code",
   "execution_count": null,
   "metadata": {},
   "outputs": [],
   "source": [
    "def delete_and_save(delete_pks, save_path):\n",
    "    for pk in tqdm(delete_pks):\n",
    "        episode = EpisodeLog.get(pk=pk)\n",
    "        EpisodeLog.delete(pk)\n",
    "        ep_json = episode.json()\n",
    "        with open(os.path.join(save_path, f\"{pk}.json\"), \"w\") as f:\n",
    "            f.write(ep_json)"
   ]
  },
  {
   "cell_type": "code",
   "execution_count": null,
   "metadata": {},
   "outputs": [],
   "source": [
    "!pwd"
   ]
  },
  {
   "cell_type": "code",
   "execution_count": null,
   "metadata": {},
   "outputs": [],
   "source": [
    "buggy_ep_pks = [ep.pk for ep in buggy_eps]\n",
    "print(len(buggy_ep_pks))\n",
    "delete_and_save(buggy_ep_pks, \"/Users/zhengyangqi/sotopia/backup/buggy_episode\")"
   ]
  },
  {
   "cell_type": "code",
   "execution_count": null,
   "metadata": {},
   "outputs": [],
   "source": [
    "with open(\n",
    "    \"/Users/zhengyangqi/sotopia/backup/buggy_episode/01H6YDDT9M8ZYM2FN1F1STM1QB.json\",\n",
    "    \"r\",\n",
    ") as f:\n",
    "    test_ep_data = json.load(f)\n",
    "test_ep_data.keys()"
   ]
  },
  {
   "cell_type": "code",
   "execution_count": null,
   "metadata": {},
   "outputs": [],
   "source": [
    "test_ep = EpisodeLog(**test_ep_data)\n",
    "agent_profiles, conversation = test_ep.render_for_humans()\n",
    "for agent_profile in agent_profiles:\n",
    "    rich.print(agent_profile)\n",
    "for message in conversation:\n",
    "    rich.print(message)"
   ]
  },
  {
   "cell_type": "code",
   "execution_count": null,
   "metadata": {},
   "outputs": [],
   "source": [
    "# get the epilogs that contain the specified models\n",
    "model1 = \"gpt-4\"\n",
    "model2 = \"gpt-4\"\n",
    "model_comp1 = [\"gpt-4\", model1, model2]\n",
    "model_comp2 = [\"gpt-4\", model2, model1]\n",
    "\n",
    "gpt35_llama2_eps = []\n",
    "for epid in episode_pks:\n",
    "    try:\n",
    "        curr_ep = EpisodeLog.get(epid)\n",
    "    except Exception:\n",
    "        continue\n",
    "    if curr_ep.models == model_comp1 or curr_ep.models == model_comp2:\n",
    "        gpt35_llama2_eps.append(curr_ep)\n",
    "len(gpt35_llama2_eps)"
   ]
  },
  {
   "cell_type": "code",
   "execution_count": null,
   "metadata": {},
   "outputs": [],
   "source": [
    "# check symetry of epilogs, i.e., if we have an epilog for env1, agent1, agent2, then we should have an epilog for env1, agent2, agent1\n",
    "def is_symmetric_epilogs(epilogs):\n",
    "    asymetric_epilogs = []\n",
    "    gpt35_llama2_epilogs_dict = {}\n",
    "    for ep in epilogs:\n",
    "        hash_key = (\n",
    "            ep.environment,\n",
    "            ep.agents[0],\n",
    "            ep.agents[1],\n",
    "            ep.models[0],\n",
    "            ep.models[1],\n",
    "            ep.models[2],\n",
    "        )\n",
    "        gpt35_llama2_epilogs_dict[hash_key] = ep.pk\n",
    "    for hash_key in gpt35_llama2_epilogs_dict:\n",
    "        if (\n",
    "            hash_key[0],\n",
    "            hash_key[1],\n",
    "            hash_key[2],\n",
    "            hash_key[3],\n",
    "            hash_key[5],\n",
    "            hash_key[4],\n",
    "        ) not in gpt35_llama2_epilogs_dict:\n",
    "            asymetric_epilogs.append(gpt35_llama2_epilogs_dict[hash_key])\n",
    "\n",
    "    if len(asymetric_epilogs) == 0:\n",
    "        return True\n",
    "    else:\n",
    "        logging.warning(\n",
    "            f\"Found {len(asymetric_epilogs)} asymetric epilogs: {asymetric_epilogs}\"\n",
    "        )\n",
    "        return False"
   ]
  },
  {
   "cell_type": "code",
   "execution_count": null,
   "metadata": {},
   "outputs": [],
   "source": [
    "is_symmetric_epilogs(Episodes)"
   ]
  },
  {
   "cell_type": "markdown",
   "metadata": {},
   "source": [
    "## Render Episodes"
   ]
  },
  {
   "cell_type": "code",
   "execution_count": null,
   "metadata": {},
   "outputs": [],
   "source": [
    "# get a human readable version of the episode\n",
    "agent_profiles, conversation = Episodes[1].render_for_humans()\n",
    "for agent_profile in agent_profiles:\n",
    "    rich.print(agent_profile)\n",
    "for message in conversation:\n",
    "    rich.print(message)"
   ]
  },
  {
   "cell_type": "code",
   "execution_count": null,
   "metadata": {},
   "outputs": [],
   "source": [
    "# check environments\n",
    "len(set([Episode.environment for Episode in Episodes]))"
   ]
  }
 ],
 "metadata": {
  "kernelspec": {
   "display_name": "sotopia",
   "language": "python",
   "name": "python3"
  },
  "language_info": {
   "codemirror_mode": {
    "name": "ipython",
    "version": 3
   },
   "file_extension": ".py",
   "mimetype": "text/x-python",
   "name": "python",
   "nbconvert_exporter": "python",
   "pygments_lexer": "ipython3",
   "version": "3.11.2"
  }
 },
 "nbformat": 4,
 "nbformat_minor": 2
}
