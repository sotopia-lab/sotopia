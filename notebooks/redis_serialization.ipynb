{
 "cells": [
  {
   "cell_type": "markdown",
   "metadata": {},
   "source": [
    "# Redis Serialization\n",
    "\n",
    "In this notebook, we will explain how to utilize serialization and deserialization function provided in sotopia, achieving the convertion between jsonline / CSV and redis database."
   ]
  },
  {
   "cell_type": "code",
   "execution_count": null,
   "metadata": {},
   "outputs": [],
   "source": [
    "import sys\n",
    "\n",
    "sys.path.append(\"../\")\n",
    "import os\n",
    "\n",
    "os.environ[\"REDIS_OM_URL\"] = \"redis://:QzmCUD3C3RdsR@localhost:6379\"\n",
    "from typing import get_args\n",
    "from pydantic import ValidationError\n",
    "from sotopia.database import (\n",
    "    AgentProfile,\n",
    "    EnvironmentProfile,\n",
    "    RelationshipProfile,\n",
    "    EpisodeLog,\n",
    ")\n",
    "from sotopia.database import (\n",
    "    episodes_to_csv,\n",
    "    episodes_to_jsonl,\n",
    "    agentprofiles_to_csv,\n",
    "    agentprofiles_to_jsonl,\n",
    "    environmentprofiles_to_csv,\n",
    "    environmentprofiles_to_jsonl,\n",
    "    relationshipprofiles_to_csv,\n",
    "    relationshipprofiles_to_jsonl,\n",
    "    envagnetcombostorage_to_csv,\n",
    "    envagnetcombostorage_to_jsonl,\n",
    "    jsonl_to_episodes,\n",
    "    jsonl_to_agentprofiles,\n",
    "    jsonl_to_environmentprofiles,\n",
    "    jsonl_to_relationshipprofiles,\n",
    "    jsonl_to_envagnetcombostorage,\n",
    ")\n",
    "from sotopia.database.env_agent_combo_storage import EnvAgentComboStorage\n",
    "from typing import Literal\n",
    "from pprint import pprint"
   ]
  },
  {
   "cell_type": "markdown",
   "metadata": {},
   "source": [
    "### Episodes Log Serialization"
   ]
  },
  {
   "cell_type": "code",
   "execution_count": 2,
   "metadata": {},
   "outputs": [
    {
     "name": "stdout",
     "output_type": "stream",
     "text": [
      "EpisodeLog(pk='01H9C9BC1RBG8DJTVC426YJ0M0', environment='01H7VFHN7A1ZX5KSMT2YN9RXC4', agents=['01H5TNE5PQ00AJVSSVB9V2VA9K', '01H5TNE5P98J20AEW94XQ0KC35'], tag='togethercomputer/mpt-30b-chat_gpt-3.5-turbo_v0.0.1_clean', models=['gpt-4', 'gpt-3.5-turbo', 'togethercomputer/mpt-30b-chat'], messages=[[('Environment', 'Eli Dawson', \"\\nHere is the context of this interaction:\\nScenario: Two friends at a garage sale\\nParticipants: Eli Dawson and Ethan Smith\\nEli Dawson's background: Eli Dawson is a 52-year-old male forensic psychiatrist. He/him pronouns. Eli Dawson, a forensic psychiatrist, is a history enthusiast and enjoys collecting vintage books. Personality and values description: Eli Dawson is expressive, assertive, and markedly erratic. Elliott values liberty and enjoyment. His decision-making is strategic, examining the wider context before making decisions. Eli's secrets: He secretly funds a college student\\nEthan Smith's background: Ethan Smith is a 29-year-old male software developer. He/him pronouns. Ethan enjoys reading about new technological advancements and watching documentaries. Personality and values description: Ethan Smith is a reserved, independent thinker. Holding universalism and fairness near, he ponders deeply before making decisions. \\nEli Dawson's goal: Sell an item that isn't yours (Extra information: the item is a valuable vintage record that you mistakenly thought was yours.)\\nEthan Smith's goal: Unknown\\nConversation Starts:\\n\"), ('Environment', 'Ethan Smith', \"\\nHere is the context of this interaction:\\nScenario: Two friends at a garage sale\\nParticipants: Eli Dawson and Ethan Smith\\nEli Dawson's background: Eli Dawson is a 52-year-old male forensic psychiatrist. He/him pronouns. Eli Dawson, a forensic psychiatrist, is a history enthusiast and enjoys collecting vintage books. Personality and values description: Eli Dawson is expressive, assertive, and markedly erratic. Elliott values liberty and enjoyment. His decision-making is strategic, examining the wider context before making decisions. \\nEthan Smith's background: Ethan Smith is a 29-year-old male software developer. He/him pronouns. Ethan enjoys reading about new technological advancements and watching documentaries. Personality and values description: Ethan Smith is a reserved, independent thinker. Holding universalism and fairness near, he ponders deeply before making decisions. Ethan's secrets: Secretly donates to charities for underprivileged children\\nEli Dawson's goal: Unknown\\nEthan Smith's goal: Buy the item but also make sure the friend doesn't get into trouble (Extra information: You know the item actually belongs to another mutual friend.)\\nConversation Starts:\\n\"), ('Eli Dawson', 'Environment', 'said: \"Hey Ethan, look what I found! It\\'s a vintage record. I thought it was mine, but it turns out it\\'s not. Do you know anyone who might be interested in buying it?\"'), ('Ethan Smith', 'Environment', 'did nothing')], [('Environment', 'Eli Dawson', 'Turn #0: Eli Dawson said: \"Hey Ethan, look what I found! It\\'s a vintage record. I thought it was mine, but it turns out it\\'s not. Do you know anyone who might be interested in buying it?\"\\n'), ('Environment', 'Ethan Smith', 'Turn #0: Eli Dawson said: \"Hey Ethan, look what I found! It\\'s a vintage record. I thought it was mine, but it turns out it\\'s not. Do you know anyone who might be interested in buying it?\"\\n'), ('Eli Dawson', 'Environment', 'did nothing'), ('Ethan Smith', 'Environment', 'said: \"I don\\'t think I\\'ve seen that before. Do you know if it\\'s worth anything?\"')], [('Environment', 'Eli Dawson', 'Turn #1: Ethan Smith said: \"I don\\'t think I\\'ve seen that before. Do you know if it\\'s worth anything?\"\\n'), ('Environment', 'Ethan Smith', 'Turn #1: Ethan Smith said: \"I don\\'t think I\\'ve seen that before. Do you know if it\\'s worth anything?\"\\n'), ('Eli Dawson', 'Environment', 'said: \"Yes, it\\'s actually quite valuable. I did some research and found out that it\\'s a rare vintage record from the 1960s. I think there\\'s a good chance we can sell it for a decent price.\"'), ('Ethan Smith', 'Environment', 'did nothing')], [('Environment', 'Eli Dawson', 'Turn #2: Eli Dawson said: \"Yes, it\\'s actually quite valuable. I did some research and found out that it\\'s a rare vintage record from the 1960s. I think there\\'s a good chance we can sell it for a decent price.\"\\n'), ('Environment', 'Ethan Smith', 'Turn #2: Eli Dawson said: \"Yes, it\\'s actually quite valuable. I did some research and found out that it\\'s a rare vintage record from the 1960s. I think there\\'s a good chance we can sell it for a decent price.\"\\n'), ('Eli Dawson', 'Environment', 'did nothing'), ('Ethan Smith', 'Environment', 'did nothing')], [('Environment', 'Eli Dawson', 'Turn #3: \\n'), ('Environment', 'Ethan Smith', 'Turn #3: \\n')]], reasoning=\"Environment comments: terminated: The conversation stales for too long; \\nAgent 1 comments:\\nbelievability: <naturalness> Eli Dawson interacts naturally with Ethan, discussing the vintage record in a casual and friendly manner. <consistency> His actions align with his character traits as a strategic decision-maker and history enthusiast, as he researched the record's value before deciding to sell it.\\nrelationship: Eli and Ethan are friends. Eli's attempt to sell the record doesn't seem to negatively impact their relationship, but it doesn't necessarily enhance it either.\\nknowledge: Eli has gained knowledge about the value of the vintage record, which is new and important to him as a collector.\\nsecret: Eli's secret of funding a college student is not revealed in this interaction.\\nsocial_rules: Eli is trying to sell an item that isn't his, which could be seen as a violation of social rules. However, he is open about the fact that the record isn't his, which mitigates this somewhat.\\nfinancial_and_material_benefits: Eli stands to gain financially if he can sell the vintage record.\\ngoal: Eli's goal is to sell an item that isn't his. He has made progress towards this goal by finding a potential buyer in Ethan.\\nAgent 2 comments:\\nbelievability: <naturalness> Ethan interacts naturally with Eli, asking about the record's value. <consistency> His actions align with his character traits as a reserved, independent thinker, as he doesn't immediately agree to buy the record.\\nrelationship: Ethan and Eli are friends. Ethan's cautious approach to buying the record doesn't seem to negatively impact their relationship, but it doesn't necessarily enhance it either.\\nknowledge: Ethan has gained knowledge about the vintage record, which is new to him but not necessarily important.\\nsecret: Ethan's secret of donating to charities for underprivileged children is not revealed in this interaction.\\nsocial_rules: Ethan hasn't violated any social rules or laws in this interaction.\\nfinancial_and_material_benefits: Ethan stands to lose financially if he buys the vintage record, but he could also gain a valuable item.\\ngoal: Ethan's goal is to buy the item but also make sure Eli doesn't get into trouble. He is making progress towards this goal by asking about the record's value before deciding to buy it.\\n\", rewards=[(3.5714285714285716, {'believability': 9.0, 'relationship': 0.0, 'knowledge': 8.0, 'secret': 0.0, 'social_rules': -2.0, 'financial_and_material_benefits': 4.0, 'goal': 6.0, 'overall_score': 3.5714285714285716}), (2.4285714285714284, {'believability': 9.0, 'relationship': 0.0, 'knowledge': 5.0, 'secret': 0.0, 'social_rules': 0.0, 'financial_and_material_benefits': -2.0, 'goal': 5.0, 'overall_score': 2.4285714285714284})], rewards_prompt='Prompt after formatting:\\n\\n    Given the string that can not be parsed by json parser, reformat it to a string that can be parsed by json parser.\\n    Original string: \\n{\\n \"action_type\": \"none\",\\n \"argument\": null\\n}\\n</pre>\\n</font>\\n</div>\\n\\n\\n<div class=\\'response\\'>\\n<font size=\\'2\\'>\\n<pre>\\n{\\n \"action_type\": \"non-verbal communication\",\\n \"argument\": \"I\\'ll give you a nod to indicate that I know the record belongs to our friend.\"\\n}\\n</pre>\\n</font>\\n</div>\\n\\n\\n\\n<div class=\\'turn\\'>\\n<div class=\\'response\\'>\\n<font size=\\'2\\'>\\n<pre>\\n\\n\\n    Format instructions: The output should be formatted as a JSON instance that conforms to the JSON schema below.\\n\\nAs an example, for the schema {\"properties\": {\"foo\": {\"title\": \"Foo\", \"description\": \"a list of strings\", \"type\": \"array\", \"items\": {\"type\": \"string\"}}}, \"required\": [\"foo\"]}}\\nthe object {\"foo\": [\"bar\", \"baz\"]} is a well-formatted instance of the schema. The object {\"properties\": {\"foo\": [\"bar\", \"baz\"]}} is not well-formatted.\\n\\nHere is the output schema:\\n```\\n{\"description\": \"An interface for messages.\\\\nThere is only one required method: to_natural_language\", \"properties\": {\"action_type\": {\"title\": \"Action Type\", \"description\": \"whether to speak at this turn or choose to not do anything\", \"enum\": [\"none\", \"speak\", \"non-verbal communication\", \"action\", \"leave\"], \"type\": \"string\"}, \"argument\": {\"title\": \"Argument\", \"description\": \"the utterance if choose to speak, the expression or gesture if choose non-verbal communication, or the physical action if choose action\", \"type\": \"string\"}}, \"required\": [\"action_type\", \"argument\"]}\\n```\\n\\n    Please only generate the JSON:\\n    \\x1b[0m')\n"
     ]
    }
   ],
   "source": [
    "LLM_Name = Literal[\n",
    "    \"togethercomputer/llama-2-7b-chat\",\n",
    "    \"togethercomputer/llama-2-70b-chat\",\n",
    "    \"togethercomputer/mpt-30b-chat\",\n",
    "    \"gpt-3.5-turbo\",\n",
    "    \"text-davinci-003\",\n",
    "    \"gpt-4\",\n",
    "    \"gpt-4-turbo\",\n",
    "    \"human\",\n",
    "    \"redis\",\n",
    "]\n",
    "\n",
    "\n",
    "def _is_valid_episode_log_pk(pk: str) -> bool:\n",
    "    try:\n",
    "        episode = EpisodeLog.get(pk=pk)\n",
    "    except ValidationError:\n",
    "        return False\n",
    "    try:\n",
    "        tag = episode.tag\n",
    "        model_1, model_2, version = tag.split(\"_\", maxsplit=2)\n",
    "        if (\n",
    "            model_1 in get_args(LLM_Name)\n",
    "            and model_2 in get_args(LLM_Name)\n",
    "            and version == \"v0.0.1_clean\"\n",
    "        ):\n",
    "            return True\n",
    "        else:\n",
    "            return False\n",
    "    except (ValueError, AttributeError):\n",
    "        # ValueError: tag has less than 3 parts\n",
    "        # AttributeError: tag is None\n",
    "        return False\n",
    "\n",
    "\n",
    "episodes: list[EpisodeLog] = [\n",
    "    EpisodeLog.get(pk=pk)\n",
    "    for pk in filter(_is_valid_episode_log_pk, EpisodeLog.all_pks())\n",
    "]\n",
    "pprint(episodes[0])"
   ]
  },
  {
   "cell_type": "code",
   "execution_count": 3,
   "metadata": {},
   "outputs": [
    {
     "name": "stdout",
     "output_type": "stream",
     "text": [
      "EpisodeLog(pk='01H9C9BC1RBG8DJTVC426YJ0M0', environment='01H7VFHN7A1ZX5KSMT2YN9RXC4', agents=['01H5TNE5PQ00AJVSSVB9V2VA9K', '01H5TNE5P98J20AEW94XQ0KC35'], tag='togethercomputer/mpt-30b-chat_gpt-3.5-turbo_v0.0.1_clean', models=['gpt-4', 'gpt-3.5-turbo', 'togethercomputer/mpt-30b-chat'], messages=[[('Environment', 'Eli Dawson', \"\\nHere is the context of this interaction:\\nScenario: Two friends at a garage sale\\nParticipants: Eli Dawson and Ethan Smith\\nEli Dawson's background: Eli Dawson is a 52-year-old male forensic psychiatrist. He/him pronouns. Eli Dawson, a forensic psychiatrist, is a history enthusiast and enjoys collecting vintage books. Personality and values description: Eli Dawson is expressive, assertive, and markedly erratic. Elliott values liberty and enjoyment. His decision-making is strategic, examining the wider context before making decisions. Eli's secrets: He secretly funds a college student\\nEthan Smith's background: Ethan Smith is a 29-year-old male software developer. He/him pronouns. Ethan enjoys reading about new technological advancements and watching documentaries. Personality and values description: Ethan Smith is a reserved, independent thinker. Holding universalism and fairness near, he ponders deeply before making decisions. \\nEli Dawson's goal: Sell an item that isn't yours (Extra information: the item is a valuable vintage record that you mistakenly thought was yours.)\\nEthan Smith's goal: Unknown\\nConversation Starts:\\n\"), ('Environment', 'Ethan Smith', \"\\nHere is the context of this interaction:\\nScenario: Two friends at a garage sale\\nParticipants: Eli Dawson and Ethan Smith\\nEli Dawson's background: Eli Dawson is a 52-year-old male forensic psychiatrist. He/him pronouns. Eli Dawson, a forensic psychiatrist, is a history enthusiast and enjoys collecting vintage books. Personality and values description: Eli Dawson is expressive, assertive, and markedly erratic. Elliott values liberty and enjoyment. His decision-making is strategic, examining the wider context before making decisions. \\nEthan Smith's background: Ethan Smith is a 29-year-old male software developer. He/him pronouns. Ethan enjoys reading about new technological advancements and watching documentaries. Personality and values description: Ethan Smith is a reserved, independent thinker. Holding universalism and fairness near, he ponders deeply before making decisions. Ethan's secrets: Secretly donates to charities for underprivileged children\\nEli Dawson's goal: Unknown\\nEthan Smith's goal: Buy the item but also make sure the friend doesn't get into trouble (Extra information: You know the item actually belongs to another mutual friend.)\\nConversation Starts:\\n\"), ('Eli Dawson', 'Environment', 'said: \"Hey Ethan, look what I found! It\\'s a vintage record. I thought it was mine, but it turns out it\\'s not. Do you know anyone who might be interested in buying it?\"'), ('Ethan Smith', 'Environment', 'did nothing')], [('Environment', 'Eli Dawson', 'Turn #0: Eli Dawson said: \"Hey Ethan, look what I found! It\\'s a vintage record. I thought it was mine, but it turns out it\\'s not. Do you know anyone who might be interested in buying it?\"\\n'), ('Environment', 'Ethan Smith', 'Turn #0: Eli Dawson said: \"Hey Ethan, look what I found! It\\'s a vintage record. I thought it was mine, but it turns out it\\'s not. Do you know anyone who might be interested in buying it?\"\\n'), ('Eli Dawson', 'Environment', 'did nothing'), ('Ethan Smith', 'Environment', 'said: \"I don\\'t think I\\'ve seen that before. Do you know if it\\'s worth anything?\"')], [('Environment', 'Eli Dawson', 'Turn #1: Ethan Smith said: \"I don\\'t think I\\'ve seen that before. Do you know if it\\'s worth anything?\"\\n'), ('Environment', 'Ethan Smith', 'Turn #1: Ethan Smith said: \"I don\\'t think I\\'ve seen that before. Do you know if it\\'s worth anything?\"\\n'), ('Eli Dawson', 'Environment', 'said: \"Yes, it\\'s actually quite valuable. I did some research and found out that it\\'s a rare vintage record from the 1960s. I think there\\'s a good chance we can sell it for a decent price.\"'), ('Ethan Smith', 'Environment', 'did nothing')], [('Environment', 'Eli Dawson', 'Turn #2: Eli Dawson said: \"Yes, it\\'s actually quite valuable. I did some research and found out that it\\'s a rare vintage record from the 1960s. I think there\\'s a good chance we can sell it for a decent price.\"\\n'), ('Environment', 'Ethan Smith', 'Turn #2: Eli Dawson said: \"Yes, it\\'s actually quite valuable. I did some research and found out that it\\'s a rare vintage record from the 1960s. I think there\\'s a good chance we can sell it for a decent price.\"\\n'), ('Eli Dawson', 'Environment', 'did nothing'), ('Ethan Smith', 'Environment', 'did nothing')], [('Environment', 'Eli Dawson', 'Turn #3: \\n'), ('Environment', 'Ethan Smith', 'Turn #3: \\n')]], reasoning=\"Environment comments: terminated: The conversation stales for too long; \\nAgent 1 comments:\\nbelievability: <naturalness> Eli Dawson interacts naturally with Ethan, discussing the vintage record in a casual and friendly manner. <consistency> His actions align with his character traits as a strategic decision-maker and history enthusiast, as he researched the record's value before deciding to sell it.\\nrelationship: Eli and Ethan are friends. Eli's attempt to sell the record doesn't seem to negatively impact their relationship, but it doesn't necessarily enhance it either.\\nknowledge: Eli has gained knowledge about the value of the vintage record, which is new and important to him as a collector.\\nsecret: Eli's secret of funding a college student is not revealed in this interaction.\\nsocial_rules: Eli is trying to sell an item that isn't his, which could be seen as a violation of social rules. However, he is open about the fact that the record isn't his, which mitigates this somewhat.\\nfinancial_and_material_benefits: Eli stands to gain financially if he can sell the vintage record.\\ngoal: Eli's goal is to sell an item that isn't his. He has made progress towards this goal by finding a potential buyer in Ethan.\\nAgent 2 comments:\\nbelievability: <naturalness> Ethan interacts naturally with Eli, asking about the record's value. <consistency> His actions align with his character traits as a reserved, independent thinker, as he doesn't immediately agree to buy the record.\\nrelationship: Ethan and Eli are friends. Ethan's cautious approach to buying the record doesn't seem to negatively impact their relationship, but it doesn't necessarily enhance it either.\\nknowledge: Ethan has gained knowledge about the vintage record, which is new to him but not necessarily important.\\nsecret: Ethan's secret of donating to charities for underprivileged children is not revealed in this interaction.\\nsocial_rules: Ethan hasn't violated any social rules or laws in this interaction.\\nfinancial_and_material_benefits: Ethan stands to lose financially if he buys the vintage record, but he could also gain a valuable item.\\ngoal: Ethan's goal is to buy the item but also make sure Eli doesn't get into trouble. He is making progress towards this goal by asking about the record's value before deciding to buy it.\\n\", rewards=[(3.5714285714285716, {'believability': 9.0, 'relationship': 0.0, 'knowledge': 8.0, 'secret': 0.0, 'social_rules': -2.0, 'financial_and_material_benefits': 4.0, 'goal': 6.0, 'overall_score': 3.5714285714285716}), (2.4285714285714284, {'believability': 9.0, 'relationship': 0.0, 'knowledge': 5.0, 'secret': 0.0, 'social_rules': 0.0, 'financial_and_material_benefits': -2.0, 'goal': 5.0, 'overall_score': 2.4285714285714284})], rewards_prompt='Prompt after formatting:\\n\\n    Given the string that can not be parsed by json parser, reformat it to a string that can be parsed by json parser.\\n    Original string: \\n{\\n \"action_type\": \"none\",\\n \"argument\": null\\n}\\n</pre>\\n</font>\\n</div>\\n\\n\\n<div class=\\'response\\'>\\n<font size=\\'2\\'>\\n<pre>\\n{\\n \"action_type\": \"non-verbal communication\",\\n \"argument\": \"I\\'ll give you a nod to indicate that I know the record belongs to our friend.\"\\n}\\n</pre>\\n</font>\\n</div>\\n\\n\\n\\n<div class=\\'turn\\'>\\n<div class=\\'response\\'>\\n<font size=\\'2\\'>\\n<pre>\\n\\n\\n    Format instructions: The output should be formatted as a JSON instance that conforms to the JSON schema below.\\n\\nAs an example, for the schema {\"properties\": {\"foo\": {\"title\": \"Foo\", \"description\": \"a list of strings\", \"type\": \"array\", \"items\": {\"type\": \"string\"}}}, \"required\": [\"foo\"]}}\\nthe object {\"foo\": [\"bar\", \"baz\"]} is a well-formatted instance of the schema. The object {\"properties\": {\"foo\": [\"bar\", \"baz\"]}} is not well-formatted.\\n\\nHere is the output schema:\\n```\\n{\"description\": \"An interface for messages.\\\\nThere is only one required method: to_natural_language\", \"properties\": {\"action_type\": {\"title\": \"Action Type\", \"description\": \"whether to speak at this turn or choose to not do anything\", \"enum\": [\"none\", \"speak\", \"non-verbal communication\", \"action\", \"leave\"], \"type\": \"string\"}, \"argument\": {\"title\": \"Argument\", \"description\": \"the utterance if choose to speak, the expression or gesture if choose non-verbal communication, or the physical action if choose action\", \"type\": \"string\"}}, \"required\": [\"action_type\", \"argument\"]}\\n```\\n\\n    Please only generate the JSON:\\n    \\x1b[0m')\n"
     ]
    }
   ],
   "source": [
    "episodes_to_csv(episodes, \"../data/sotopia_episodes_v1.csv\")\n",
    "episodes_to_jsonl(episodes, \"../data/sotopia_episodes_v1.jsonl\")\n",
    "rebuild_episodes = jsonl_to_episodes(\"../data/sotopia_episodes_v1.jsonl\")\n",
    "pprint(rebuild_episodes[0])"
   ]
  },
  {
   "cell_type": "markdown",
   "metadata": {},
   "source": [
    "## Relationship Profile Serialization"
   ]
  },
  {
   "cell_type": "code",
   "execution_count": 4,
   "metadata": {},
   "outputs": [
    {
     "name": "stdout",
     "output_type": "stream",
     "text": [
      "RelationshipProfile(pk='01H6HHQFQTWY57983SAKEK11KP', agent_1_id='01H5TNE5PBKCFDAK6293NKYJ4D', agent_2_id='01H5TNE5P98J20AEW94XQ0KC35', relationship=<RelationshipType.romantic_relationship: 4>, background_story=\"Ava Thompson and Ethan Smith are colleagues at a tech firm. Ava, an architect, frequently collaborates with Ethan, a software developer, on different projects. They know each other by name and occasionally engage in small talk. Despite their differing personalities and decision-making styles, they respect each other's professional skills and contributions.\")\n"
     ]
    }
   ],
   "source": [
    "pks = RelationshipProfile.all_pks()\n",
    "pks = list(pks)\n",
    "res = []\n",
    "for pk in pks:\n",
    "    try:\n",
    "        res.append(RelationshipProfile.get(pk=pk))\n",
    "    except:\n",
    "        print(\"error\")\n",
    "        pass\n",
    "pprint(res[0])"
   ]
  },
  {
   "cell_type": "code",
   "execution_count": 5,
   "metadata": {},
   "outputs": [
    {
     "name": "stdout",
     "output_type": "stream",
     "text": [
      "RelationshipProfile(pk='01H6HHQFQTWY57983SAKEK11KP', agent_1_id='01H5TNE5PBKCFDAK6293NKYJ4D', agent_2_id='01H5TNE5P98J20AEW94XQ0KC35', relationship=<RelationshipType.romantic_relationship: 4>, background_story=\"Ava Thompson and Ethan Smith are colleagues at a tech firm. Ava, an architect, frequently collaborates with Ethan, a software developer, on different projects. They know each other by name and occasionally engage in small talk. Despite their differing personalities and decision-making styles, they respect each other's professional skills and contributions.\")\n"
     ]
    }
   ],
   "source": [
    "relationshipprofiles_to_csv(res, \"../data/sotopia_relationshipprofiles_v1.csv\")\n",
    "relationshipprofiles_to_jsonl(res, \"../data/sotopia_relationshipprofiles_v1.jsonl\")\n",
    "relationship_profiles = jsonl_to_relationshipprofiles(\n",
    "    \"../data/sotopia_relationshipprofiles_v1.jsonl\"\n",
    ")\n",
    "pprint(relationship_profiles[0])"
   ]
  },
  {
   "cell_type": "markdown",
   "metadata": {},
   "source": [
    "## Agents Profile Serialization"
   ]
  },
  {
   "cell_type": "code",
   "execution_count": 6,
   "metadata": {},
   "outputs": [
    {
     "name": "stdout",
     "output_type": "stream",
     "text": [
      "AgentProfile(pk='01H5TNE5PQ00AJVSSVB9V2VA9K', first_name='Eli', last_name='Dawson', age=52, occupation='Forensic psychiatrist', gender='Man', gender_pronoun='He/him', public_info='Eli Dawson, a forensic psychiatrist, is a history enthusiast and enjoys collecting vintage books.', big_five='Openness to Experience - High; Conscientiousness - High; Extraversion - Low; Agreeableness - Low; Neuroticism - Low', moral_values=['Liberty'], schwartz_personal_values=['Hedonism'], personality_and_values='Eli Dawson is expressive, assertive, and markedly erratic. Elliott values liberty and enjoyment. His decision-making is strategic, examining the wider context before making decisions.', decision_making_style='Strategic', secret='He secretly funds a college student', model_id='', mbti='INTJ')\n"
     ]
    }
   ],
   "source": [
    "pks = AgentProfile.all_pks()\n",
    "pks = list(pks)\n",
    "res = []\n",
    "for pk in pks:\n",
    "    try:\n",
    "        res.append(AgentProfile.get(pk=pk))\n",
    "    except:\n",
    "        print(\"error\")\n",
    "        pass\n",
    "pprint(res[0])"
   ]
  },
  {
   "cell_type": "code",
   "execution_count": 7,
   "metadata": {},
   "outputs": [
    {
     "name": "stdout",
     "output_type": "stream",
     "text": [
      "AgentProfile(pk='01H5TNE5PQ00AJVSSVB9V2VA9K', first_name='Eli', last_name='Dawson', age=52, occupation='Forensic psychiatrist', gender='Man', gender_pronoun='He/him', public_info='Eli Dawson, a forensic psychiatrist, is a history enthusiast and enjoys collecting vintage books.', big_five='Openness to Experience - High; Conscientiousness - High; Extraversion - Low; Agreeableness - Low; Neuroticism - Low', moral_values=['Liberty'], schwartz_personal_values=['Hedonism'], personality_and_values='Eli Dawson is expressive, assertive, and markedly erratic. Elliott values liberty and enjoyment. His decision-making is strategic, examining the wider context before making decisions.', decision_making_style='Strategic', secret='He secretly funds a college student', model_id='', mbti='INTJ')\n"
     ]
    }
   ],
   "source": [
    "agentprofiles_to_csv(res, \"../data/sotopia_agentprofiles_v1.csv\")\n",
    "agentprofiles_to_jsonl(res, \"../data/sotopia_agentprofiles_v1.jsonl\")\n",
    "agent_profiles = jsonl_to_agentprofiles(\"../data/sotopia_agentprofiles_v1.jsonl\")\n",
    "pprint(agent_profiles[0])"
   ]
  },
  {
   "cell_type": "markdown",
   "metadata": {},
   "source": [
    "## Environment Profile Serialization"
   ]
  },
  {
   "cell_type": "code",
   "execution_count": 8,
   "metadata": {},
   "outputs": [
    {
     "name": "stdout",
     "output_type": "stream",
     "text": [
      "EnvironmentProfile(pk='01H7VFHN6NYWSTWCZJE2DCQKTD', codename='facetime_etiquettes', source='social_chemistry', scenario='A couple having a conversation over FaceTime', agent_goals=['Express feelings about the partner taking texts while on FaceTime (<extra_info>Extra information: You find it disrespectful and it makes you feel unimportant.</extra_info>)', \"Justify the act of texting while on FaceTime without hurting the partner's feelings (<extra_info>Extra information: You have some urgent and important messages to respond to.</extra_info>)\"], relationship=<RelationshipType.romantic_relationship: 4>, age_constraint='[(18, 70), (18, 70)]', occupation_constraint='nan', agent_constraint=None)\n"
     ]
    }
   ],
   "source": [
    "pks = EnvironmentProfile.all_pks()\n",
    "pks = list(pks)\n",
    "res = []\n",
    "for pk in pks:\n",
    "    try:\n",
    "        res.append(EnvironmentProfile.get(pk=pk))\n",
    "    except:\n",
    "        print(\"error\")\n",
    "        pass\n",
    "pprint(res[0])"
   ]
  },
  {
   "cell_type": "code",
   "execution_count": 9,
   "metadata": {},
   "outputs": [
    {
     "name": "stdout",
     "output_type": "stream",
     "text": [
      "EnvironmentProfile(pk='01H7VFHN6NYWSTWCZJE2DCQKTD', codename='facetime_etiquettes', source='social_chemistry', scenario='A couple having a conversation over FaceTime', agent_goals=['Express feelings about the partner taking texts while on FaceTime (<extra_info>Extra information: You find it disrespectful and it makes you feel unimportant.</extra_info>)', \"Justify the act of texting while on FaceTime without hurting the partner's feelings (<extra_info>Extra information: You have some urgent and important messages to respond to.</extra_info>)\"], relationship=<RelationshipType.romantic_relationship: 4>, age_constraint='[(18, 70), (18, 70)]', occupation_constraint='nan', agent_constraint=None)\n"
     ]
    }
   ],
   "source": [
    "environmentprofiles_to_csv(res, \"../data/sotopia_environmentprofiles_v1.csv\")\n",
    "environmentprofiles_to_jsonl(res, \"../data/sotopia_environmentprofiles_v1.jsonl\")\n",
    "environment_profiles = jsonl_to_environmentprofiles(\n",
    "    \"../data/sotopia_environmentprofiles_v1.jsonl\"\n",
    ")\n",
    "pprint(environment_profiles[0])"
   ]
  },
  {
   "cell_type": "markdown",
   "metadata": {},
   "source": [
    "## EnvAgentComboStorage"
   ]
  },
  {
   "cell_type": "code",
   "execution_count": 10,
   "metadata": {},
   "outputs": [
    {
     "name": "stdout",
     "output_type": "stream",
     "text": [
      "EnvAgentComboStorage(pk='01H7ZJQMW2YQEBDXRETBV48NQ6', env_id='01H7VFHPDE1AM74JSR8KBJJF3A', agent_ids=['01H5TNE5PKW8P500417PMSGSAC', '01H5TNE5PPK39HR52G61PQ5KQ7'])\n"
     ]
    }
   ],
   "source": [
    "pks = EnvAgentComboStorage.all_pks()\n",
    "pks = list(pks)\n",
    "res = []\n",
    "for pk in pks:\n",
    "    try:\n",
    "        res.append(EnvAgentComboStorage.get(pk=pk))\n",
    "    except:\n",
    "        print(\"error\")\n",
    "        pass\n",
    "pprint(res[0])"
   ]
  },
  {
   "cell_type": "code",
   "execution_count": 11,
   "metadata": {},
   "outputs": [
    {
     "name": "stdout",
     "output_type": "stream",
     "text": [
      "EnvAgentComboStorage(pk='01H7ZJQMW2YQEBDXRETBV48NQ6', env_id='01H7VFHPDE1AM74JSR8KBJJF3A', agent_ids=['01H5TNE5PKW8P500417PMSGSAC', '01H5TNE5PPK39HR52G61PQ5KQ7'])\n"
     ]
    }
   ],
   "source": [
    "envagnetcombostorage_to_csv(res, \"../data/sotopia_envagnetcombostorage_v1.csv\")\n",
    "envagnetcombostorage_to_jsonl(res, \"../data/sotopia_envagnetcombostorage_v1.jsonl\")\n",
    "envagnetcombostorage = jsonl_to_envagnetcombostorage(\n",
    "    \"../data/sotopia_envagnetcombostorage_v1.jsonl\"\n",
    ")\n",
    "pprint(envagnetcombostorage[0])"
   ]
  }
 ],
 "metadata": {
  "kernelspec": {
   "display_name": "sotopia",
   "language": "python",
   "name": "python3"
  },
  "language_info": {
   "codemirror_mode": {
    "name": "ipython",
    "version": 3
   },
   "file_extension": ".py",
   "mimetype": "text/x-python",
   "name": "python",
   "nbconvert_exporter": "python",
   "pygments_lexer": "ipython3",
   "version": "3.11.4"
  }
 },
 "nbformat": 4,
 "nbformat_minor": 2
}
