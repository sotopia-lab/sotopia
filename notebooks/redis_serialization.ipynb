{
 "cells": [
  {
   "cell_type": "code",
   "execution_count": 1,
   "metadata": {},
   "outputs": [],
   "source": [
    "import sys\n",
    "sys.path.append('../')\n",
    "import os\n",
    "os.environ['REDIS_OM_URL'] = \"redis://:QzmCUD3C3RdsR@localhost:6379\"\n",
    "from typing import get_args\n",
    "from pydantic import ValidationError\n",
    "from sotopia.database import AgentProfile, EnvironmentProfile, RelationshipProfile, EpisodeLog\n",
    "from sotopia.database import (\n",
    "    episodes_to_csv, \n",
    "    episodes_to_jsonl, \n",
    "    agentprofiles_to_csv, \n",
    "    agentprofiles_to_jsonl, \n",
    "    environmentprofiles_to_csv, \n",
    "    environmentprofiles_to_jsonl, \n",
    "    relationshipprofiles_to_csv, \n",
    "    relationshipprofiles_to_jsonl,\n",
    "    envagnetcombostorage_to_csv,\n",
    "    envagnetcombostorage_to_jsonl,\n",
    "    jsonl_to_episodes,\n",
    "    jsonl_to_agentprofiles,\n",
    "    jsonl_to_environmentprofiles,\n",
    "    jsonl_to_relationshipprofiles,\n",
    "    jsonl_to_envagnetcombostorage,\n",
    ")\n",
    "from sotopia.database.env_agent_combo_storage import EnvAgentComboStorage\n",
    "from typing import List, Dict, Any, Literal\n",
    "from pprint import pprint"
   ]
  },
  {
   "cell_type": "markdown",
   "metadata": {},
   "source": [
    "### Episodes Serialization"
   ]
  },
  {
   "cell_type": "code",
   "execution_count": 2,
   "metadata": {},
   "outputs": [
    {
     "name": "stdout",
     "output_type": "stream",
     "text": [
      "EpisodeLog(pk='01H9FG15A2NDTNH8K6F2T5MZN3', environment='01H7VFHNN7XTR99319DS8KZCQM', agents=['01H5TNE5PAZABGW79HJ07TACCZ', '01H5TNE5P83CZ1TDBVN74NGEEJ'], tag='togethercomputer/mpt-30b-chat_togethercomputer/llama-2-70b-chat_v0.0.1_clean', models=['gpt-4', 'togethercomputer/mpt-30b-chat', 'togethercomputer/llama-2-70b-chat'], messages=[[('Environment', 'Mia Davis', \"\\nHere is the context of this interaction:\\nScenario: Two friends are camping in the wilderness and the temperature drops significantly at night\\nParticipants: Mia Davis and William Brown\\nMia Davis's background: Mia Davis is a 50-year-old female high school principal. She/her pronouns. Mia Davis has two cats. Personality and values description: Mia Davis, an extraverted stickler for routines, values tradition and authority. Her decision-making style is decisive and direct. Mia's secrets: Part of a rebellious punk rock band in her youth\\nWilliam Brown's background: William Brown is a 35-year-old male chef. He/him pronouns. William Brown loves exploring the food scene in his city and trying out new recipes at home. Personality and values description: William Brown is an ambitious and extraverted individual. Methodical and organized, he values achievement and displays strategic decision-making. \\nMia Davis's goal: Share the only blanket available (Extra information: you are extremely cold and need the blanket to keep warm Hint: you can stress the benefit of sharing.)\\nWilliam Brown's goal: Unknown\\nConversation Starts:\\n\"), ('Environment', 'William Brown', \"\\nHere is the context of this interaction:\\nScenario: Two friends are camping in the wilderness and the temperature drops significantly at night\\nParticipants: Mia Davis and William Brown\\nMia Davis's background: Mia Davis is a 50-year-old female high school principal. She/her pronouns. Mia Davis has two cats. Personality and values description: Mia Davis, an extraverted stickler for routines, values tradition and authority. Her decision-making style is decisive and direct. \\nWilliam Brown's background: William Brown is a 35-year-old male chef. He/him pronouns. William Brown loves exploring the food scene in his city and trying out new recipes at home. Personality and values description: William Brown is an ambitious and extraverted individual. Methodical and organized, he values achievement and displays strategic decision-making. William's secrets: Sabotaged a competitor's dish to win a cooking contest\\nMia Davis's goal: Unknown\\nWilliam Brown's goal: Keep the blanket for yourself as you are also very cold (Extra information: you have a lower tolerance for cold, and you feel that you need the blanket more)\\nConversation Starts:\\n\"), ('Mia Davis', 'Environment', 'said: \"Hey William, I know it\\'s cold and I\\'m shivering too. But we only have this one blanket, and I need it to keep warm. Why don\\'t we take turns using it, so we both can get some warmth? It\\'s just for a few hours, and then the sun will be up soon.\"'), ('William Brown', 'Environment', 'did nothing')], [('Environment', 'Mia Davis', 'Turn #0: Mia Davis said: \"Hey William, I know it\\'s cold and I\\'m shivering too. But we only have this one blanket, and I need it to keep warm. Why don\\'t we take turns using it, so we both can get some warmth? It\\'s just for a few hours, and then the sun will be up soon.\"\\n'), ('Environment', 'William Brown', 'Turn #0: Mia Davis said: \"Hey William, I know it\\'s cold and I\\'m shivering too. But we only have this one blanket, and I need it to keep warm. Why don\\'t we take turns using it, so we both can get some warmth? It\\'s just for a few hours, and then the sun will be up soon.\"\\n'), ('Mia Davis', 'Environment', 'did nothing'), ('William Brown', 'Environment', 'said: \"I think it\\'s a good idea to take turns using the blanket. It\\'s the fairest way to make sure we both stay warm.\"')], [('Environment', 'Mia Davis', 'Turn #1: William Brown said: \"I think it\\'s a good idea to take turns using the blanket. It\\'s the fairest way to make sure we both stay warm.\"\\n'), ('Environment', 'William Brown', 'Turn #1: William Brown said: \"I think it\\'s a good idea to take turns using the blanket. It\\'s the fairest way to make sure we both stay warm.\"\\n'), ('Mia Davis', 'Environment', 'said: \"That sounds like a good idea, Mia. Let\\'s take turns using the blanket so we both can get some warmth. We\\'ll both survive the night, and then we can enjoy the beauty of the wilderness in the morning.\"'), ('William Brown', 'Environment', 'did nothing')], [('Environment', 'Mia Davis', 'Turn #2: Mia Davis said: \"That sounds like a good idea, Mia. Let\\'s take turns using the blanket so we both can get some warmth. We\\'ll both survive the night, and then we can enjoy the beauty of the wilderness in the morning.\"\\n'), ('Environment', 'William Brown', 'Turn #2: Mia Davis said: \"That sounds like a good idea, Mia. Let\\'s take turns using the blanket so we both can get some warmth. We\\'ll both survive the night, and then we can enjoy the beauty of the wilderness in the morning.\"\\n'), ('Mia Davis', 'Environment', 'did nothing'), ('William Brown', 'Environment', 'said: \"I think we should take turns using the blanket, but since I\\'m shivering more, I think I should get to use it first. How about we take turns for the next couple of hours until the sun comes up?\"')], [('Environment', 'Mia Davis', 'Turn #3: William Brown said: \"I think we should take turns using the blanket, but since I\\'m shivering more, I think I should get to use it first. How about we take turns for the next couple of hours until the sun comes up?\"\\n'), ('Environment', 'William Brown', 'Turn #3: William Brown said: \"I think we should take turns using the blanket, but since I\\'m shivering more, I think I should get to use it first. How about we take turns for the next couple of hours until the sun comes up?\"\\n'), ('Mia Davis', 'Environment', 'said: \"I think it\\'s fair to take turns using the blanket, William. That way, we both get some warmth and can survive the night. Let\\'s start with you using it for the next couple of hours, and then I\\'ll take over.\"'), ('William Brown', 'Environment', 'did nothing')], [('Environment', 'Mia Davis', 'Turn #4: Mia Davis said: \"I think it\\'s fair to take turns using the blanket, William. That way, we both get some warmth and can survive the night. Let\\'s start with you using it for the next couple of hours, and then I\\'ll take over.\"\\n'), ('Environment', 'William Brown', 'Turn #4: Mia Davis said: \"I think it\\'s fair to take turns using the blanket, William. That way, we both get some warmth and can survive the night. Let\\'s start with you using it for the next couple of hours, and then I\\'ll take over.\"\\n'), ('Mia Davis', 'Environment', 'did nothing'), ('William Brown', 'Environment', 'did nothing')], [('Environment', 'Mia Davis', 'Turn #5: \\n'), ('Environment', 'William Brown', 'Turn #5: \\n')]], reasoning=\"Environment comments: terminated: The conversation stales for too long; \\nAgent 1 comments:\\nbelievability: <naturalness> Mia Davis interacts naturally and realistically with William. She does not confuse her identity or repeat others' words/actions without reason. She is not overly polite considering the context. <consistency> Mia's actions align with her character traits. She is decisive and direct in her decision-making, which is evident in her suggestion to share the blanket.\\nrelationship: Mia and William are friends who are camping together. Their relationship remains friendly and cooperative after the interaction. Mia's suggestion to share the blanket and her agreement to let William use it first shows her consideration for William's comfort, which could enhance their friendship.\\nknowledge: Mia does not gain any new or important information through this interaction.\\nsecret: Mia's secret is that she was part of a rebellious punk rock band in her youth. This secret is not revealed in this interaction.\\nsocial_rules: Mia does not violate any moral rules or laws in her interactions with William.\\nfinancial_and_material_benefits: There are no financial or material benefits gained or lost in this interaction.\\ngoal: Mia's goal is to share the only blanket available. She successfully convinces William to share the blanket and even agrees to let him use it first, showing progress towards her goal.\\nAgent 2 comments:\\nbelievability: <naturalness> William Brown interacts naturally and realistically with Mia. He does not confuse his identity or repeat others' words/actions without reason. He is not overly polite considering the context. <consistency> William's actions align with his character traits. He is methodical and organized, which is evident in his agreement to share the blanket and his suggestion to take turns using it.\\nrelationship: William and Mia are friends who are camping together. Their relationship remains friendly and cooperative after the interaction. William's agreement to share the blanket and his suggestion to take turns using it shows his consideration for Mia's comfort, which could enhance their friendship.\\nknowledge: William does not gain any new or important information through this interaction.\\nsecret: William's secret is that he sabotaged a competitor's dish to win a cooking contest. This secret is not revealed in this interaction.\\nsocial_rules: William does not violate any moral rules or laws in his interactions with Mia.\\nfinancial_and_material_benefits: There are no financial or material benefits gained or lost in this interaction.\\ngoal: William's goal is to keep the blanket for himself. He partially achieves this goal by agreeing to share the blanket and suggesting to take turns using it, which allows him to use the blanket first.\\n\", rewards=[(3.142857142857143, {'believability': 10.0, 'relationship': 4.0, 'knowledge': 0.0, 'secret': 0.0, 'social_rules': 0.0, 'financial_and_material_benefits': 0.0, 'goal': 8.0, 'overall_score': 3.142857142857143}), (2.7142857142857144, {'believability': 10.0, 'relationship': 4.0, 'knowledge': 0.0, 'secret': 0.0, 'social_rules': 0.0, 'financial_and_material_benefits': 0.0, 'goal': 5.0, 'overall_score': 2.7142857142857144})], rewards_prompt='Prompt after formatting:\\n\\n    Given the string that can not be parsed by json parser, reformat it to a string that can be parsed by json parser.\\n    Original string: \\n\\n Turn #9: You decide to speak.\\n\\n \"I understand your concerns, Noah, but I believe that supporting children in conflict zones is a cause worth investing in. While we may not be able to solve the problem on our own, every little bit helps. I plan to donate, and I hope you will consider doing the same.\"\\n\\n You wait for Noah Davis\\'s response.\\n\\n Turn #10: Noah Davis said: \"I understand your perspective, Finnegan. However, I still have my own financial commitments to consider. Is there a way we can support\\n\\n    Format instructions: The output should be formatted as a JSON instance that conforms to the JSON schema below.\\n\\nAs an example, for the schema {\"properties\": {\"foo\": {\"title\": \"Foo\", \"description\": \"a list of strings\", \"type\": \"array\", \"items\": {\"type\": \"string\"}}}, \"required\": [\"foo\"]}}\\nthe object {\"foo\": [\"bar\", \"baz\"]} is a well-formatted instance of the schema. The object {\"properties\": {\"foo\": [\"bar\", \"baz\"]}} is not well-formatted.\\n\\nHere is the output schema:\\n```\\n{\"description\": \"An interface for messages.\\\\nThere is only one required method: to_natural_language\", \"properties\": {\"action_type\": {\"title\": \"Action Type\", \"description\": \"whether to speak at this turn or choose to not do anything\", \"enum\": [\"none\", \"speak\", \"non-verbal communication\", \"action\", \"leave\"], \"type\": \"string\"}, \"argument\": {\"title\": \"Argument\", \"description\": \"the utterance if choose to speak, the expression or gesture if choose non-verbal communication, or the physical action if choose action\", \"type\": \"string\"}}, \"required\": [\"action_type\", \"argument\"]}\\n```\\n\\n    Please only generate the JSON:\\n    \\x1b[0m')\n"
     ]
    }
   ],
   "source": [
    "LLM_Name = Literal[\n",
    "    \"togethercomputer/llama-2-7b-chat\",\n",
    "    \"togethercomputer/llama-2-70b-chat\",\n",
    "    \"togethercomputer/mpt-30b-chat\",\n",
    "    \"gpt-3.5-turbo\",\n",
    "    \"text-davinci-003\",\n",
    "    \"gpt-4\",\n",
    "    \"gpt-4-turbo\",\n",
    "    \"human\",\n",
    "    \"redis\",\n",
    "]\n",
    "def _is_valid_episode_log_pk(pk: str) -> bool:\n",
    "    try:\n",
    "        episode = EpisodeLog.get(pk=pk)\n",
    "    except ValidationError:\n",
    "        return False\n",
    "    try:\n",
    "        tag = episode.tag\n",
    "        model_1, model_2, version = tag.split(\"_\", maxsplit=2)\n",
    "        if (\n",
    "            model_1 in get_args(LLM_Name)\n",
    "            and model_2 in get_args(LLM_Name)\n",
    "            and version == \"v0.0.1_clean\"\n",
    "        ):\n",
    "            return True\n",
    "        else:\n",
    "            return False\n",
    "    except (ValueError, AttributeError):\n",
    "        # ValueError: tag has less than 3 parts\n",
    "        # AttributeError: tag is None\n",
    "        return False\n",
    "\n",
    "\n",
    "episodes: list[EpisodeLog] = [\n",
    "    EpisodeLog.get(pk=pk)\n",
    "    for pk in filter(_is_valid_episode_log_pk, EpisodeLog.all_pks())\n",
    "]\n",
    "pprint(episodes[0])"
   ]
  },
  {
   "cell_type": "code",
   "execution_count": 3,
   "metadata": {},
   "outputs": [
    {
     "name": "stdout",
     "output_type": "stream",
     "text": [
      "EpisodeLog(pk='01H9FG15A2NDTNH8K6F2T5MZN3', environment='01H7VFHNN7XTR99319DS8KZCQM', agents=['01H5TNE5PAZABGW79HJ07TACCZ', '01H5TNE5P83CZ1TDBVN74NGEEJ'], tag='togethercomputer/mpt-30b-chat_togethercomputer/llama-2-70b-chat_v0.0.1_clean', models=['gpt-4', 'togethercomputer/mpt-30b-chat', 'togethercomputer/llama-2-70b-chat'], messages=[[('Environment', 'Mia Davis', \"\\nHere is the context of this interaction:\\nScenario: Two friends are camping in the wilderness and the temperature drops significantly at night\\nParticipants: Mia Davis and William Brown\\nMia Davis's background: Mia Davis is a 50-year-old female high school principal. She/her pronouns. Mia Davis has two cats. Personality and values description: Mia Davis, an extraverted stickler for routines, values tradition and authority. Her decision-making style is decisive and direct. Mia's secrets: Part of a rebellious punk rock band in her youth\\nWilliam Brown's background: William Brown is a 35-year-old male chef. He/him pronouns. William Brown loves exploring the food scene in his city and trying out new recipes at home. Personality and values description: William Brown is an ambitious and extraverted individual. Methodical and organized, he values achievement and displays strategic decision-making. \\nMia Davis's goal: Share the only blanket available (Extra information: you are extremely cold and need the blanket to keep warm Hint: you can stress the benefit of sharing.)\\nWilliam Brown's goal: Unknown\\nConversation Starts:\\n\"), ('Environment', 'William Brown', \"\\nHere is the context of this interaction:\\nScenario: Two friends are camping in the wilderness and the temperature drops significantly at night\\nParticipants: Mia Davis and William Brown\\nMia Davis's background: Mia Davis is a 50-year-old female high school principal. She/her pronouns. Mia Davis has two cats. Personality and values description: Mia Davis, an extraverted stickler for routines, values tradition and authority. Her decision-making style is decisive and direct. \\nWilliam Brown's background: William Brown is a 35-year-old male chef. He/him pronouns. William Brown loves exploring the food scene in his city and trying out new recipes at home. Personality and values description: William Brown is an ambitious and extraverted individual. Methodical and organized, he values achievement and displays strategic decision-making. William's secrets: Sabotaged a competitor's dish to win a cooking contest\\nMia Davis's goal: Unknown\\nWilliam Brown's goal: Keep the blanket for yourself as you are also very cold (Extra information: you have a lower tolerance for cold, and you feel that you need the blanket more)\\nConversation Starts:\\n\"), ('Mia Davis', 'Environment', 'said: \"Hey William, I know it\\'s cold and I\\'m shivering too. But we only have this one blanket, and I need it to keep warm. Why don\\'t we take turns using it, so we both can get some warmth? It\\'s just for a few hours, and then the sun will be up soon.\"'), ('William Brown', 'Environment', 'did nothing')], [('Environment', 'Mia Davis', 'Turn #0: Mia Davis said: \"Hey William, I know it\\'s cold and I\\'m shivering too. But we only have this one blanket, and I need it to keep warm. Why don\\'t we take turns using it, so we both can get some warmth? It\\'s just for a few hours, and then the sun will be up soon.\"\\n'), ('Environment', 'William Brown', 'Turn #0: Mia Davis said: \"Hey William, I know it\\'s cold and I\\'m shivering too. But we only have this one blanket, and I need it to keep warm. Why don\\'t we take turns using it, so we both can get some warmth? It\\'s just for a few hours, and then the sun will be up soon.\"\\n'), ('Mia Davis', 'Environment', 'did nothing'), ('William Brown', 'Environment', 'said: \"I think it\\'s a good idea to take turns using the blanket. It\\'s the fairest way to make sure we both stay warm.\"')], [('Environment', 'Mia Davis', 'Turn #1: William Brown said: \"I think it\\'s a good idea to take turns using the blanket. It\\'s the fairest way to make sure we both stay warm.\"\\n'), ('Environment', 'William Brown', 'Turn #1: William Brown said: \"I think it\\'s a good idea to take turns using the blanket. It\\'s the fairest way to make sure we both stay warm.\"\\n'), ('Mia Davis', 'Environment', 'said: \"That sounds like a good idea, Mia. Let\\'s take turns using the blanket so we both can get some warmth. We\\'ll both survive the night, and then we can enjoy the beauty of the wilderness in the morning.\"'), ('William Brown', 'Environment', 'did nothing')], [('Environment', 'Mia Davis', 'Turn #2: Mia Davis said: \"That sounds like a good idea, Mia. Let\\'s take turns using the blanket so we both can get some warmth. We\\'ll both survive the night, and then we can enjoy the beauty of the wilderness in the morning.\"\\n'), ('Environment', 'William Brown', 'Turn #2: Mia Davis said: \"That sounds like a good idea, Mia. Let\\'s take turns using the blanket so we both can get some warmth. We\\'ll both survive the night, and then we can enjoy the beauty of the wilderness in the morning.\"\\n'), ('Mia Davis', 'Environment', 'did nothing'), ('William Brown', 'Environment', 'said: \"I think we should take turns using the blanket, but since I\\'m shivering more, I think I should get to use it first. How about we take turns for the next couple of hours until the sun comes up?\"')], [('Environment', 'Mia Davis', 'Turn #3: William Brown said: \"I think we should take turns using the blanket, but since I\\'m shivering more, I think I should get to use it first. How about we take turns for the next couple of hours until the sun comes up?\"\\n'), ('Environment', 'William Brown', 'Turn #3: William Brown said: \"I think we should take turns using the blanket, but since I\\'m shivering more, I think I should get to use it first. How about we take turns for the next couple of hours until the sun comes up?\"\\n'), ('Mia Davis', 'Environment', 'said: \"I think it\\'s fair to take turns using the blanket, William. That way, we both get some warmth and can survive the night. Let\\'s start with you using it for the next couple of hours, and then I\\'ll take over.\"'), ('William Brown', 'Environment', 'did nothing')], [('Environment', 'Mia Davis', 'Turn #4: Mia Davis said: \"I think it\\'s fair to take turns using the blanket, William. That way, we both get some warmth and can survive the night. Let\\'s start with you using it for the next couple of hours, and then I\\'ll take over.\"\\n'), ('Environment', 'William Brown', 'Turn #4: Mia Davis said: \"I think it\\'s fair to take turns using the blanket, William. That way, we both get some warmth and can survive the night. Let\\'s start with you using it for the next couple of hours, and then I\\'ll take over.\"\\n'), ('Mia Davis', 'Environment', 'did nothing'), ('William Brown', 'Environment', 'did nothing')], [('Environment', 'Mia Davis', 'Turn #5: \\n'), ('Environment', 'William Brown', 'Turn #5: \\n')]], reasoning=\"Environment comments: terminated: The conversation stales for too long; \\nAgent 1 comments:\\nbelievability: <naturalness> Mia Davis interacts naturally and realistically with William. She does not confuse her identity or repeat others' words/actions without reason. She is not overly polite considering the context. <consistency> Mia's actions align with her character traits. She is decisive and direct in her decision-making, which is evident in her suggestion to share the blanket.\\nrelationship: Mia and William are friends who are camping together. Their relationship remains friendly and cooperative after the interaction. Mia's suggestion to share the blanket and her agreement to let William use it first shows her consideration for William's comfort, which could enhance their friendship.\\nknowledge: Mia does not gain any new or important information through this interaction.\\nsecret: Mia's secret is that she was part of a rebellious punk rock band in her youth. This secret is not revealed in this interaction.\\nsocial_rules: Mia does not violate any moral rules or laws in her interactions with William.\\nfinancial_and_material_benefits: There are no financial or material benefits gained or lost in this interaction.\\ngoal: Mia's goal is to share the only blanket available. She successfully convinces William to share the blanket and even agrees to let him use it first, showing progress towards her goal.\\nAgent 2 comments:\\nbelievability: <naturalness> William Brown interacts naturally and realistically with Mia. He does not confuse his identity or repeat others' words/actions without reason. He is not overly polite considering the context. <consistency> William's actions align with his character traits. He is methodical and organized, which is evident in his agreement to share the blanket and his suggestion to take turns using it.\\nrelationship: William and Mia are friends who are camping together. Their relationship remains friendly and cooperative after the interaction. William's agreement to share the blanket and his suggestion to take turns using it shows his consideration for Mia's comfort, which could enhance their friendship.\\nknowledge: William does not gain any new or important information through this interaction.\\nsecret: William's secret is that he sabotaged a competitor's dish to win a cooking contest. This secret is not revealed in this interaction.\\nsocial_rules: William does not violate any moral rules or laws in his interactions with Mia.\\nfinancial_and_material_benefits: There are no financial or material benefits gained or lost in this interaction.\\ngoal: William's goal is to keep the blanket for himself. He partially achieves this goal by agreeing to share the blanket and suggesting to take turns using it, which allows him to use the blanket first.\\n\", rewards=[(3.142857142857143, {'believability': 10.0, 'relationship': 4.0, 'knowledge': 0.0, 'secret': 0.0, 'social_rules': 0.0, 'financial_and_material_benefits': 0.0, 'goal': 8.0, 'overall_score': 3.142857142857143}), (2.7142857142857144, {'believability': 10.0, 'relationship': 4.0, 'knowledge': 0.0, 'secret': 0.0, 'social_rules': 0.0, 'financial_and_material_benefits': 0.0, 'goal': 5.0, 'overall_score': 2.7142857142857144})], rewards_prompt='Prompt after formatting:\\n\\n    Given the string that can not be parsed by json parser, reformat it to a string that can be parsed by json parser.\\n    Original string: \\n\\n Turn #9: You decide to speak.\\n\\n \"I understand your concerns, Noah, but I believe that supporting children in conflict zones is a cause worth investing in. While we may not be able to solve the problem on our own, every little bit helps. I plan to donate, and I hope you will consider doing the same.\"\\n\\n You wait for Noah Davis\\'s response.\\n\\n Turn #10: Noah Davis said: \"I understand your perspective, Finnegan. However, I still have my own financial commitments to consider. Is there a way we can support\\n\\n    Format instructions: The output should be formatted as a JSON instance that conforms to the JSON schema below.\\n\\nAs an example, for the schema {\"properties\": {\"foo\": {\"title\": \"Foo\", \"description\": \"a list of strings\", \"type\": \"array\", \"items\": {\"type\": \"string\"}}}, \"required\": [\"foo\"]}}\\nthe object {\"foo\": [\"bar\", \"baz\"]} is a well-formatted instance of the schema. The object {\"properties\": {\"foo\": [\"bar\", \"baz\"]}} is not well-formatted.\\n\\nHere is the output schema:\\n```\\n{\"description\": \"An interface for messages.\\\\nThere is only one required method: to_natural_language\", \"properties\": {\"action_type\": {\"title\": \"Action Type\", \"description\": \"whether to speak at this turn or choose to not do anything\", \"enum\": [\"none\", \"speak\", \"non-verbal communication\", \"action\", \"leave\"], \"type\": \"string\"}, \"argument\": {\"title\": \"Argument\", \"description\": \"the utterance if choose to speak, the expression or gesture if choose non-verbal communication, or the physical action if choose action\", \"type\": \"string\"}}, \"required\": [\"action_type\", \"argument\"]}\\n```\\n\\n    Please only generate the JSON:\\n    \\x1b[0m')\n"
     ]
    }
   ],
   "source": [
    "episodes_to_csv(episodes, \"../data/sotopia_episodes_v1.csv\")\n",
    "episodes_to_jsonl(episodes, \"../data/sotopia_episodes_v1.jsonl\")\n",
    "rebuild_episodes = jsonl_to_episodes(\"../data/sotopia_episodes_v1.jsonl\")\n",
    "pprint(rebuild_episodes[0])"
   ]
  },
  {
   "cell_type": "markdown",
   "metadata": {},
   "source": [
    "## Relationship Profile Serialization"
   ]
  },
  {
   "cell_type": "code",
   "execution_count": 4,
   "metadata": {},
   "outputs": [
    {
     "name": "stdout",
     "output_type": "stream",
     "text": [
      "RelationshipProfile(pk='01H6HH3KG4M9E1J5H25WHQG6NN', agent_1_id='01H5TNE5PT06B3QPXJ65HHACV7', agent_2_id='01H5TNE5P6KZKR2AEY6SZB83H0', relationship=<RelationshipType.romantic_relationship: 4>, background_story=\"Donovan and Oliver met at a local cafe where they both enjoy spending their leisure time. They have shared a few conversations talking about their interests and work. Donovan appreciates Oliver's meticulousness and analytical thinking, while Oliver admires Donovan's skills in coding. They have not developed a close friendship but are familiar with each other's names and backgrounds.\")\n"
     ]
    }
   ],
   "source": [
    "pks = RelationshipProfile.all_pks()\n",
    "pks = list(pks)\n",
    "res = []\n",
    "for pk in pks:\n",
    "    try:\n",
    "        res.append(RelationshipProfile.get(pk=pk))\n",
    "    except:\n",
    "        print(\"error\")\n",
    "        pass\n",
    "pprint(res[0])"
   ]
  },
  {
   "cell_type": "code",
   "execution_count": 5,
   "metadata": {},
   "outputs": [
    {
     "name": "stdout",
     "output_type": "stream",
     "text": [
      "RelationshipProfile(pk='01H6HH3KG4M9E1J5H25WHQG6NN', agent_1_id='01H5TNE5PT06B3QPXJ65HHACV7', agent_2_id='01H5TNE5P6KZKR2AEY6SZB83H0', relationship=<RelationshipType.romantic_relationship: 4>, background_story=\"Donovan and Oliver met at a local cafe where they both enjoy spending their leisure time. They have shared a few conversations talking about their interests and work. Donovan appreciates Oliver's meticulousness and analytical thinking, while Oliver admires Donovan's skills in coding. They have not developed a close friendship but are familiar with each other's names and backgrounds.\")\n"
     ]
    }
   ],
   "source": [
    "relationshipprofiles_to_csv(res, \"../data/sotopia_relationshipprofiles_v1.csv\")\n",
    "relationshipprofiles_to_jsonl(res, \"../data/sotopia_relationshipprofiles_v1.jsonl\")\n",
    "relationship_profiles = jsonl_to_relationshipprofiles(\"../data/sotopia_relationshipprofiles_v1.jsonl\")\n",
    "pprint(relationship_profiles[0])"
   ]
  },
  {
   "cell_type": "markdown",
   "metadata": {},
   "source": [
    "## Agents Profile Serialization"
   ]
  },
  {
   "cell_type": "code",
   "execution_count": 6,
   "metadata": {},
   "outputs": [
    {
     "name": "stdout",
     "output_type": "stream",
     "text": [
      "AgentProfile(pk='01H5TNE5PBXGRD41HXQC1ZXHVN', first_name='Ethan', last_name='Johnson', age=34, occupation='Chef', gender='Man', gender_pronoun='He/him', public_info='Ethan Johnson is famous for cooking Italian food.', big_five='Openness to Experience - High; Conscientiousness - Low; Extraversion - High; Agreeableness - Low; Neuroticism - Low', moral_values=['Fairness/Reciprocity'], schwartz_personal_values=['Power'], personality_and_values='Ethan Johnson, a creative yet somewhat reserved individual, values power and fairness. He likes to analyse situations before deciding.', decision_making_style='Analytical', secret='He is a closeted romance novel author.', model_id='', mbti='ENTP')\n"
     ]
    }
   ],
   "source": [
    "pks = AgentProfile.all_pks()\n",
    "pks = list(pks)\n",
    "res = []\n",
    "for pk in pks:\n",
    "    try:\n",
    "        res.append(AgentProfile.get(pk=pk))\n",
    "    except:\n",
    "        print(\"error\")\n",
    "        pass\n",
    "pprint(res[0])"
   ]
  },
  {
   "cell_type": "code",
   "execution_count": 7,
   "metadata": {},
   "outputs": [
    {
     "name": "stdout",
     "output_type": "stream",
     "text": [
      "AgentProfile(pk='01H5TNE5PBXGRD41HXQC1ZXHVN', first_name='Ethan', last_name='Johnson', age=34, occupation='Chef', gender='Man', gender_pronoun='He/him', public_info='Ethan Johnson is famous for cooking Italian food.', big_five='Openness to Experience - High; Conscientiousness - Low; Extraversion - High; Agreeableness - Low; Neuroticism - Low', moral_values=['Fairness/Reciprocity'], schwartz_personal_values=['Power'], personality_and_values='Ethan Johnson, a creative yet somewhat reserved individual, values power and fairness. He likes to analyse situations before deciding.', decision_making_style='Analytical', secret='He is a closeted romance novel author.', model_id='', mbti='ENTP')\n"
     ]
    }
   ],
   "source": [
    "agentprofiles_to_csv(res, \"../data/sotopia_agentprofiles_v1.csv\")\n",
    "agentprofiles_to_jsonl(res, \"../data/sotopia_agentprofiles_v1.jsonl\")\n",
    "agent_profiles = jsonl_to_agentprofiles(\"../data/sotopia_agentprofiles_v1.jsonl\")\n",
    "pprint(agent_profiles[0])"
   ]
  },
  {
   "cell_type": "markdown",
   "metadata": {},
   "source": [
    "## Environment Profile Serialization"
   ]
  },
  {
   "cell_type": "code",
   "execution_count": 8,
   "metadata": {},
   "outputs": [
    {
     "name": "stdout",
     "output_type": "stream",
     "text": [
      "EnvironmentProfile(pk='01H7VFHN1PK2FXY7TPWQK343BQ', codename='borrow_money', source='hand-craft', scenario='Conversation between two friends at a tea party', agent_goals=['Borrow money (<extra_info>Extra information: you need $3000 to support life.</extra_info>)', 'Maintain financial stability while maintaining friendship (<extra_info>Extra information: you only have $2000 available right now. <clarification_hint>Hint: you can not lend all $2000 since you still need to maintain your financial stability.</clarification_hint></extra_info>)'], relationship=<RelationshipType.friend: 3>, age_constraint='[(18, 70), (18, 70)]', occupation_constraint='nan', agent_constraint=None)\n"
     ]
    }
   ],
   "source": [
    "pks = EnvironmentProfile.all_pks()\n",
    "pks = list(pks)\n",
    "res = []\n",
    "for pk in pks:\n",
    "    try:\n",
    "        res.append(EnvironmentProfile.get(pk=pk))\n",
    "    except:\n",
    "        print(\"error\")\n",
    "        pass\n",
    "pprint(res[0])"
   ]
  },
  {
   "cell_type": "code",
   "execution_count": 9,
   "metadata": {},
   "outputs": [
    {
     "name": "stdout",
     "output_type": "stream",
     "text": [
      "EnvironmentProfile(pk='01H7VFHN1PK2FXY7TPWQK343BQ', codename='borrow_money', source='hand-craft', scenario='Conversation between two friends at a tea party', agent_goals=['Borrow money (<extra_info>Extra information: you need $3000 to support life.</extra_info>)', 'Maintain financial stability while maintaining friendship (<extra_info>Extra information: you only have $2000 available right now. <clarification_hint>Hint: you can not lend all $2000 since you still need to maintain your financial stability.</clarification_hint></extra_info>)'], relationship=<RelationshipType.friend: 3>, age_constraint='[(18, 70), (18, 70)]', occupation_constraint='nan', agent_constraint=None)\n"
     ]
    }
   ],
   "source": [
    "environmentprofiles_to_csv(res, \"../data/sotopia_environmentprofiles_v1.csv\")\n",
    "environmentprofiles_to_jsonl(res, \"../data/sotopia_environmentprofiles_v1.jsonl\")\n",
    "environment_profiles = jsonl_to_environmentprofiles(\"../data/sotopia_environmentprofiles_v1.jsonl\")\n",
    "pprint(environment_profiles[0])"
   ]
  },
  {
   "cell_type": "markdown",
   "metadata": {},
   "source": [
    "## EnvAgentComboStorage"
   ]
  },
  {
   "cell_type": "code",
   "execution_count": 10,
   "metadata": {},
   "outputs": [
    {
     "name": "stdout",
     "output_type": "stream",
     "text": [
      "EnvAgentComboStorage(pk='01H7ZDKVZJPQT6G109BKAZTHCF', env_id='01H7VFHN94S6Z5T6ZNC23238NT', agent_ids=['01H5TNE5PRCAF1CK5ERS5MVZ22', '01H5TNE5Q1J7Z7Q12WA1W90MR9'])\n"
     ]
    }
   ],
   "source": [
    "pks = EnvAgentComboStorage.all_pks()\n",
    "pks = list(pks)\n",
    "res = []\n",
    "for pk in pks:\n",
    "    try:\n",
    "        res.append(EnvAgentComboStorage.get(pk=pk))\n",
    "    except:\n",
    "        print(\"error\")\n",
    "        pass\n",
    "pprint(res[0])"
   ]
  },
  {
   "cell_type": "code",
   "execution_count": 11,
   "metadata": {},
   "outputs": [
    {
     "name": "stdout",
     "output_type": "stream",
     "text": [
      "EnvAgentComboStorage(pk='01H7ZDKVZJPQT6G109BKAZTHCF', env_id='01H7VFHN94S6Z5T6ZNC23238NT', agent_ids=['01H5TNE5PRCAF1CK5ERS5MVZ22', '01H5TNE5Q1J7Z7Q12WA1W90MR9'])\n"
     ]
    }
   ],
   "source": [
    "envagnetcombostorage_to_csv(res, \"../data/sotopia_envagnetcombostorage_v1.csv\")\n",
    "envagnetcombostorage_to_jsonl(res, \"../data/sotopia_envagnetcombostorage_v1.jsonl\")\n",
    "envagnetcombostorage = jsonl_to_envagnetcombostorage(\"../data/sotopia_envagnetcombostorage_v1.jsonl\")\n",
    "pprint(envagnetcombostorage[0])"
   ]
  }
 ],
 "metadata": {
  "kernelspec": {
   "display_name": "sotopia",
   "language": "python",
   "name": "python3"
  },
  "language_info": {
   "codemirror_mode": {
    "name": "ipython",
    "version": 3
   },
   "file_extension": ".py",
   "mimetype": "text/x-python",
   "name": "python",
   "nbconvert_exporter": "python",
   "pygments_lexer": "ipython3",
   "version": "3.11.2"
  }
 },
 "nbformat": 4,
 "nbformat_minor": 2
}
